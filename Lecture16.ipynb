{
 "cells": [
  {
   "cell_type": "markdown",
   "metadata": {},
   "source": [
    "# Estimating Treatment Effects (Causality)\n",
    "\n",
    "## Randomized Control Trials"
   ]
  },
  {
   "cell_type": "code",
   "execution_count": 1,
   "metadata": {},
   "outputs": [
    {
     "data": {
      "text/html": [
       "2.131467653201"
      ],
      "text/latex": [
       "2.131467653201"
      ],
      "text/markdown": [
       "2.131467653201"
      ],
      "text/plain": [
       "[1] 2.131468"
      ]
     },
     "metadata": {},
     "output_type": "display_data"
    }
   ],
   "source": [
    "n <- 50\n",
    "set.seed(31255)\n",
    "treat <- 1*(runif(n)<0.5) #generate treatment randomly. treat=1 if received treatment\n",
    "\n",
    "effect <- 2\n",
    "y <- effect*treat + rnorm(n) #generate outcome based on treatment\n",
    "\n",
    "mean(y[treat==1])-mean(y[treat==0])"
   ]
  },
  {
   "cell_type": "markdown",
   "metadata": {},
   "source": [
    "The difference in response, conditional on treatment, provides an estimate of the treatment effect.\n",
    "\n",
    "We can get the same answer by running the regression"
   ]
  },
  {
   "cell_type": "code",
   "execution_count": 2,
   "metadata": {},
   "outputs": [
    {
     "data": {
      "text/plain": [
       "\n",
       "Call:\n",
       "lm(formula = y ~ treat)\n",
       "\n",
       "Residuals:\n",
       "    Min      1Q  Median      3Q     Max \n",
       "-2.9238 -0.7266  0.2067  0.8074  2.4400 \n",
       "\n",
       "Coefficients:\n",
       "            Estimate Std. Error t value Pr(>|t|)    \n",
       "(Intercept)  -0.2153     0.2466  -0.873    0.387    \n",
       "treat         2.1315     0.3237   6.584  3.2e-08 ***\n",
       "---\n",
       "Signif. codes:  0 ‘***’ 0.001 ‘**’ 0.01 ‘*’ 0.05 ‘.’ 0.1 ‘ ’ 1\n",
       "\n",
       "Residual standard error: 1.13 on 48 degrees of freedom\n",
       "Multiple R-squared:  0.4745,\tAdjusted R-squared:  0.4636 \n",
       "F-statistic: 43.35 on 1 and 48 DF,  p-value: 3.197e-08\n"
      ]
     },
     "metadata": {},
     "output_type": "display_data"
    }
   ],
   "source": [
    "lm.fit = lm(y~treat)\n",
    "summary(lm.fit)"
   ]
  },
  {
   "cell_type": "markdown",
   "metadata": {},
   "source": [
    "### With Covariates\n",
    "\n",
    "Suppoer there are other observables that were also related to the response. We can use them to get more accurate estaimtes of the treatment effect\n",
    "\n",
    "Suppose this was the true model\n",
    "$$Y=\\alpha + \\tau W +X + \\epsilon$$\n",
    "\n",
    "but we only estimated the treatment from the difference in the conditional means"
   ]
  },
  {
   "cell_type": "code",
   "execution_count": 3,
   "metadata": {},
   "outputs": [],
   "source": [
    "n <- 1000\n",
    "set.seed(31255)\n",
    "x <- rnorm(n)\n",
    "treat <- 1*(runif(n)<0.5)\n",
    "y <- x + effect*treat + rnorm(n)"
   ]
  },
  {
   "cell_type": "code",
   "execution_count": 4,
   "metadata": {},
   "outputs": [
    {
     "data": {
      "text/html": [
       "1.97219181458939"
      ],
      "text/latex": [
       "1.97219181458939"
      ],
      "text/markdown": [
       "1.97219181458939"
      ],
      "text/plain": [
       "[1] 1.972192"
      ]
     },
     "metadata": {},
     "output_type": "display_data"
    }
   ],
   "source": [
    "mean(y[treat==1])-mean(y[treat==0])"
   ]
  },
  {
   "cell_type": "markdown",
   "metadata": {},
   "source": [
    "The estimate of the treatment effect now has a larger varaince. This is because the variation in $x$, which is unrelated to the treatment, adds variation in $Y$.\n",
    "\n",
    "To see that the varaince is larger, consider the regression\n",
    "\n",
    "\\begin{align}Y&=\\alpha + \\tau W + (X + \\epsilon)\\\\\n",
    "&=\\alpha + \\tau W + \\tilde\\epsilon \\end{align}\n",
    "\n",
    "where $\\tilde\\epsilon$ now has larger variance than $\\epsilon$. "
   ]
  },
  {
   "cell_type": "code",
   "execution_count": 5,
   "metadata": {},
   "outputs": [
    {
     "data": {
      "text/plain": [
       "\n",
       "Call:\n",
       "lm(formula = y ~ treat)\n",
       "\n",
       "Residuals:\n",
       "    Min      1Q  Median      3Q     Max \n",
       "-4.2550 -0.9950 -0.0465  0.9811  6.0125 \n",
       "\n",
       "Coefficients:\n",
       "            Estimate Std. Error t value Pr(>|t|)    \n",
       "(Intercept)  0.01598    0.06624   0.241    0.809    \n",
       "treat        1.97219    0.09340  21.115   <2e-16 ***\n",
       "---\n",
       "Signif. codes:  0 ‘***’ 0.001 ‘**’ 0.01 ‘*’ 0.05 ‘.’ 0.1 ‘ ’ 1\n",
       "\n",
       "Residual standard error: 1.477 on 998 degrees of freedom\n",
       "Multiple R-squared:  0.3088,\tAdjusted R-squared:  0.3081 \n",
       "F-statistic: 445.8 on 1 and 998 DF,  p-value: < 2.2e-16\n"
      ]
     },
     "metadata": {},
     "output_type": "display_data"
    }
   ],
   "source": [
    "lm.fit = lm(y~treat)\n",
    "summary(lm.fit)"
   ]
  },
  {
   "cell_type": "markdown",
   "metadata": {},
   "source": [
    "If we run this regression (thus ignoring our observations of the predictor $x$), it is still unbiased *because treatment is* **independent** of the other predictors (it is assigned randomly by the experimenter). This means that omitted variables bias is not an issue.\n",
    "\n",
    "However, it is a noisy estimate because the other predictor($x$) varies over all observations. The standard error on treat is 0.093"
   ]
  },
  {
   "cell_type": "markdown",
   "metadata": {},
   "source": [
    "To address this, we can just include the predictor $x$ in the regression. This achieves a less noisy estimate of the treatment effect."
   ]
  },
  {
   "cell_type": "code",
   "execution_count": 6,
   "metadata": {},
   "outputs": [
    {
     "data": {
      "text/plain": [
       "\n",
       "Call:\n",
       "lm(formula = y ~ treat + x)\n",
       "\n",
       "Residuals:\n",
       "    Min      1Q  Median      3Q     Max \n",
       "-3.3747 -0.7069 -0.0214  0.7102  3.2347 \n",
       "\n",
       "Coefficients:\n",
       "            Estimate Std. Error t value Pr(>|t|)    \n",
       "(Intercept)  0.01312    0.04475   0.293    0.769    \n",
       "treat        1.94151    0.06310  30.769   <2e-16 ***\n",
       "x            1.05836    0.03068  34.498   <2e-16 ***\n",
       "---\n",
       "Signif. codes:  0 ‘***’ 0.001 ‘**’ 0.01 ‘*’ 0.05 ‘.’ 0.1 ‘ ’ 1\n",
       "\n",
       "Residual standard error: 0.9976 on 997 degrees of freedom\n",
       "Multiple R-squared:  0.6849,\tAdjusted R-squared:  0.6843 \n",
       "F-statistic:  1084 on 2 and 997 DF,  p-value: < 2.2e-16\n"
      ]
     },
     "metadata": {},
     "output_type": "display_data"
    }
   ],
   "source": [
    "lm.fit2 = lm(y~treat + x)\n",
    "summary(lm.fit2)"
   ]
  },
  {
   "cell_type": "markdown",
   "metadata": {},
   "source": [
    "Notice that the standard error has decreased from 0.093 to 0.063!"
   ]
  },
  {
   "cell_type": "markdown",
   "metadata": {},
   "source": [
    "## When Treatment Isn't Random"
   ]
  },
  {
   "cell_type": "markdown",
   "metadata": {},
   "source": [
    "What if treatment is not assigned independently to each observation? (the treatment isn't completely random)"
   ]
  },
  {
   "cell_type": "code",
   "execution_count": 7,
   "metadata": {},
   "outputs": [],
   "source": [
    "n <- 2000\n",
    "set.seed(31255)\n",
    "x <- rnorm(n)\n",
    "treat <- (x+.1*rnorm(n))>0 #observations with large X are more likely to get treatment\n",
    "y <- x + effect*treat + rnorm(n)"
   ]
  },
  {
   "cell_type": "markdown",
   "metadata": {},
   "source": [
    "If we estimate the base model for a treatment effect, our estimate is highly biased!"
   ]
  },
  {
   "cell_type": "code",
   "execution_count": 8,
   "metadata": {},
   "outputs": [
    {
     "data": {
      "text/plain": [
       "\n",
       "Call:\n",
       "lm(formula = y ~ treat)\n",
       "\n",
       "Residuals:\n",
       "    Min      1Q  Median      3Q     Max \n",
       "-3.9876 -0.7858 -0.0054  0.7847  4.4657 \n",
       "\n",
       "Coefficients:\n",
       "            Estimate Std. Error t value Pr(>|t|)    \n",
       "(Intercept) -0.79074    0.03669  -21.55   <2e-16 ***\n",
       "treatTRUE    3.56360    0.05252   67.85   <2e-16 ***\n",
       "---\n",
       "Signif. codes:  0 ‘***’ 0.001 ‘**’ 0.01 ‘*’ 0.05 ‘.’ 0.1 ‘ ’ 1\n",
       "\n",
       "Residual standard error: 1.174 on 1998 degrees of freedom\n",
       "Multiple R-squared:  0.6973,\tAdjusted R-squared:  0.6972 \n",
       "F-statistic:  4604 on 1 and 1998 DF,  p-value: < 2.2e-16\n"
      ]
     },
     "metadata": {},
     "output_type": "display_data"
    }
   ],
   "source": [
    "lm.fit = lm(y~treat)\n",
    "summary(lm.fit)"
   ]
  },
  {
   "cell_type": "markdown",
   "metadata": {},
   "source": [
    "The estimated treatment effect is now 3.56, which is pretty far from its true value of 2! If we repeated this on many smaples, the average estimate would not be 2. This means it is biased.\n",
    "\n",
    "**This is what is known as a \"selection effect\".** Some observations (say, consumers) might be more likely than others to receive treatment (say, view an ad) becuase of their characteristics. If we ignore those characteristics, we will mis-estimate the effect of the treatment.\n",
    "\n",
    "This is because we can't assume that the only difference between the two groups is that one received treatment and one did not. They differ in other important ways as well (namely, $X$).\n",
    "\n",
    "However all hope is not lost... \n",
    "\n",
    "## Modelling the Treatment (Unconfoundedness)\n",
    "If we are willing to assume that we observe **all variables** that enter the treatment decision, then we can just enter them directly into the regression."
   ]
  },
  {
   "cell_type": "code",
   "execution_count": 9,
   "metadata": {},
   "outputs": [
    {
     "data": {
      "text/plain": [
       "\n",
       "Call:\n",
       "lm(formula = y ~ treat + x)\n",
       "\n",
       "Residuals:\n",
       "    Min      1Q  Median      3Q     Max \n",
       "-3.9680 -0.6820 -0.0012  0.6681  3.7607 \n",
       "\n",
       "Coefficients:\n",
       "            Estimate Std. Error t value Pr(>|t|)    \n",
       "(Intercept)  0.02507    0.04259   0.589    0.556    \n",
       "treatTRUE    1.91729    0.07369  26.018   <2e-16 ***\n",
       "x            1.01193    0.03610  28.031   <2e-16 ***\n",
       "---\n",
       "Signif. codes:  0 ‘***’ 0.001 ‘**’ 0.01 ‘*’ 0.05 ‘.’ 0.1 ‘ ’ 1\n",
       "\n",
       "Residual standard error: 0.9949 on 1997 degrees of freedom\n",
       "Multiple R-squared:  0.7828,\tAdjusted R-squared:  0.7826 \n",
       "F-statistic:  3599 on 2 and 1997 DF,  p-value: < 2.2e-16\n"
      ]
     },
     "metadata": {},
     "output_type": "display_data"
    }
   ],
   "source": [
    "lm.fit2 = lm(y~treat +x)\n",
    "summary(lm.fit2)"
   ]
  },
  {
   "cell_type": "markdown",
   "metadata": {},
   "source": [
    "The estimated effect (1.91) is now near the true effect size (2).\n",
    "\n",
    "However, we have to make sure we model **ALL** the confounds."
   ]
  },
  {
   "cell_type": "code",
   "execution_count": 11,
   "metadata": {},
   "outputs": [
    {
     "data": {
      "text/plain": [
       "\n",
       "Call:\n",
       "lm(formula = y2 ~ treat + x1)\n",
       "\n",
       "Residuals:\n",
       "    Min      1Q  Median      3Q     Max \n",
       "-3.7022 -0.8584  0.0015  0.8507  3.6167 \n",
       "\n",
       "Coefficients:\n",
       "            Estimate Std. Error t value Pr(>|t|)    \n",
       "(Intercept) -0.63028    0.06146  -10.25   <2e-16 ***\n",
       "treatTRUE    3.18966    0.09079   35.13   <2e-16 ***\n",
       "x1           0.72558    0.04413   16.44   <2e-16 ***\n",
       "---\n",
       "Signif. codes:  0 ‘***’ 0.001 ‘**’ 0.01 ‘*’ 0.05 ‘.’ 0.1 ‘ ’ 1\n",
       "\n",
       "Residual standard error: 1.293 on 997 degrees of freedom\n",
       "Multiple R-squared:  0.7125,\tAdjusted R-squared:  0.7119 \n",
       "F-statistic:  1235 on 2 and 997 DF,  p-value: < 2.2e-16\n"
      ]
     },
     "metadata": {},
     "output_type": "display_data"
    }
   ],
   "source": [
    "n <- 1000\n",
    "set.seed(31255)\n",
    "x1 <- rnorm(n)\n",
    "x2 <- rnorm(n) #add an additional predictor which influences treatment\n",
    "treat <- (x1 + x2 +rnorm(n))>0 #observations with large x1 and x2 are more likely to get treatment\n",
    "y2 <- x1 + x2 + effect*treat + rnorm(n)\n",
    "\n",
    "lm.fit2 = lm(y2~treat +x1)\n",
    "summary(lm.fit2)"
   ]
  },
  {
   "cell_type": "markdown",
   "metadata": {},
   "source": [
    "Note that x1 and x2 are independent. The bias is coming through the relation between x2 and the treatment. \n",
    "\n",
    "So if there is even just one variable (that is driving treatment) that we don't observe, we are back where we started... \n",
    "\n",
    "This means unconfoundedness is a very strong assumption, because it requires assuming that everything we don't observe is independent of the treatment decision.\n",
    "\n",
    "But there is still hope!"
   ]
  },
  {
   "cell_type": "markdown",
   "metadata": {},
   "source": [
    "## Regression Discontinuity"
   ]
  },
  {
   "cell_type": "code",
   "execution_count": 30,
   "metadata": {},
   "outputs": [
    {
     "name": "stdout",
     "output_type": "stream",
     "text": [
      "\n",
      "Call:\n",
      "RDestimate(formula = y ~ x1)\n",
      "\n",
      "Type:\n",
      "sharp \n",
      "\n",
      "Estimates:\n",
      "           Bandwidth  Observations  Estimate  Std. Error  z value  Pr(>|z|)  \n",
      "LATE       0.6047      605          10.264    0.5985      17.15     6.122e-66\n",
      "Half-BW    0.3023      305           9.994    0.7860      12.72     4.864e-37\n",
      "Double-BW  1.2094     1000           9.781    0.4425      22.11    2.706e-108\n",
      "              \n",
      "LATE       ***\n",
      "Half-BW    ***\n",
      "Double-BW  ***\n",
      "---\n",
      "Signif. codes:  0 '***' 0.001 '**' 0.01 '*' 0.05 '.' 0.1 ' ' 1\n",
      "\n",
      "F-statistics:\n",
      "           F      Num. DoF  Denom. DoF  p\n",
      "LATE       508.9  3         601         0\n",
      "Half-BW    245.3  3         301         0\n",
      "Double-BW  987.8  3         996         0\n"
     ]
    },
    {
     "data": {
      "image/png": "[encoded data removed]",
      "text/plain": [
       "Plot with title “NA”"
      ]
     },
     "metadata": {},
     "output_type": "display_data"
    }
   ],
   "source": [
    "library(rdd)\n",
    "\n",
    "n <- 1000\n",
    "set.seed(1)\n",
    "\n",
    "x1<-runif(n,-1,1)\n",
    "W<-(x1>=0) # the treatment\n",
    "\n",
    "x2<-rnorm(n) # a second predictor\n",
    "\n",
    "\n",
    "effect <- 10\n",
    "\n",
    "y <- 3 + 2*x1 + 3*x2 + effect*W + rnorm(n)\n",
    "\n",
    "fit.rd <- RDestimate(y~x1) # can also call with cutpoint=c. Defaults to cutpoint=0. This fits a local regresion on each side of the cutpoint.\n",
    "summary(fit.rd) # it reports the treatment effect (\"LATE\"), and also robustness checks for smaller (half) and larger (double) bandwidth size for the local regression\n",
    "\n",
    "plot(fit.rd) #this plots the results"
   ]
  },
  {
   "cell_type": "code",
   "execution_count": 33,
   "metadata": {},
   "outputs": [
    {
     "name": "stdout",
     "output_type": "stream",
     "text": [
      "\n",
      "Call:\n",
      "RDestimate(formula = y ~ x1 | x2)\n",
      "\n",
      "Type:\n",
      "sharp \n",
      "\n",
      "Estimates:\n",
      "           Bandwidth  Observations  Estimate  Std. Error  z value  Pr(>|z|)\n",
      "LATE       0.6047      605          9.890     0.1887      52.42    0       \n",
      "Half-BW    0.3023      305          9.895     0.2572      38.47    0       \n",
      "Double-BW  1.2094     1000          9.947     0.1392      71.46    0       \n",
      "              \n",
      "LATE       ***\n",
      "Half-BW    ***\n",
      "Double-BW  ***\n",
      "---\n",
      "Signif. codes:  0 '***' 0.001 '**' 0.01 '*' 0.05 '.' 0.1 ' ' 1\n",
      "\n",
      "F-statistics:\n",
      "           F     Num. DoF  Denom. DoF  p\n",
      "LATE       5106  4         600         0\n",
      "Half-BW    2495  4         300         0\n",
      "Double-BW  9705  4         995         0\n"
     ]
    },
    {
     "data": {
      "image/png": "[encoded data removed]",
      "text/plain": [
       "Plot with title “NA”"
      ]
     },
     "metadata": {},
     "output_type": "display_data"
    }
   ],
   "source": [
    "# Efficiency gains can be made by including covariates\n",
    "fit2.rd <-RDestimate(y~x1|x2) #include other coavariates, like x2\n",
    "summary(fit2.rd)\n",
    "plot(fit2.rd)"
   ]
  },
  {
   "cell_type": "markdown",
   "metadata": {},
   "source": [
    "Note that the standard error has gone down a lot! This is because there has been a big reduction in variance of the residuals."
   ]
  }
 ],
 "metadata": {
  "kernelspec": {
   "display_name": "R",
   "language": "R",
   "name": "ir"
  },
  "language_info": {
   "codemirror_mode": "r",
   "file_extension": ".r",
   "mimetype": "text/x-r-source",
   "name": "R",
   "pygments_lexer": "r",
   "version": "3.5.0"
  }
 },
 "nbformat": 4,
 "nbformat_minor": 2
}
