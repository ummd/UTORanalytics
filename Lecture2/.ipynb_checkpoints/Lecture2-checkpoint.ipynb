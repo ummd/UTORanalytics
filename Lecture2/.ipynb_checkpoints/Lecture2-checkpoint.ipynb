{
 "cells": [
  {
   "cell_type": "markdown",
   "metadata": {},
   "source": [
    "# Lecture 2\n",
    "\n",
    "## The variance of an estimate (e.g. the case of the sample mean)\n",
    "\n",
    "This example will demonstrate the formula for the Expected Mean Squared Error of a model on a test sample.\n",
    "\n",
    "$$E[y_0 - \\hat f(x_0)]^2 = \\text{Var}(\\hat f(x_0) + [\\text{Bias}(\\hat f(x_0))]^2 +\\text{Var}(\\epsilon)$$\n",
    "\n",
    "The $MSE_{test}$ describes the prediction properties of a model if we could fit it to a very large number of independent samples, and then test it on a large number of samples of test data.\n",
    "\n",
    "We will consider a simple model, the sample mean of draws from the standard normal distribution (i.e. $\\mu$=0, $\\sigma$=1)..\n",
    "\n",
    "$$y_i = \\mu+ \\epsilon$$\n",
    "\n",
    "We want to estimate the population mean $\\mu$ with the sample mean. Our model is therefore\n",
    "\n",
    "$$\\hat{\\mu} = \\frac{1}{n} \\sum_{i=1}^n y_i $$\n",
    "\n",
    "The MSE is therefore:\n",
    "\n",
    "$$E[y_0 - \\hat \\mu]^2 = \\text{Var}(\\hat \\mu) + [\\text{Bias}(\\hat \\mu)]^2 +\\text{Var}(\\epsilon)$$\n",
    "\n",
    "For explanatory purposes, we will only draw $S<\\infty$ samples of $n<\\infty$ observations. Though this isn't ideal, we can't simulate infinite datasets, so it's the best we can do with a computer!\n",
    "\n",
    "You can change $S$ and $n$ to examine their properties."
   ]
  },
  {
   "cell_type": "code",
   "execution_count": 1,
   "metadata": {
    "collapsed": true
   },
   "outputs": [],
   "source": [
    "S <- 1000\n",
    "n <- 1000"
   ]
  },
  {
   "cell_type": "code",
   "execution_count": 2,
   "metadata": {},
   "outputs": [],
   "source": [
    "y <- replicate(S,rnorm(n))"
   ]
  },
  {
   "cell_type": "markdown",
   "metadata": {},
   "source": [
    "\n",
    "We take the sample means of each column (sample). \n"
   ]
  },
  {
   "cell_type": "code",
   "execution_count": 3,
   "metadata": {},
   "outputs": [],
   "source": [
    "samplemeans <- colMeans(y)"
   ]
  },
  {
   "cell_type": "markdown",
   "metadata": {},
   "source": [
    "Notice that each sample mean is different. This is due to the randomness in each of the training samples."
   ]
  },
  {
   "cell_type": "code",
   "execution_count": null,
   "metadata": {
    "collapsed": true
   },
   "outputs": [],
   "source": [
    "hist(y)"
   ]
  },
  {
   "cell_type": "markdown",
   "metadata": {},
   "source": [
    "It is also \"unbiased\". If we had infinite observations per sample (try say, $n=1000000$), the average sample mean would approach the true mean. \n",
    "\n",
    "So $\\text{Bias}[\\hat \\mu]=0$.\n",
    "\n",
    "We can calculate the sample variance of all of our sample means. This will approach $\\text{Var}(\\hat\\mu)$ as the number of samples gets large."
   ]
  },
  {
   "cell_type": "code",
   "execution_count": 4,
   "metadata": {},
   "outputs": [
    {
     "data": {
      "text/html": [
       "9.56710823116876e-05"
      ],
      "text/latex": [
       "9.56710823116876e-05"
      ],
      "text/markdown": [
       "9.56710823116876e-05"
      ],
      "text/plain": [
       "[1] 9.567108e-05"
      ]
     },
     "metadata": {},
     "output_type": "display_data"
    }
   ],
   "source": [
    "vsm <- var(samplemeans)\n",
    "vsm"
   ]
  },
  {
   "cell_type": "markdown",
   "metadata": {},
   "source": [
    "We can also then use it to predict 100 new observation, $x_0$."
   ]
  },
  {
   "cell_type": "code",
   "execution_count": 5,
   "metadata": {},
   "outputs": [],
   "source": [
    "y0 <- rnorm(S)"
   ]
  },
  {
   "cell_type": "markdown",
   "metadata": {},
   "source": [
    "and calculate $MSE_{test}$"
   ]
  },
  {
   "cell_type": "code",
   "execution_count": 6,
   "metadata": {},
   "outputs": [
    {
     "data": {
      "text/html": [
       "0.996659344355359"
      ],
      "text/latex": [
       "0.996659344355359"
      ],
      "text/markdown": [
       "0.996659344355359"
      ],
      "text/plain": [
       "[1] 0.9966593"
      ]
     },
     "metadata": {},
     "output_type": "display_data"
    }
   ],
   "source": [
    "var(y0-samplemeans)"
   ]
  },
  {
   "cell_type": "markdown",
   "metadata": {},
   "source": [
    "Notice that this is greater than $\\text{Var}(\\epsilon)=1$ (the irreducible prediciton error). As the samples sizes become large, this will verify the Expected Mean Squared Error equation.\n",
    "\n",
    "$$E[y_0 - \\hat \\mu]^2 = \\text{Var}(\\hat \\mu) +\\text{Var}(\\epsilon)$$"
   ]
  }
 ],
 "metadata": {
  "kernelspec": {
   "display_name": "R",
   "language": "R",
   "name": "ir"
  },
  "language_info": {
   "codemirror_mode": "r",
   "file_extension": ".r",
   "mimetype": "text/x-r-source",
   "name": "R",
   "pygments_lexer": "r",
   "version": "3.4.3"
  }
 },
 "nbformat": 4,
 "nbformat_minor": 2
}
