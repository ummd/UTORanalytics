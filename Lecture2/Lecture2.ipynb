{
 "cells": [
  {
   "cell_type": "markdown",
   "metadata": {},
   "source": [
    "# Lecture 2\n",
    "\n",
    "## The MSE of an estimate (e.g. the case of the sample mean)\n",
    "\n",
    "This example will demonstrate the formula for the Expected Mean Squared Error of a model on a test sample.\n",
    "\n",
    "$$EMSE = E[y_0 - \\hat f(x_0)]^2 = \\text{Var}(\\hat f(x_0) + [\\text{Bias}(\\hat f(x_0))]^2 +\\text{Var}(\\epsilon)$$\n",
    "\n",
    "The Expected $MSE_{test}$ describes the prediction properties of a model if we could fit it to a very large number of independent samples, and then test it on a large number of samples of test data.\n",
    "\n",
    "We will consider a simple task: predicting a draw from the standard normal distribution (i.e. $\\mu$=0, $\\sigma^2$=1).\n",
    "\n",
    "So our model is:\n",
    "\n",
    "$$y_i = \\mu+ \\epsilon_i, \\quad \\epsilon_i\\sim\\mathcal{N}(0,\\sigma^2)$$\n",
    "\n",
    "To do this, we will want to estimate the population mean $\\mu$ with the sample mean. Our estimate is therefore\n",
    "\n",
    "$$\\hat{\\mu} = \\frac{1}{n} \\sum_{i=1}^n y_i $$\n",
    "\n",
    "The Expected MSE is therefore:\n",
    "\n",
    "$$E[y_0 - \\hat \\mu]^2 = \\text{Var}(\\hat \\mu) + [\\text{Bias}(\\hat \\mu)]^2 +\\text{Var}(\\epsilon)$$\n",
    "\n",
    "For explanatory purposes, we will only draw $S<\\infty$ samples of $n<\\infty$ observations. Though this isn't ideal, we can't simulate infinite datasets, so it's the best we can do with a computer!\n",
    "\n",
    "You can change $S$ and $n$ to examine their properties."
   ]
  },
  {
   "cell_type": "code",
   "execution_count": 16,
   "metadata": {
    "collapsed": true
   },
   "outputs": [],
   "source": [
    "S <- 10000 #number of samples\n",
    "n <- 100 #number of observations per sample\n",
    "\n",
    "set.seed(1) # set the random number seed for conistent results\n",
    "\n",
    "y <- replicate(S,rnorm(n,mean=0,sd=1)) #draw S samples from the standard normal distribution, each of size n\n",
    "\n",
    "samplemeans <- colMeans(y) #take the sample means of each column (sample). "
   ]
  },
  {
   "cell_type": "markdown",
   "metadata": {},
   "source": [
    "Notice that each sample mean is different. This is due to the randomness in each of the training samples. We can see this in a histogram."
   ]
  },
  {
   "cell_type": "code",
   "execution_count": 7,
   "metadata": {},
   "outputs": [
    {
     "data": {
      "image/png": "[encoded data removed]",
      "text/plain": [
       "Plot with title “Histogram of samplemeans”"
      ]
     },
     "metadata": {},
     "output_type": "display_data"
    }
   ],
   "source": [
    "hist(samplemeans)"
   ]
  },
  {
   "cell_type": "markdown",
   "metadata": {},
   "source": [
    "### Sample mean is unbiased\n",
    "The average sample mean is very close to the true mean of 0. "
   ]
  },
  {
   "cell_type": "code",
   "execution_count": 23,
   "metadata": {},
   "outputs": [
    {
     "data": {
      "text/html": [
       "4.6907759533364e-05"
      ],
      "text/latex": [
       "4.6907759533364e-05"
      ],
      "text/markdown": [
       "4.6907759533364e-05"
      ],
      "text/plain": [
       "[1] 4.690776e-05"
      ]
     },
     "metadata": {},
     "output_type": "display_data"
    }
   ],
   "source": [
    "mean(samplemeans)"
   ]
  },
  {
   "cell_type": "markdown",
   "metadata": {},
   "source": [
    "If we had infinite observations per sample (try say, $n=1000000$), it would be even closer."
   ]
  },
  {
   "cell_type": "markdown",
   "metadata": {},
   "source": [
    "You might recall from your stats course that\n",
    "\n",
    "\\begin{align} E[\\hat{\\mu}]&=E\\left[\\frac{1}{n} \\sum_{i=1}^n y_i \\right]\\\\ &= \\frac{1}{n} \\sum_{i=1}^n E\\left[y_i\\right]\\\\  &= \\frac{1}{n} \\sum_{i=1}^n E\\left[\\mu + \\epsilon_i\\right]\\\\ \n",
    "&= \\frac{1}{n} \\sum_{i=1}^n \\left(E\\left[\\mu\\right]  + E\\left[\\epsilon_i\\right]\\right) \\\\\n",
    "&= \\frac{1}{n} \\sum_{i=1}^n \\left(\\mu  + 0 \\right)\\\\\n",
    "&= \\frac{1}{n} n \\mu  \\\\&=\\mu,\\end{align}\n",
    "since $E[\\epsilon_i]=0$.\n",
    "\n",
    "This is the definition of an *unbiased estimate*. For any parameter $\\beta$, its estimate $\\hat\\beta$ is unbiased if: $$E[\\hat\\beta]=\\beta$$\n",
    "\n",
    "So $\\text{Bias}[\\hat \\mu]=0$. This simplifies the equation for $EMSE_{test}=\\text{Var}(\\hat \\mu) +\\text{Var}(\\epsilon)$"
   ]
  },
  {
   "cell_type": "markdown",
   "metadata": {},
   "source": [
    "### Variance of sample mean\n",
    "\n",
    "We can calculate the sample variance of all of our sample means. This will approach $\\text{Var}(\\hat\\mu)=\\frac{\\sigma^2}{n}$ as the number of samples $S$ gets large. For $\\sigma=1$ and a sample of size n=100, $\\text{Var}(\\hat\\mu)=\\frac{1^2}{n}=0.01$"
   ]
  },
  {
   "cell_type": "code",
   "execution_count": 12,
   "metadata": {},
   "outputs": [
    {
     "data": {
      "text/html": [
       "0.01"
      ],
      "text/latex": [
       "0.01"
      ],
      "text/markdown": [
       "0.01"
      ],
      "text/plain": [
       "[1] 0.01"
      ]
     },
     "metadata": {},
     "output_type": "display_data"
    }
   ],
   "source": [
    "1/n"
   ]
  },
  {
   "cell_type": "code",
   "execution_count": 11,
   "metadata": {},
   "outputs": [
    {
     "data": {
      "text/html": [
       "0.00992818539230375"
      ],
      "text/latex": [
       "0.00992818539230375"
      ],
      "text/markdown": [
       "0.00992818539230375"
      ],
      "text/plain": [
       "[1] 0.009928185"
      ]
     },
     "metadata": {},
     "output_type": "display_data"
    }
   ],
   "source": [
    "var(samplemeans)"
   ]
  },
  {
   "cell_type": "markdown",
   "metadata": {},
   "source": [
    "### Calculating $MSE_{test}$\n",
    "\n",
    "We can also then use the sample mean to predict a new observation, $y_0$."
   ]
  },
  {
   "cell_type": "code",
   "execution_count": 25,
   "metadata": {
    "collapsed": true
   },
   "outputs": [],
   "source": [
    "y0 <- rnorm(S)"
   ]
  },
  {
   "cell_type": "markdown",
   "metadata": {},
   "source": [
    "and calculate the average $MSE_{test}$"
   ]
  },
  {
   "cell_type": "code",
   "execution_count": 26,
   "metadata": {},
   "outputs": [
    {
     "data": {
      "text/html": [
       "1.00812538070152"
      ],
      "text/latex": [
       "1.00812538070152"
      ],
      "text/markdown": [
       "1.00812538070152"
      ],
      "text/plain": [
       "[1] 1.008125"
      ]
     },
     "metadata": {},
     "output_type": "display_data"
    }
   ],
   "source": [
    "var(y0-samplemeans)"
   ]
  },
  {
   "cell_type": "markdown",
   "metadata": {},
   "source": [
    "As the number of samples $S$ become large, this will verify the Expected Mean Squared Error equation.\n",
    "\n",
    "\\begin{align}\n",
    "EMSE_{test} = E[y_0 - \\hat \\mu]^2 &= \\text{Var}(\\hat \\mu) +\\text{Var}(\\epsilon)\\\\\n",
    "&=\\frac{\\sigma^2}{n} + \\sigma^2\\\\\n",
    "&=\\frac{1}{n} + 1. \n",
    "\\end{align}"
   ]
  },
  {
   "cell_type": "code",
   "execution_count": 13,
   "metadata": {},
   "outputs": [
    {
     "data": {
      "text/html": [
       "1.01"
      ],
      "text/latex": [
       "1.01"
      ],
      "text/markdown": [
       "1.01"
      ],
      "text/plain": [
       "[1] 1.01"
      ]
     },
     "metadata": {},
     "output_type": "display_data"
    }
   ],
   "source": [
    "1/n + 1"
   ]
  },
  {
   "cell_type": "markdown",
   "metadata": {},
   "source": [
    "\n",
    "However, because we can't simulate infinite samples (like the equation requires) the calculated average $MSE_{test}$ will fluctuate around $EMSE_{test}$. Sometimes, it might even be a tad bit smaller than $\\text{Var}(\\epsilon)=1$ when $n$ is large."
   ]
  }
 ],
 "metadata": {
  "kernelspec": {
   "display_name": "R",
   "language": "R",
   "name": "ir"
  },
  "language_info": {
   "codemirror_mode": "r",
   "file_extension": ".r",
   "mimetype": "text/x-r-source",
   "name": "R",
   "pygments_lexer": "r",
   "version": "3.5.0"
  }
 },
 "nbformat": 4,
 "nbformat_minor": 2
}
