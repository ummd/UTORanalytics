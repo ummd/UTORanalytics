{
 "cells": [
  {
   "cell_type": "markdown",
   "metadata": {},
   "source": [
    "# Lecture 1 - Simulating a sample from a DGP\n",
    "Updated Mon Sep 23, 2019"
   ]
  },
  {
   "cell_type": "markdown",
   "metadata": {},
   "source": [
    "## Specify the DGP\n",
    "   We will consider the linear model $$Y=\\beta_0+\\beta_1X + \\epsilon$$"
   ]
  },
  {
   "cell_type": "markdown",
   "metadata": {},
   "source": [
    "* 1) Fix the sample size $n$"
   ]
  },
  {
   "cell_type": "code",
   "execution_count": 13,
   "metadata": {
    "collapsed": true
   },
   "outputs": [],
   "source": [
    "n <- 100\n",
    "set.seed(1) # also, set the random number seed so that the results are consistent each time you run the simulation.\n",
    "# If you want a different draw from the sample, you have to the let the seed change"
   ]
  },
  {
   "cell_type": "markdown",
   "metadata": {},
   "source": [
    "* 2) Obtain $n$ values for $X$ denoted $[x_1,\\dots,x_n]$. \n",
    "These might be actual data, points you are interested in predicting, or the result of another simulation."
   ]
  },
  {
   "cell_type": "code",
   "execution_count": 14,
   "metadata": {
    "collapsed": true
   },
   "outputs": [],
   "source": [
    "x <-1:n #creates values for the predictor from 1 to n\n",
    "\n",
    "#x <-rnorm(n) #alternatively, you could use a random number generate to generate n observations of a predictor"
   ]
  },
  {
   "cell_type": "markdown",
   "metadata": {},
   "source": [
    "* 3) Choose parameters for $f()$. Example: $\\beta_0=1, \\beta_1=2$"
   ]
  },
  {
   "cell_type": "code",
   "execution_count": 15,
   "metadata": {},
   "outputs": [],
   "source": [
    "beta0 <- 1\n",
    "beta1 <- 2"
   ]
  },
  {
   "cell_type": "markdown",
   "metadata": {},
   "source": [
    "* 4) Evalute successive values for $\\beta_0 + \\beta_1x_i, \\quad i=[1,\\dots,n]$ "
   ]
  },
  {
   "cell_type": "code",
   "execution_count": 16,
   "metadata": {},
   "outputs": [],
   "source": [
    "f <- beta0 + beta1*x"
   ]
  },
  {
   "cell_type": "markdown",
   "metadata": {},
   "source": [
    "* 5) Choose a probability distribution for $\\epsilon$. If necessary specify parameters such as its mean and variance."
   ]
  },
  {
   "cell_type": "code",
   "execution_count": 17,
   "metadata": {},
   "outputs": [],
   "source": [
    "mu <- 0\n",
    "sigma <- 20"
   ]
  },
  {
   "cell_type": "markdown",
   "metadata": {},
   "source": [
    "### Simulate a Sample\n",
    "* 6) Use a random number generator to generate the $n$ succesive and mutually independent values $\\epsilon_i$ of the error terms"
   ]
  },
  {
   "cell_type": "code",
   "execution_count": 18,
   "metadata": {
    "collapsed": true
   },
   "outputs": [],
   "source": [
    "e <- rnorm(n, mean=mu, sd=sigma) # this draws from the normal density with mean mu and standard deviation sigma"
   ]
  },
  {
   "cell_type": "markdown",
   "metadata": {},
   "source": [
    "* 7) Form the $n$ succesive values for $Y$ denoted $[y_1,\\dots,y_n]$"
   ]
  },
  {
   "cell_type": "code",
   "execution_count": 19,
   "metadata": {},
   "outputs": [
    {
     "data": {
      "image/png": "[encoded data removed]",
      "text/plain": [
       "plot without title"
      ]
     },
     "metadata": {},
     "output_type": "display_data"
    }
   ],
   "source": [
    "y <- f+e\n",
    "plot(x,y)"
   ]
  }
 ],
 "metadata": {
  "kernelspec": {
   "display_name": "R",
   "language": "R",
   "name": "ir"
  },
  "language_info": {
   "codemirror_mode": "r",
   "file_extension": ".r",
   "mimetype": "text/x-r-source",
   "name": "R",
   "pygments_lexer": "r",
   "version": "3.5.0"
  }
 },
 "nbformat": 4,
 "nbformat_minor": 2
}
