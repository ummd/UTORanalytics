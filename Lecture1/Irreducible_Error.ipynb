{
 "cells": [
  {
   "cell_type": "markdown",
   "metadata": {},
   "source": [
    "## Separating Prediction Accuracy into Reducible and Ireducible Error\n",
    "\n",
    "We want to understand how accurate our predictions $\\hat Y = \\hat f(X)$ will be given an estimate of a model $f(X)$.\n",
    "\n",
    "Recall that we are assuming that $f(X)$ and $X$ are fixed (and not random). Things get more complicated if we let $X$ be random, but the general argument still holds.\n",
    "\n",
    "The predition accuracy is given by the squared error:\n",
    "\n",
    "\\begin{equation}E\\left[Y-\\hat{Y}\\right]^2\\end{equation}\n",
    "\n",
    "We start by subbing in the true model for $Y$\n",
    "\n",
    "\\begin{align}E\\left[Y-\\hat{Y}\\right]^2 &= E\\left[f(X) + \\epsilon - \\hat{f}(X)\\right]^2\\\\\n",
    "&= E\\left[f(X) - \\hat{f}(X) + \\epsilon\\right]^2\\\\\n",
    "\\end{align}\n",
    "\n",
    "and then rearrange terms so we subtract the prediction from the true model.\n",
    "\n",
    "Now, recall that $(a+b)^2 = a^2+2ab+b^2$? \n",
    "\n",
    "Well, if we let $a = f(X) - \\hat f(X)$, and $b=\\epsilon$, then\n",
    "\n",
    "\\begin{align}E[f(X) - \\hat{f}(X) + \\epsilon ]^2&= E\\left[\\left(f(X) - \\hat{f}(X)\\right)^2 + \\left(f(X) - \\hat{f}(X)\\right)\\epsilon + \\epsilon^2 \\right]\\\\\n",
    "&= E\\left[\\left(f(X) - \\hat{f}(X)\\right)^2\\right] + E\\left[\\left(f(X) - \\hat{f}(X)\\right)\\epsilon\\right] + E\\left[\\epsilon^2 \\right]\\\\\n",
    "\\end{align}\n",
    "since the expectation of a sum of random variables is just the sum of expectations.\n",
    "\n",
    "\n",
    "Finally, recall that the $\\epsilon$ is mean zero, and that $E[a\\epsilon]=aE[\\epsilon]$ if $a$ is fixed (not random). This means that $E\\left[\\left(f(X) - \\hat{f}(X)\\right)\\epsilon\\right]=\\left(f(X) - \\hat{f}(X)\\right)E\\left[\\epsilon\\right]=0$.\n",
    "\n",
    "So finally, we have\n",
    "\\begin{align}E(Y-\\hat{Y})^2 &= E[f(X) - \\hat f(X)]^2 + E[\\epsilon]^2\\\\\n",
    "&= E[f(X) - \\hat f(X)]^2+\\text{Var}(\\epsilon)\n",
    "\\end{align}\n",
    "\n",
    "PS: Don't worry, this proof won't be on the midterm!"
   ]
  },
  {
   "cell_type": "code",
   "execution_count": null,
   "metadata": {},
   "outputs": [],
   "source": []
  },
  {
   "cell_type": "code",
   "execution_count": null,
   "metadata": {},
   "outputs": [],
   "source": []
  }
 ],
 "metadata": {
  "kernelspec": {
   "display_name": "R",
   "language": "R",
   "name": "ir"
  },
  "language_info": {
   "codemirror_mode": "r",
   "file_extension": ".r",
   "mimetype": "text/x-r-source",
   "name": "R",
   "pygments_lexer": "r",
   "version": "3.5.0"
  }
 },
 "nbformat": 4,
 "nbformat_minor": 2
}
