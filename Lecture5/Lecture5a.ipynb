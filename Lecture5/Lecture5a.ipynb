{
 "cells": [
  {
   "cell_type": "markdown",
   "metadata": {},
   "source": [
    "# Lecture 5\n",
    "## Interaction Effects"
   ]
  },
  {
   "cell_type": "code",
   "execution_count": 1,
   "metadata": {},
   "outputs": [],
   "source": [
    "Advertising <- read.csv(\"~/rotman/RSM8512/Data/Advertising.csv\") #load data\n",
    "attach(Advertising) #attach variable names"
   ]
  },
  {
   "cell_type": "markdown",
   "metadata": {},
   "source": [
    "The following model specifies an interaction effect together with the \"main\" effects of TV and radio."
   ]
  },
  {
   "cell_type": "code",
   "execution_count": 2,
   "metadata": {},
   "outputs": [
    {
     "data": {
      "text/plain": [
       "\n",
       "Call:\n",
       "lm(formula = sales ~ TV + radio + TV:radio)\n",
       "\n",
       "Residuals:\n",
       "    Min      1Q  Median      3Q     Max \n",
       "-6.3366 -0.4028  0.1831  0.5948  1.5246 \n",
       "\n",
       "Coefficients:\n",
       "             Estimate Std. Error t value Pr(>|t|)    \n",
       "(Intercept) 6.750e+00  2.479e-01  27.233   <2e-16 ***\n",
       "TV          1.910e-02  1.504e-03  12.699   <2e-16 ***\n",
       "radio       2.886e-02  8.905e-03   3.241   0.0014 ** \n",
       "TV:radio    1.086e-03  5.242e-05  20.727   <2e-16 ***\n",
       "---\n",
       "Signif. codes:  0 ‘***’ 0.001 ‘**’ 0.01 ‘*’ 0.05 ‘.’ 0.1 ‘ ’ 1\n",
       "\n",
       "Residual standard error: 0.9435 on 196 degrees of freedom\n",
       "Multiple R-squared:  0.9678,\tAdjusted R-squared:  0.9673 \n",
       "F-statistic:  1963 on 3 and 196 DF,  p-value: < 2.2e-16\n"
      ]
     },
     "metadata": {},
     "output_type": "display_data"
    }
   ],
   "source": [
    "lm.fit=lm(sales~TV+radio+TV:radio) # estimate a linear model regressing sales on TV, radio, and the interaction of Tv and Radio\n",
    "summary(lm.fit) # display results"
   ]
  },
  {
   "cell_type": "markdown",
   "metadata": {},
   "source": [
    "This following spcifies the same model, but as a \"full set\" of both main and interaction terms"
   ]
  },
  {
   "cell_type": "code",
   "execution_count": 5,
   "metadata": {},
   "outputs": [
    {
     "data": {
      "text/plain": [
       "\n",
       "Call:\n",
       "lm(formula = sales ~ TV * radio)\n",
       "\n",
       "Residuals:\n",
       "    Min      1Q  Median      3Q     Max \n",
       "-6.3366 -0.4028  0.1831  0.5948  1.5246 \n",
       "\n",
       "Coefficients:\n",
       "             Estimate Std. Error t value Pr(>|t|)    \n",
       "(Intercept) 6.750e+00  2.479e-01  27.233   <2e-16 ***\n",
       "TV          1.910e-02  1.504e-03  12.699   <2e-16 ***\n",
       "radio       2.886e-02  8.905e-03   3.241   0.0014 ** \n",
       "TV:radio    1.086e-03  5.242e-05  20.727   <2e-16 ***\n",
       "---\n",
       "Signif. codes:  0 ‘***’ 0.001 ‘**’ 0.01 ‘*’ 0.05 ‘.’ 0.1 ‘ ’ 1\n",
       "\n",
       "Residual standard error: 0.9435 on 196 degrees of freedom\n",
       "Multiple R-squared:  0.9678,\tAdjusted R-squared:  0.9673 \n",
       "F-statistic:  1963 on 3 and 196 DF,  p-value: < 2.2e-16\n"
      ]
     },
     "metadata": {},
     "output_type": "display_data"
    }
   ],
   "source": [
    "lm.fit=lm(sales~TV*radio) # estimate a linear model regressing sales on the full set of main and interaction terms\n",
    "summary(lm.fit) # display results"
   ]
  }
 ],
 "metadata": {
  "kernelspec": {
   "display_name": "R",
   "language": "R",
   "name": "ir"
  },
  "language_info": {
   "codemirror_mode": "r",
   "file_extension": ".r",
   "mimetype": "text/x-r-source",
   "name": "R",
   "pygments_lexer": "r",
   "version": "3.5.0"
  }
 },
 "nbformat": 4,
 "nbformat_minor": 2
}
