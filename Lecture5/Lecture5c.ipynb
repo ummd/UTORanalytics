{
 "cells": [
  {
   "cell_type": "markdown",
   "metadata": {},
   "source": [
    "# Robust Estimator of Covariance Matrix\n",
    "\n",
    "## A dataset without heteroskedasticity"
   ]
  },
  {
   "cell_type": "code",
   "execution_count": 1,
   "metadata": {},
   "outputs": [
    {
     "name": "stderr",
     "output_type": "stream",
     "text": [
      "Loading required package: zoo\n",
      "\n",
      "Attaching package: ‘zoo’\n",
      "\n",
      "The following objects are masked from ‘package:base’:\n",
      "\n",
      "    as.Date, as.Date.numeric\n",
      "\n"
     ]
    },
    {
     "data": {
      "text/plain": [
       "\n",
       "Call:\n",
       "lm(formula = y ~ x)\n",
       "\n",
       "Residuals:\n",
       "     Min       1Q   Median       3Q      Max \n",
       "-11.2556  -2.5615   0.1541   3.0105   7.2307 \n",
       "\n",
       "Coefficients:\n",
       "            Estimate Std. Error t value Pr(>|t|)  \n",
       "(Intercept)   1.5016     0.5931   2.532   0.0147 *\n",
       "x            -0.2225     0.8368  -0.266   0.7914  \n",
       "---\n",
       "Signif. codes:  0 ‘***’ 0.001 ‘**’ 0.01 ‘*’ 0.05 ‘.’ 0.1 ‘ ’ 1\n",
       "\n",
       "Residual standard error: 4.194 on 48 degrees of freedom\n",
       "Multiple R-squared:  0.001471,\tAdjusted R-squared:  -0.01933 \n",
       "F-statistic: 0.07073 on 1 and 48 DF,  p-value: 0.7914\n"
      ]
     },
     "metadata": {},
     "output_type": "display_data"
    }
   ],
   "source": [
    "library(lmtest)\n",
    "library(sandwich)\n",
    "\n",
    "set.seed(1)\n",
    "N<-50\n",
    "# generate linear regression relationship\n",
    "# with Homoskedastic variances\n",
    "b<-.1\n",
    "\n",
    "x <- sin(1:N)\n",
    "y <- 1 + b*x + 5*rnorm(N)\n",
    "## model fit and HC3 covariance\n",
    "lm.fit <- lm(y ~ x)\n",
    "\n",
    "summary(lm.fit)"
   ]
  },
  {
   "cell_type": "markdown",
   "metadata": {},
   "source": [
    "### With heteroskdasticity"
   ]
  },
  {
   "cell_type": "code",
   "execution_count": 2,
   "metadata": {},
   "outputs": [],
   "source": [
    "set.seed(1)\n",
    "\n",
    "y <- 1 + b*x + 5*rnorm(N,mean=0,sd=1+x)"
   ]
  },
  {
   "cell_type": "markdown",
   "metadata": {},
   "source": [
    "We can fit the linear model, but the standard error will be incorrect because it assume sthat the varaince of the observations is constant"
   ]
  },
  {
   "cell_type": "code",
   "execution_count": 3,
   "metadata": {},
   "outputs": [
    {
     "data": {
      "text/plain": [
       "\n",
       "Call:\n",
       "lm(formula = y ~ x)\n",
       "\n",
       "Residuals:\n",
       "     Min       1Q   Median       3Q      Max \n",
       "-22.5372  -1.0318  -0.1718   2.8359  10.3111 \n",
       "\n",
       "Coefficients:\n",
       "            Estimate Std. Error t value Pr(>|t|)  \n",
       "(Intercept)   1.3395     0.7375   1.816   0.0756 .\n",
       "x             0.2561     1.0406   0.246   0.8066  \n",
       "---\n",
       "Signif. codes:  0 ‘***’ 0.001 ‘**’ 0.01 ‘*’ 0.05 ‘.’ 0.1 ‘ ’ 1\n",
       "\n",
       "Residual standard error: 5.215 on 48 degrees of freedom\n",
       "Multiple R-squared:  0.00126,\tAdjusted R-squared:  -0.01955 \n",
       "F-statistic: 0.06057 on 1 and 48 DF,  p-value: 0.8066\n"
      ]
     },
     "metadata": {},
     "output_type": "display_data"
    }
   ],
   "source": [
    "\n",
    "lm.fit <- lm(y ~ x)\n",
    "summary(lm.fit)"
   ]
  },
  {
   "cell_type": "markdown",
   "metadata": {},
   "source": [
    "### Test with \"robust\" standard errors\n",
    "Using the coeftest() function, we can calculate a \"robust\" standard error. Note that it is larger then the one calucaltd from the (incorrect) linear model which assumes that the variance of each observation are equal."
   ]
  },
  {
   "cell_type": "code",
   "execution_count": 4,
   "metadata": {},
   "outputs": [
    {
     "data": {
      "text/plain": [
       "\n",
       "t test of coefficients:\n",
       "\n",
       "            Estimate Std. Error t value Pr(>|t|)  \n",
       "(Intercept)  1.33954    0.76165  1.7587   0.0850 .\n",
       "x            0.25609    1.27954  0.2001   0.8422  \n",
       "---\n",
       "Signif. codes:  0 ‘***’ 0.001 ‘**’ 0.01 ‘*’ 0.05 ‘.’ 0.1 ‘ ’ 1\n"
      ]
     },
     "metadata": {},
     "output_type": "display_data"
    }
   ],
   "source": [
    "coeftest(lm.fit, vcov. = vcovHC)"
   ]
  },
  {
   "cell_type": "code",
   "execution_count": null,
   "metadata": {},
   "outputs": [],
   "source": []
  }
 ],
 "metadata": {
  "kernelspec": {
   "display_name": "R",
   "language": "R",
   "name": "ir"
  },
  "language_info": {
   "codemirror_mode": "r",
   "file_extension": ".r",
   "mimetype": "text/x-r-source",
   "name": "R",
   "pygments_lexer": "r",
   "version": "3.5.0"
  }
 },
 "nbformat": 4,
 "nbformat_minor": 2
}
