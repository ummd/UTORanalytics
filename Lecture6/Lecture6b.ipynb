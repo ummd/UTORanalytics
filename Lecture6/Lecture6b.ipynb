{
 "cells": [
  {
   "cell_type": "markdown",
   "metadata": {},
   "source": [
    "# Logistic Regression - Predicting the stock market!\n",
    "\n",
    "This regression lab will show you how to predict movements in the stock market using publically available data. **Get ready to get rich!**"
   ]
  },
  {
   "cell_type": "code",
   "execution_count": 19,
   "metadata": {},
   "outputs": [
    {
     "data": {
      "text/html": [
       "\n",
       "<table width=\"100%\" summary=\"page for Smarket {ISLR}\"><tr><td>Smarket {ISLR}</td><td style=\"text-align: right;\">R Documentation</td></tr></table>\n",
       "\n",
       "<h2>S&amp;P Stock Market Data\n",
       "\n",
       "</h2>\n",
       "\n",
       "<h3>Description</h3>\n",
       "\n",
       "<p>Daily percentage returns for the S&amp;P 500 stock index\n",
       "between 2001 and 2005. \n",
       "\n",
       "</p>\n",
       "\n",
       "\n",
       "<h3>Usage</h3>\n",
       "\n",
       "<pre>Smarket</pre>\n",
       "\n",
       "\n",
       "<h3>Format</h3>\n",
       "\n",
       "<p>A data frame with 1250 observations on the following 9 variables.\n",
       "</p>\n",
       "\n",
       "<dl>\n",
       "<dt><code>Year</code></dt><dd><p>The year that the observation was recorded</p>\n",
       "</dd>\n",
       "<dt><code>Lag1</code></dt><dd><p>Percentage return for previous day</p>\n",
       "</dd>\n",
       "<dt><code>Lag2</code></dt><dd><p>Percentage return for 2 days previous</p>\n",
       "</dd>\n",
       "<dt><code>Lag3</code></dt><dd><p>Percentage return for 3 days previous</p>\n",
       "</dd>\n",
       "<dt><code>Lag4</code></dt><dd><p>Percentage return for 4 days previous</p>\n",
       "</dd>\n",
       "<dt><code>Lag5</code></dt><dd><p>Percentage return for 5 days previous</p>\n",
       "</dd>\n",
       "<dt><code>Volume</code></dt><dd><p>Volume of shares traded (number of daily shares\n",
       "traded in billions)</p>\n",
       "</dd>\n",
       "<dt><code>Today</code></dt><dd><p>Percentage return for today</p>\n",
       "</dd>\n",
       "<dt><code>Direction</code></dt><dd><p>A factor with levels <code>Down</code> and\n",
       "<code>Up</code> indicating whether the market had a positive or negative\n",
       "return on a given day</p>\n",
       "</dd>\n",
       "</dl>\n",
       "\n",
       "\n",
       "\n",
       "<h3>Source</h3>\n",
       "\n",
       "<p>Raw values of the S&amp;P 500 were obtained from Yahoo Finance and\n",
       "then converted to percentages and lagged.\n",
       "\n",
       "</p>\n",
       "\n",
       "\n",
       "<h3>References</h3>\n",
       "\n",
       "<p>James, G., Witten, D., Hastie, T., and Tibshirani, R. (2013)\n",
       "<em>An Introduction to Statistical Learning with applications in R</em>,\n",
       "<a href=\"www.StatLearning.com\">www.StatLearning.com</a>,\n",
       "Springer-Verlag, New York\n",
       "</p>\n",
       "\n",
       "\n",
       "<h3>Examples</h3>\n",
       "\n",
       "<pre>\n",
       "summary(Smarket)\n",
       "lm(Today~Lag1+Lag2,data=Smarket)\n",
       "</pre>\n",
       "\n",
       "<hr /><div style=\"text-align: center;\">[Package <em>ISLR</em> version 1.2 ]</div>"
      ],
      "text/latex": [
       "\\inputencoding{utf8}\n",
       "\\HeaderA{Smarket}{S\\&P Stock Market Data}{Smarket}\n",
       "\\keyword{datasets}{Smarket}\n",
       "%\n",
       "\\begin{Description}\\relax\n",
       "Daily percentage returns for the S\\&P 500 stock index\n",
       "between 2001 and 2005. \n",
       "\n",
       "\\end{Description}\n",
       "%\n",
       "\\begin{Usage}\n",
       "\\begin{verbatim}\n",
       "Smarket\n",
       "\\end{verbatim}\n",
       "\\end{Usage}\n",
       "%\n",
       "\\begin{Format}\n",
       "A data frame with 1250 observations on the following 9 variables.\n",
       "\\begin{description}\n",
       "\n",
       "\\item[\\code{Year}] The year that the observation was recorded\n",
       "\\item[\\code{Lag1}] Percentage return for previous day\n",
       "\\item[\\code{Lag2}] Percentage return for 2 days previous\n",
       "\\item[\\code{Lag3}] Percentage return for 3 days previous\n",
       "\\item[\\code{Lag4}] Percentage return for 4 days previous\n",
       "\\item[\\code{Lag5}] Percentage return for 5 days previous\n",
       "\\item[\\code{Volume}] Volume of shares traded (number of daily shares\n",
       "traded in billions)\n",
       "\\item[\\code{Today}] Percentage return for today\n",
       "\\item[\\code{Direction}] A factor with levels \\code{Down} and\n",
       "\\code{Up} indicating whether the market had a positive or negative\n",
       "return on a given day\n",
       "\n",
       "\\end{description}\n",
       "\n",
       "\\end{Format}\n",
       "%\n",
       "\\begin{Source}\\relax\n",
       "Raw values of the S\\&P 500 were obtained from Yahoo Finance and\n",
       "then converted to percentages and lagged.\n",
       "\n",
       "\\end{Source}\n",
       "%\n",
       "\\begin{References}\\relax\n",
       "James, G., Witten, D., Hastie, T., and Tibshirani, R. (2013)\n",
       "\\emph{An Introduction to Statistical Learning with applications in R},\n",
       "\\url{www.StatLearning.com},\n",
       "Springer-Verlag, New York\n",
       "\\end{References}\n",
       "%\n",
       "\\begin{Examples}\n",
       "\\begin{ExampleCode}\n",
       "summary(Smarket)\n",
       "lm(Today~Lag1+Lag2,data=Smarket)\n",
       "\\end{ExampleCode}\n",
       "\\end{Examples}"
      ],
      "text/plain": [
       "Smarket                  package:ISLR                  R Documentation\n",
       "\n",
       "_\bS&_\bP _\bS_\bt_\bo_\bc_\bk _\bM_\ba_\br_\bk_\be_\bt _\bD_\ba_\bt_\ba\n",
       "\n",
       "_\bD_\be_\bs_\bc_\br_\bi_\bp_\bt_\bi_\bo_\bn:\n",
       "\n",
       "     Daily percentage returns for the S&P 500 stock index between 2001\n",
       "     and 2005.\n",
       "\n",
       "_\bU_\bs_\ba_\bg_\be:\n",
       "\n",
       "     Smarket\n",
       "     \n",
       "_\bF_\bo_\br_\bm_\ba_\bt:\n",
       "\n",
       "     A data frame with 1250 observations on the following 9 variables.\n",
       "\n",
       "     ‘Year’ The year that the observation was recorded\n",
       "\n",
       "     ‘Lag1’ Percentage return for previous day\n",
       "\n",
       "     ‘Lag2’ Percentage return for 2 days previous\n",
       "\n",
       "     ‘Lag3’ Percentage return for 3 days previous\n",
       "\n",
       "     ‘Lag4’ Percentage return for 4 days previous\n",
       "\n",
       "     ‘Lag5’ Percentage return for 5 days previous\n",
       "\n",
       "     ‘Volume’ Volume of shares traded (number of daily shares traded in\n",
       "          billions)\n",
       "\n",
       "     ‘Today’ Percentage return for today\n",
       "\n",
       "     ‘Direction’ A factor with levels ‘Down’ and ‘Up’ indicating\n",
       "          whether the market had a positive or negative return on a\n",
       "          given day\n",
       "\n",
       "_\bS_\bo_\bu_\br_\bc_\be:\n",
       "\n",
       "     Raw values of the S&P 500 were obtained from Yahoo Finance and\n",
       "     then converted to percentages and lagged.\n",
       "\n",
       "_\bR_\be_\bf_\be_\br_\be_\bn_\bc_\be_\bs:\n",
       "\n",
       "     James, G., Witten, D., Hastie, T., and Tibshirani, R. (2013) _An\n",
       "     Introduction to Statistical Learning with applications in R_,\n",
       "     <URL: www.StatLearning.com>, Springer-Verlag, New York\n",
       "\n",
       "_\bE_\bx_\ba_\bm_\bp_\bl_\be_\bs:\n",
       "\n",
       "     summary(Smarket)\n",
       "     lm(Today~Lag1+Lag2,data=Smarket)\n",
       "     "
      ]
     },
     "metadata": {},
     "output_type": "display_data"
    }
   ],
   "source": [
    "library(ISLR)\n",
    "?Smarket"
   ]
  },
  {
   "cell_type": "code",
   "execution_count": 2,
   "metadata": {},
   "outputs": [
    {
     "data": {
      "text/plain": [
       "      Year           Lag1                Lag2                Lag3          \n",
       " Min.   :2001   Min.   :-4.922000   Min.   :-4.922000   Min.   :-4.922000  \n",
       " 1st Qu.:2002   1st Qu.:-0.639500   1st Qu.:-0.639500   1st Qu.:-0.640000  \n",
       " Median :2003   Median : 0.039000   Median : 0.039000   Median : 0.038500  \n",
       " Mean   :2003   Mean   : 0.003834   Mean   : 0.003919   Mean   : 0.001716  \n",
       " 3rd Qu.:2004   3rd Qu.: 0.596750   3rd Qu.: 0.596750   3rd Qu.: 0.596750  \n",
       " Max.   :2005   Max.   : 5.733000   Max.   : 5.733000   Max.   : 5.733000  \n",
       "      Lag4                Lag5              Volume           Today          \n",
       " Min.   :-4.922000   Min.   :-4.92200   Min.   :0.3561   Min.   :-4.922000  \n",
       " 1st Qu.:-0.640000   1st Qu.:-0.64000   1st Qu.:1.2574   1st Qu.:-0.639500  \n",
       " Median : 0.038500   Median : 0.03850   Median :1.4229   Median : 0.038500  \n",
       " Mean   : 0.001636   Mean   : 0.00561   Mean   :1.4783   Mean   : 0.003138  \n",
       " 3rd Qu.: 0.596750   3rd Qu.: 0.59700   3rd Qu.:1.6417   3rd Qu.: 0.596750  \n",
       " Max.   : 5.733000   Max.   : 5.73300   Max.   :3.1525   Max.   : 5.733000  \n",
       " Direction \n",
       " Down:602  \n",
       " Up  :648  \n",
       "           \n",
       "           \n",
       "           \n",
       "           "
      ]
     },
     "metadata": {},
     "output_type": "display_data"
    }
   ],
   "source": [
    "summary(Smarket)"
   ]
  },
  {
   "cell_type": "code",
   "execution_count": 3,
   "metadata": {},
   "outputs": [
    {
     "data": {
      "text/html": [
       "<table>\n",
       "<thead><tr><th></th><th scope=col>Year</th><th scope=col>Lag1</th><th scope=col>Lag2</th><th scope=col>Lag3</th><th scope=col>Lag4</th><th scope=col>Lag5</th><th scope=col>Volume</th><th scope=col>Today</th></tr></thead>\n",
       "<tbody>\n",
       "\t<tr><th scope=row>Year</th><td>1.00000000  </td><td> 0.029699649</td><td> 0.030596422</td><td> 0.033194581</td><td> 0.035688718</td><td> 0.029787995</td><td> 0.53900647 </td><td> 0.030095229</td></tr>\n",
       "\t<tr><th scope=row>Lag1</th><td>0.02969965  </td><td> 1.000000000</td><td>-0.026294328</td><td>-0.010803402</td><td>-0.002985911</td><td>-0.005674606</td><td> 0.04090991 </td><td>-0.026155045</td></tr>\n",
       "\t<tr><th scope=row>Lag2</th><td>0.03059642  </td><td>-0.026294328</td><td> 1.000000000</td><td>-0.025896670</td><td>-0.010853533</td><td>-0.003557949</td><td>-0.04338321 </td><td>-0.010250033</td></tr>\n",
       "\t<tr><th scope=row>Lag3</th><td>0.03319458  </td><td>-0.010803402</td><td>-0.025896670</td><td> 1.000000000</td><td>-0.024051036</td><td>-0.018808338</td><td>-0.04182369 </td><td>-0.002447647</td></tr>\n",
       "\t<tr><th scope=row>Lag4</th><td>0.03568872  </td><td>-0.002985911</td><td>-0.010853533</td><td>-0.024051036</td><td> 1.000000000</td><td>-0.027083641</td><td>-0.04841425 </td><td>-0.006899527</td></tr>\n",
       "\t<tr><th scope=row>Lag5</th><td>0.02978799  </td><td>-0.005674606</td><td>-0.003557949</td><td>-0.018808338</td><td>-0.027083641</td><td> 1.000000000</td><td>-0.02200231 </td><td>-0.034860083</td></tr>\n",
       "\t<tr><th scope=row>Volume</th><td>0.53900647  </td><td> 0.040909908</td><td>-0.043383215</td><td>-0.041823686</td><td>-0.048414246</td><td>-0.022002315</td><td> 1.00000000 </td><td> 0.014591823</td></tr>\n",
       "\t<tr><th scope=row>Today</th><td>0.03009523  </td><td>-0.026155045</td><td>-0.010250033</td><td>-0.002447647</td><td>-0.006899527</td><td>-0.034860083</td><td> 0.01459182 </td><td> 1.000000000</td></tr>\n",
       "</tbody>\n",
       "</table>\n"
      ],
      "text/latex": [
       "\\begin{tabular}{r|llllllll}\n",
       "  & Year & Lag1 & Lag2 & Lag3 & Lag4 & Lag5 & Volume & Today\\\\\n",
       "\\hline\n",
       "\tYear & 1.00000000   &  0.029699649 &  0.030596422 &  0.033194581 &  0.035688718 &  0.029787995 &  0.53900647  &  0.030095229\\\\\n",
       "\tLag1 & 0.02969965   &  1.000000000 & -0.026294328 & -0.010803402 & -0.002985911 & -0.005674606 &  0.04090991  & -0.026155045\\\\\n",
       "\tLag2 & 0.03059642   & -0.026294328 &  1.000000000 & -0.025896670 & -0.010853533 & -0.003557949 & -0.04338321  & -0.010250033\\\\\n",
       "\tLag3 & 0.03319458   & -0.010803402 & -0.025896670 &  1.000000000 & -0.024051036 & -0.018808338 & -0.04182369  & -0.002447647\\\\\n",
       "\tLag4 & 0.03568872   & -0.002985911 & -0.010853533 & -0.024051036 &  1.000000000 & -0.027083641 & -0.04841425  & -0.006899527\\\\\n",
       "\tLag5 & 0.02978799   & -0.005674606 & -0.003557949 & -0.018808338 & -0.027083641 &  1.000000000 & -0.02200231  & -0.034860083\\\\\n",
       "\tVolume & 0.53900647   &  0.040909908 & -0.043383215 & -0.041823686 & -0.048414246 & -0.022002315 &  1.00000000  &  0.014591823\\\\\n",
       "\tToday & 0.03009523   & -0.026155045 & -0.010250033 & -0.002447647 & -0.006899527 & -0.034860083 &  0.01459182  &  1.000000000\\\\\n",
       "\\end{tabular}\n"
      ],
      "text/markdown": [
       "\n",
       "| <!--/--> | Year | Lag1 | Lag2 | Lag3 | Lag4 | Lag5 | Volume | Today | \n",
       "|---|---|---|---|---|---|---|---|\n",
       "| Year | 1.00000000   |  0.029699649 |  0.030596422 |  0.033194581 |  0.035688718 |  0.029787995 |  0.53900647  |  0.030095229 | \n",
       "| Lag1 | 0.02969965   |  1.000000000 | -0.026294328 | -0.010803402 | -0.002985911 | -0.005674606 |  0.04090991  | -0.026155045 | \n",
       "| Lag2 | 0.03059642   | -0.026294328 |  1.000000000 | -0.025896670 | -0.010853533 | -0.003557949 | -0.04338321  | -0.010250033 | \n",
       "| Lag3 | 0.03319458   | -0.010803402 | -0.025896670 |  1.000000000 | -0.024051036 | -0.018808338 | -0.04182369  | -0.002447647 | \n",
       "| Lag4 | 0.03568872   | -0.002985911 | -0.010853533 | -0.024051036 |  1.000000000 | -0.027083641 | -0.04841425  | -0.006899527 | \n",
       "| Lag5 | 0.02978799   | -0.005674606 | -0.003557949 | -0.018808338 | -0.027083641 |  1.000000000 | -0.02200231  | -0.034860083 | \n",
       "| Volume | 0.53900647   |  0.040909908 | -0.043383215 | -0.041823686 | -0.048414246 | -0.022002315 |  1.00000000  |  0.014591823 | \n",
       "| Today | 0.03009523   | -0.026155045 | -0.010250033 | -0.002447647 | -0.006899527 | -0.034860083 |  0.01459182  |  1.000000000 | \n",
       "\n",
       "\n"
      ],
      "text/plain": [
       "       Year       Lag1         Lag2         Lag3         Lag4        \n",
       "Year   1.00000000  0.029699649  0.030596422  0.033194581  0.035688718\n",
       "Lag1   0.02969965  1.000000000 -0.026294328 -0.010803402 -0.002985911\n",
       "Lag2   0.03059642 -0.026294328  1.000000000 -0.025896670 -0.010853533\n",
       "Lag3   0.03319458 -0.010803402 -0.025896670  1.000000000 -0.024051036\n",
       "Lag4   0.03568872 -0.002985911 -0.010853533 -0.024051036  1.000000000\n",
       "Lag5   0.02978799 -0.005674606 -0.003557949 -0.018808338 -0.027083641\n",
       "Volume 0.53900647  0.040909908 -0.043383215 -0.041823686 -0.048414246\n",
       "Today  0.03009523 -0.026155045 -0.010250033 -0.002447647 -0.006899527\n",
       "       Lag5         Volume      Today       \n",
       "Year    0.029787995  0.53900647  0.030095229\n",
       "Lag1   -0.005674606  0.04090991 -0.026155045\n",
       "Lag2   -0.003557949 -0.04338321 -0.010250033\n",
       "Lag3   -0.018808338 -0.04182369 -0.002447647\n",
       "Lag4   -0.027083641 -0.04841425 -0.006899527\n",
       "Lag5    1.000000000 -0.02200231 -0.034860083\n",
       "Volume -0.022002315  1.00000000  0.014591823\n",
       "Today  -0.034860083  0.01459182  1.000000000"
      ]
     },
     "metadata": {},
     "output_type": "display_data"
    }
   ],
   "source": [
    "cor(Smarket[,-9]) #drop the 9th column (Direction) because it is not numeric"
   ]
  },
  {
   "cell_type": "code",
   "execution_count": 4,
   "metadata": {},
   "outputs": [],
   "source": [
    "attach(Smarket) #attach names from dataframe to varaible space"
   ]
  },
  {
   "cell_type": "code",
   "execution_count": 5,
   "metadata": {},
   "outputs": [
    {
     "data": {
      "image/png": "[encoded data removed]",
      "text/plain": [
       "plot without title"
      ]
     },
     "metadata": {},
     "output_type": "display_data"
    }
   ],
   "source": [
    "plot(Volume)"
   ]
  },
  {
   "cell_type": "markdown",
   "metadata": {},
   "source": [
    "## Logistic Regression of Market Direction on past days"
   ]
  },
  {
   "cell_type": "code",
   "execution_count": 6,
   "metadata": {},
   "outputs": [
    {
     "data": {
      "text/plain": [
       "\n",
       "Call:\n",
       "glm(formula = Direction ~ Lag1 + Lag2 + Lag3 + Lag4 + Lag5 + \n",
       "    Volume, family = binomial, data = Smarket)\n",
       "\n",
       "Deviance Residuals: \n",
       "   Min      1Q  Median      3Q     Max  \n",
       "-1.446  -1.203   1.065   1.145   1.326  \n",
       "\n",
       "Coefficients:\n",
       "             Estimate Std. Error z value Pr(>|z|)\n",
       "(Intercept) -0.126000   0.240736  -0.523    0.601\n",
       "Lag1        -0.073074   0.050167  -1.457    0.145\n",
       "Lag2        -0.042301   0.050086  -0.845    0.398\n",
       "Lag3         0.011085   0.049939   0.222    0.824\n",
       "Lag4         0.009359   0.049974   0.187    0.851\n",
       "Lag5         0.010313   0.049511   0.208    0.835\n",
       "Volume       0.135441   0.158360   0.855    0.392\n",
       "\n",
       "(Dispersion parameter for binomial family taken to be 1)\n",
       "\n",
       "    Null deviance: 1731.2  on 1249  degrees of freedom\n",
       "Residual deviance: 1727.6  on 1243  degrees of freedom\n",
       "AIC: 1741.6\n",
       "\n",
       "Number of Fisher Scoring iterations: 3\n"
      ]
     },
     "metadata": {},
     "output_type": "display_data"
    }
   ],
   "source": [
    "glm.fit=glm(Direction ~ Lag1 + Lag2+Lag3+Lag4+Lag5 + Volume, family = binomial, data = Smarket)\n",
    "summary(glm.fit)"
   ]
  },
  {
   "cell_type": "markdown",
   "metadata": {},
   "source": [
    "### This sucks. The coefficients are close to zero..."
   ]
  },
  {
   "cell_type": "code",
   "execution_count": 7,
   "metadata": {},
   "outputs": [
    {
     "data": {
      "text/html": [
       "<dl class=dl-horizontal>\n",
       "\t<dt>(Intercept)</dt>\n",
       "\t\t<dd>-0.126000256559266</dd>\n",
       "\t<dt>Lag1</dt>\n",
       "\t\t<dd>-0.0730737458900261</dd>\n",
       "\t<dt>Lag2</dt>\n",
       "\t\t<dd>-0.0423013440073083</dd>\n",
       "\t<dt>Lag3</dt>\n",
       "\t\t<dd>0.0110851083796763</dd>\n",
       "\t<dt>Lag4</dt>\n",
       "\t\t<dd>0.00935893837027874</dd>\n",
       "\t<dt>Lag5</dt>\n",
       "\t\t<dd>0.0103130684758179</dd>\n",
       "\t<dt>Volume</dt>\n",
       "\t\t<dd>0.13544065885916</dd>\n",
       "</dl>\n"
      ],
      "text/latex": [
       "\\begin{description*}\n",
       "\\item[(Intercept)] -0.126000256559266\n",
       "\\item[Lag1] -0.0730737458900261\n",
       "\\item[Lag2] -0.0423013440073083\n",
       "\\item[Lag3] 0.0110851083796763\n",
       "\\item[Lag4] 0.00935893837027874\n",
       "\\item[Lag5] 0.0103130684758179\n",
       "\\item[Volume] 0.13544065885916\n",
       "\\end{description*}\n"
      ],
      "text/markdown": [
       "(Intercept)\n",
       ":   -0.126000256559266Lag1\n",
       ":   -0.0730737458900261Lag2\n",
       ":   -0.0423013440073083Lag3\n",
       ":   0.0110851083796763Lag4\n",
       ":   0.00935893837027874Lag5\n",
       ":   0.0103130684758179Volume\n",
       ":   0.13544065885916\n",
       "\n"
      ],
      "text/plain": [
       " (Intercept)         Lag1         Lag2         Lag3         Lag4         Lag5 \n",
       "-0.126000257 -0.073073746 -0.042301344  0.011085108  0.009358938  0.010313068 \n",
       "      Volume \n",
       " 0.135440659 "
      ]
     },
     "metadata": {},
     "output_type": "display_data"
    }
   ],
   "source": [
    "coef(glm.fit) #get vector of coefficients"
   ]
  },
  {
   "cell_type": "code",
   "execution_count": 8,
   "metadata": {},
   "outputs": [
    {
     "data": {
      "text/html": [
       "<ol class=list-inline>\n",
       "\t<li>'call'</li>\n",
       "\t<li>'terms'</li>\n",
       "\t<li>'family'</li>\n",
       "\t<li>'deviance'</li>\n",
       "\t<li>'aic'</li>\n",
       "\t<li>'contrasts'</li>\n",
       "\t<li>'df.residual'</li>\n",
       "\t<li>'null.deviance'</li>\n",
       "\t<li>'df.null'</li>\n",
       "\t<li>'iter'</li>\n",
       "\t<li>'deviance.resid'</li>\n",
       "\t<li>'coefficients'</li>\n",
       "\t<li>'aliased'</li>\n",
       "\t<li>'dispersion'</li>\n",
       "\t<li>'df'</li>\n",
       "\t<li>'cov.unscaled'</li>\n",
       "\t<li>'cov.scaled'</li>\n",
       "</ol>\n"
      ],
      "text/latex": [
       "\\begin{enumerate*}\n",
       "\\item 'call'\n",
       "\\item 'terms'\n",
       "\\item 'family'\n",
       "\\item 'deviance'\n",
       "\\item 'aic'\n",
       "\\item 'contrasts'\n",
       "\\item 'df.residual'\n",
       "\\item 'null.deviance'\n",
       "\\item 'df.null'\n",
       "\\item 'iter'\n",
       "\\item 'deviance.resid'\n",
       "\\item 'coefficients'\n",
       "\\item 'aliased'\n",
       "\\item 'dispersion'\n",
       "\\item 'df'\n",
       "\\item 'cov.unscaled'\n",
       "\\item 'cov.scaled'\n",
       "\\end{enumerate*}\n"
      ],
      "text/markdown": [
       "1. 'call'\n",
       "2. 'terms'\n",
       "3. 'family'\n",
       "4. 'deviance'\n",
       "5. 'aic'\n",
       "6. 'contrasts'\n",
       "7. 'df.residual'\n",
       "8. 'null.deviance'\n",
       "9. 'df.null'\n",
       "10. 'iter'\n",
       "11. 'deviance.resid'\n",
       "12. 'coefficients'\n",
       "13. 'aliased'\n",
       "14. 'dispersion'\n",
       "15. 'df'\n",
       "16. 'cov.unscaled'\n",
       "17. 'cov.scaled'\n",
       "\n",
       "\n"
      ],
      "text/plain": [
       " [1] \"call\"           \"terms\"          \"family\"         \"deviance\"      \n",
       " [5] \"aic\"            \"contrasts\"      \"df.residual\"    \"null.deviance\" \n",
       " [9] \"df.null\"        \"iter\"           \"deviance.resid\" \"coefficients\"  \n",
       "[13] \"aliased\"        \"dispersion\"     \"df\"             \"cov.unscaled\"  \n",
       "[17] \"cov.scaled\"    "
      ]
     },
     "metadata": {},
     "output_type": "display_data"
    }
   ],
   "source": [
    "names(summary(glm.fit)) #the summry funciton has a \"named list\" of entries"
   ]
  },
  {
   "cell_type": "code",
   "execution_count": 9,
   "metadata": {},
   "outputs": [
    {
     "data": {
      "text/html": [
       "<table>\n",
       "<thead><tr><th></th><th scope=col>Estimate</th><th scope=col>Std. Error</th><th scope=col>z value</th><th scope=col>Pr(&gt;|z|)</th></tr></thead>\n",
       "<tbody>\n",
       "\t<tr><th scope=row>(Intercept)</th><td>-0.126000257</td><td>0.24073574  </td><td>-0.5233966  </td><td>0.6006983   </td></tr>\n",
       "\t<tr><th scope=row>Lag1</th><td>-0.073073746</td><td>0.05016739  </td><td>-1.4565986  </td><td>0.1452272   </td></tr>\n",
       "\t<tr><th scope=row>Lag2</th><td>-0.042301344</td><td>0.05008605  </td><td>-0.8445733  </td><td>0.3983491   </td></tr>\n",
       "\t<tr><th scope=row>Lag3</th><td> 0.011085108</td><td>0.04993854  </td><td> 0.2219750  </td><td>0.8243333   </td></tr>\n",
       "\t<tr><th scope=row>Lag4</th><td> 0.009358938</td><td>0.04997413  </td><td> 0.1872757  </td><td>0.8514445   </td></tr>\n",
       "\t<tr><th scope=row>Lag5</th><td> 0.010313068</td><td>0.04951146  </td><td> 0.2082966  </td><td>0.8349974   </td></tr>\n",
       "\t<tr><th scope=row>Volume</th><td> 0.135440659</td><td>0.15835970  </td><td> 0.8552723  </td><td>0.3924004   </td></tr>\n",
       "</tbody>\n",
       "</table>\n"
      ],
      "text/latex": [
       "\\begin{tabular}{r|llll}\n",
       "  & Estimate & Std. Error & z value & Pr(>\\textbar{}z\\textbar{})\\\\\n",
       "\\hline\n",
       "\t(Intercept) & -0.126000257 & 0.24073574   & -0.5233966   & 0.6006983   \\\\\n",
       "\tLag1 & -0.073073746 & 0.05016739   & -1.4565986   & 0.1452272   \\\\\n",
       "\tLag2 & -0.042301344 & 0.05008605   & -0.8445733   & 0.3983491   \\\\\n",
       "\tLag3 &  0.011085108 & 0.04993854   &  0.2219750   & 0.8243333   \\\\\n",
       "\tLag4 &  0.009358938 & 0.04997413   &  0.1872757   & 0.8514445   \\\\\n",
       "\tLag5 &  0.010313068 & 0.04951146   &  0.2082966   & 0.8349974   \\\\\n",
       "\tVolume &  0.135440659 & 0.15835970   &  0.8552723   & 0.3924004   \\\\\n",
       "\\end{tabular}\n"
      ],
      "text/markdown": [
       "\n",
       "| <!--/--> | Estimate | Std. Error | z value | Pr(>|z|) | \n",
       "|---|---|---|---|---|---|---|\n",
       "| (Intercept) | -0.126000257 | 0.24073574   | -0.5233966   | 0.6006983    | \n",
       "| Lag1 | -0.073073746 | 0.05016739   | -1.4565986   | 0.1452272    | \n",
       "| Lag2 | -0.042301344 | 0.05008605   | -0.8445733   | 0.3983491    | \n",
       "| Lag3 |  0.011085108 | 0.04993854   |  0.2219750   | 0.8243333    | \n",
       "| Lag4 |  0.009358938 | 0.04997413   |  0.1872757   | 0.8514445    | \n",
       "| Lag5 |  0.010313068 | 0.04951146   |  0.2082966   | 0.8349974    | \n",
       "| Volume |  0.135440659 | 0.15835970   |  0.8552723   | 0.3924004    | \n",
       "\n",
       "\n"
      ],
      "text/plain": [
       "            Estimate     Std. Error z value    Pr(>|z|) \n",
       "(Intercept) -0.126000257 0.24073574 -0.5233966 0.6006983\n",
       "Lag1        -0.073073746 0.05016739 -1.4565986 0.1452272\n",
       "Lag2        -0.042301344 0.05008605 -0.8445733 0.3983491\n",
       "Lag3         0.011085108 0.04993854  0.2219750 0.8243333\n",
       "Lag4         0.009358938 0.04997413  0.1872757 0.8514445\n",
       "Lag5         0.010313068 0.04951146  0.2082966 0.8349974\n",
       "Volume       0.135440659 0.15835970  0.8552723 0.3924004"
      ]
     },
     "metadata": {},
     "output_type": "display_data"
    }
   ],
   "source": [
    "summary(glm.fit)$coef # we can extract each of theses entries by name"
   ]
  },
  {
   "cell_type": "code",
   "execution_count": 10,
   "metadata": {},
   "outputs": [
    {
     "data": {
      "text/html": [
       "<dl class=dl-horizontal>\n",
       "\t<dt>(Intercept)</dt>\n",
       "\t\t<dd>0.600698319413355</dd>\n",
       "\t<dt>Lag1</dt>\n",
       "\t\t<dd>0.145227211568647</dd>\n",
       "\t<dt>Lag2</dt>\n",
       "\t\t<dd>0.398349095427021</dd>\n",
       "\t<dt>Lag3</dt>\n",
       "\t\t<dd>0.824333346101536</dd>\n",
       "\t<dt>Lag4</dt>\n",
       "\t\t<dd>0.851444506926454</dd>\n",
       "\t<dt>Lag5</dt>\n",
       "\t\t<dd>0.834997390499829</dd>\n",
       "\t<dt>Volume</dt>\n",
       "\t\t<dd>0.392400433202429</dd>\n",
       "</dl>\n"
      ],
      "text/latex": [
       "\\begin{description*}\n",
       "\\item[(Intercept)] 0.600698319413355\n",
       "\\item[Lag1] 0.145227211568647\n",
       "\\item[Lag2] 0.398349095427021\n",
       "\\item[Lag3] 0.824333346101536\n",
       "\\item[Lag4] 0.851444506926454\n",
       "\\item[Lag5] 0.834997390499829\n",
       "\\item[Volume] 0.392400433202429\n",
       "\\end{description*}\n"
      ],
      "text/markdown": [
       "(Intercept)\n",
       ":   0.600698319413355Lag1\n",
       ":   0.145227211568647Lag2\n",
       ":   0.398349095427021Lag3\n",
       ":   0.824333346101536Lag4\n",
       ":   0.851444506926454Lag5\n",
       ":   0.834997390499829Volume\n",
       ":   0.392400433202429\n",
       "\n"
      ],
      "text/plain": [
       "(Intercept)        Lag1        Lag2        Lag3        Lag4        Lag5 \n",
       "  0.6006983   0.1452272   0.3983491   0.8243333   0.8514445   0.8349974 \n",
       "     Volume \n",
       "  0.3924004 "
      ]
     },
     "metadata": {},
     "output_type": "display_data"
    }
   ],
   "source": [
    "summary(glm.fit)$coef[,4] # and we can index each entry to get a column (or row). Here we extract the p.values"
   ]
  },
  {
   "cell_type": "markdown",
   "metadata": {},
   "source": [
    "### This is really DEPRESSING. The coefficients are close to zero AND the p-values are large...\n",
    "\n",
    "I swear, I have a buddy on the internet who told me this works. Let's try predicting anyway."
   ]
  },
  {
   "cell_type": "code",
   "execution_count": 11,
   "metadata": {},
   "outputs": [
    {
     "data": {
      "text/html": [
       "<dl class=dl-horizontal>\n",
       "\t<dt>1</dt>\n",
       "\t\t<dd>0.507084133395402</dd>\n",
       "\t<dt>2</dt>\n",
       "\t\t<dd>0.481467878454591</dd>\n",
       "\t<dt>3</dt>\n",
       "\t\t<dd>0.481138835214201</dd>\n",
       "\t<dt>4</dt>\n",
       "\t\t<dd>0.515222355813022</dd>\n",
       "\t<dt>5</dt>\n",
       "\t\t<dd>0.510781162691538</dd>\n",
       "</dl>\n"
      ],
      "text/latex": [
       "\\begin{description*}\n",
       "\\item[1] 0.507084133395402\n",
       "\\item[2] 0.481467878454591\n",
       "\\item[3] 0.481138835214201\n",
       "\\item[4] 0.515222355813022\n",
       "\\item[5] 0.510781162691538\n",
       "\\end{description*}\n"
      ],
      "text/markdown": [
       "1\n",
       ":   0.5070841333954022\n",
       ":   0.4814678784545913\n",
       ":   0.4811388352142014\n",
       ":   0.5152223558130225\n",
       ":   0.510781162691538\n",
       "\n"
      ],
      "text/plain": [
       "        1         2         3         4         5 \n",
       "0.5070841 0.4814679 0.4811388 0.5152224 0.5107812 "
      ]
     },
     "metadata": {},
     "output_type": "display_data"
    }
   ],
   "source": [
    "glm.probs=predict(glm.fit,type=\"response\")\n",
    "glm.probs[1:5] #look at the first 5 entries"
   ]
  },
  {
   "cell_type": "code",
   "execution_count": 12,
   "metadata": {},
   "outputs": [
    {
     "data": {
      "text/plain": [
       "        Direction\n",
       "glm.pred Down  Up\n",
       "    Down  145 141\n",
       "    Up    457 507"
      ]
     },
     "metadata": {},
     "output_type": "display_data"
    }
   ],
   "source": [
    "glm.pred=rep(\"Down\",1250) #initialize vector to \"Down\" for all 1250 entries\n",
    "glm.pred[glm.probs > .5]=\"Up\"\n",
    "\n",
    "table(glm.pred,Direction) #create a \"confusion matrix\""
   ]
  },
  {
   "cell_type": "code",
   "execution_count": 13,
   "metadata": {},
   "outputs": [
    {
     "data": {
      "text/html": [
       "0.5216"
      ],
      "text/latex": [
       "0.5216"
      ],
      "text/markdown": [
       "0.5216"
      ],
      "text/plain": [
       "[1] 0.5216"
      ]
     },
     "metadata": {},
     "output_type": "display_data"
    }
   ],
   "source": [
    "mean(glm.pred==Direction) #how many times, on average, did we predict correctly"
   ]
  },
  {
   "cell_type": "markdown",
   "metadata": {},
   "source": [
    "## OK. This is better, we seem to be be predicting above chance. Now we're talkin real money!\n",
    "\n",
    "But this is the hit rate on the training sample (i.e. \"in-sample\"). We should check it on a test sample.\n",
    "\n",
    "So let's re-do the analysis on the years 2001-2004, then predict for 2005."
   ]
  },
  {
   "cell_type": "code",
   "execution_count": 20,
   "metadata": {},
   "outputs": [
    {
     "data": {
      "text/html": [
       "<ol class=list-inline>\n",
       "\t<li>252</li>\n",
       "\t<li>9</li>\n",
       "</ol>\n"
      ],
      "text/latex": [
       "\\begin{enumerate*}\n",
       "\\item 252\n",
       "\\item 9\n",
       "\\end{enumerate*}\n"
      ],
      "text/markdown": [
       "1. 252\n",
       "2. 9\n",
       "\n",
       "\n"
      ],
      "text/plain": [
       "[1] 252   9"
      ]
     },
     "metadata": {},
     "output_type": "display_data"
    }
   ],
   "source": [
    "train=(Year<2005) # this creates a dummy variable for the year 2005. We can use it to index all the other variables\n",
    "Smarket.2005=Smarket[!train,] #creates a submatrix dataset for observations from 2005. The \"!\" opeartor is a logical \"not\"\n",
    "Direction.2005=Direction[!train]\n",
    "dim(Smarket.2005)"
   ]
  },
  {
   "cell_type": "code",
   "execution_count": 16,
   "metadata": {},
   "outputs": [
    {
     "data": {
      "text/plain": [
       "\n",
       "Call:\n",
       "glm(formula = Direction ~ Lag1 + Lag2 + Lag3 + Lag4 + Lag5 + \n",
       "    Volume, family = binomial, data = Smarket, subset = train)\n",
       "\n",
       "Deviance Residuals: \n",
       "   Min      1Q  Median      3Q     Max  \n",
       "-1.302  -1.190   1.079   1.160   1.350  \n",
       "\n",
       "Coefficients:\n",
       "             Estimate Std. Error z value Pr(>|z|)\n",
       "(Intercept)  0.191213   0.333690   0.573    0.567\n",
       "Lag1        -0.054178   0.051785  -1.046    0.295\n",
       "Lag2        -0.045805   0.051797  -0.884    0.377\n",
       "Lag3         0.007200   0.051644   0.139    0.889\n",
       "Lag4         0.006441   0.051706   0.125    0.901\n",
       "Lag5        -0.004223   0.051138  -0.083    0.934\n",
       "Volume      -0.116257   0.239618  -0.485    0.628\n",
       "\n",
       "(Dispersion parameter for binomial family taken to be 1)\n",
       "\n",
       "    Null deviance: 1383.3  on 997  degrees of freedom\n",
       "Residual deviance: 1381.1  on 991  degrees of freedom\n",
       "AIC: 1395.1\n",
       "\n",
       "Number of Fisher Scoring iterations: 3\n"
      ]
     },
     "metadata": {},
     "output_type": "display_data"
    }
   ],
   "source": [
    "glm.fit=glm(Direction ~ Lag1 + Lag2+Lag3+Lag4+Lag5 + Volume, family = binomial, data = Smarket, subset=train)\n",
    "summary(glm.fit)"
   ]
  },
  {
   "cell_type": "code",
   "execution_count": 17,
   "metadata": {},
   "outputs": [
    {
     "data": {
      "text/plain": [
       "        Direction.2005\n",
       "glm.pred Down Up\n",
       "    Down   77 97\n",
       "    Up     34 44"
      ]
     },
     "metadata": {},
     "output_type": "display_data"
    }
   ],
   "source": [
    "glm.probs=predict(glm.fit,Smarket.2005,type=\"response\")\n",
    "\n",
    "glm.pred=rep(\"Down\",252) #initialize vector to \"Down\" for all 1250 entries\n",
    "glm.pred[glm.probs > .5]=\"Up\"\n",
    "\n",
    "table(glm.pred,Direction.2005) #create a \"confusion matrix\""
   ]
  },
  {
   "cell_type": "code",
   "execution_count": 18,
   "metadata": {},
   "outputs": [
    {
     "data": {
      "text/html": [
       "0.48015873015873"
      ],
      "text/latex": [
       "0.48015873015873"
      ],
      "text/markdown": [
       "0.48015873015873"
      ],
      "text/plain": [
       "[1] 0.4801587"
      ]
     },
     "metadata": {},
     "output_type": "display_data"
    }
   ],
   "source": [
    "mean(glm.pred==Direction.2005)"
   ]
  },
  {
   "cell_type": "markdown",
   "metadata": {},
   "source": [
    "### Crap! It appears our hit rate is worse than chance (50/50).... Time to quit finance and get a real job I guess...."
   ]
  }
 ],
 "metadata": {
  "kernelspec": {
   "display_name": "R",
   "language": "R",
   "name": "ir"
  },
  "language_info": {
   "codemirror_mode": "r",
   "file_extension": ".r",
   "mimetype": "text/x-r-source",
   "name": "R",
   "pygments_lexer": "r",
   "version": "3.5.0"
  }
 },
 "nbformat": 4,
 "nbformat_minor": 2
}
