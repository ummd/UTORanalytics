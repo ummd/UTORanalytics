{
 "cells": [
  {
   "cell_type": "markdown",
   "metadata": {},
   "source": [
    "# Model Selection - Centering\n",
    "$$Y=\\beta_0 + \\beta_1X  + \\epsilon$$"
   ]
  },
  {
   "cell_type": "code",
   "execution_count": 17,
   "metadata": {},
   "outputs": [
    {
     "data": {
      "text/plain": [
       "\n",
       "Call:\n",
       "lm(formula = y ~ x)\n",
       "\n",
       "Residuals:\n",
       "     Min       1Q   Median       3Q      Max \n",
       "-13.1379  -4.2964  -0.9765   3.7758  16.4232 \n",
       "\n",
       "Coefficients:\n",
       "            Estimate Std. Error t value Pr(>|t|)    \n",
       "(Intercept)   1.7510     1.7272   1.014 0.313183    \n",
       "x             2.9926     0.7541   3.968 0.000138 ***\n",
       "---\n",
       "Signif. codes:  0 ‘***’ 0.001 ‘**’ 0.01 ‘*’ 0.05 ‘.’ 0.1 ‘ ’ 1\n",
       "\n",
       "Residual standard error: 6.739 on 98 degrees of freedom\n",
       "Multiple R-squared:  0.1385,\tAdjusted R-squared:  0.1297 \n",
       "F-statistic: 15.75 on 1 and 98 DF,  p-value: 0.0001379\n"
      ]
     },
     "metadata": {},
     "output_type": "display_data"
    }
   ],
   "source": [
    "set.seed(1) #set random seed so that the simulation is reproducible\n",
    "\n",
    "n <- 100 #number of observations per sample\n",
    "\n",
    "b0 <- 2\n",
    "b1 <- 3\n",
    "\n",
    "x <- 2 + rnorm(n) # specify the predictors with mean of 2\n",
    "\n",
    "e <- 7*rnorm(n) #draw a samples of errors\n",
    "y <- b0 + b1*x + e #generate the samples\n",
    "\n",
    "lm.fit=lm(y~x) #fit the linear model\n",
    "summary(lm.fit) #display"
   ]
  },
  {
   "cell_type": "markdown",
   "metadata": {},
   "source": [
    "We now consider the \"centered\" regression:\n",
    "\n",
    "$$Y-\\beta_1\\bar X=\\beta_0 + \\beta_1 X- \\beta_1\\bar X  + \\epsilon$$\n",
    "\n",
    "Note that this is equivalent to:\n",
    "\\begin{align}\n",
    "Y&=\\beta_0 +\\beta_1\\bar X + \\beta_1 (X-\\bar X)  + \\epsilon\\\\\n",
    "Y&=\\beta_c + \\beta_1 X_c  + \\epsilon\n",
    "\\end{align}\n",
    "\n",
    "where $\\beta_c = \\beta_0 +\\beta_1\\bar X$.\n",
    "\n",
    "Both regressions yield **the same** estimate of $\\beta_1$, but the interpretation of the estimate changes."
   ]
  },
  {
   "cell_type": "code",
   "execution_count": 13,
   "metadata": {},
   "outputs": [],
   "source": [
    "x.centered <- x-mean(x)"
   ]
  },
  {
   "cell_type": "code",
   "execution_count": 14,
   "metadata": {},
   "outputs": [
    {
     "data": {
      "text/plain": [
       "\n",
       "Call:\n",
       "lm(formula = y ~ x.centered)\n",
       "\n",
       "Residuals:\n",
       "     Min       1Q   Median       3Q      Max \n",
       "-13.1379  -4.2964  -0.9765   3.7758  16.4232 \n",
       "\n",
       "Coefficients:\n",
       "            Estimate Std. Error t value Pr(>|t|)    \n",
       "(Intercept)   8.0620     0.6739  11.963  < 2e-16 ***\n",
       "x.centered    2.9926     0.7541   3.968 0.000138 ***\n",
       "---\n",
       "Signif. codes:  0 ‘***’ 0.001 ‘**’ 0.01 ‘*’ 0.05 ‘.’ 0.1 ‘ ’ 1\n",
       "\n",
       "Residual standard error: 6.739 on 98 degrees of freedom\n",
       "Multiple R-squared:  0.1385,\tAdjusted R-squared:  0.1297 \n",
       "F-statistic: 15.75 on 1 and 98 DF,  p-value: 0.0001379\n"
      ]
     },
     "metadata": {},
     "output_type": "display_data"
    }
   ],
   "source": [
    "lm.fit=lm(y~x.centered) #fit the linear model\n",
    "summary(lm.fit) #display"
   ]
  },
  {
   "cell_type": "code",
   "execution_count": null,
   "metadata": {},
   "outputs": [],
   "source": []
  }
 ],
 "metadata": {
  "kernelspec": {
   "display_name": "R",
   "language": "R",
   "name": "ir"
  },
  "language_info": {
   "codemirror_mode": "r",
   "file_extension": ".r",
   "mimetype": "text/x-r-source",
   "name": "R",
   "pygments_lexer": "r",
   "version": "3.5.0"
  }
 },
 "nbformat": 4,
 "nbformat_minor": 2
}
