{
 "cells": [
  {
   "cell_type": "markdown",
   "metadata": {},
   "source": [
    "# Logistic Regression"
   ]
  },
  {
   "cell_type": "code",
   "execution_count": 57,
   "metadata": {},
   "outputs": [
    {
     "data": {
      "text/html": [
       "\n",
       "<table width=\"100%\" summary=\"page for Credit {ISLR}\"><tr><td>Credit {ISLR}</td><td style=\"text-align: right;\">R Documentation</td></tr></table>\n",
       "\n",
       "<h2>Credit Card Balance Data\n",
       "\n",
       "</h2>\n",
       "\n",
       "<h3>Description</h3>\n",
       "\n",
       "<p>A simulated data set containing information on ten thousand\n",
       "customers. The aim here is to predict which customers will default on\n",
       "their credit card debt.\n",
       "\n",
       "</p>\n",
       "\n",
       "\n",
       "<h3>Usage</h3>\n",
       "\n",
       "<pre>Credit</pre>\n",
       "\n",
       "\n",
       "<h3>Format</h3>\n",
       "\n",
       "<p>A data frame with 10000 observations on the following 4 variables.\n",
       "</p>\n",
       "\n",
       "<dl>\n",
       "<dt><code>ID</code></dt><dd><p>Identification</p>\n",
       "</dd>\n",
       "<dt><code>Income</code></dt><dd><p>Income in $10,000's</p>\n",
       "</dd>    \n",
       "<dt><code>Limit</code></dt><dd><p>Credit limit</p>\n",
       "</dd>\n",
       "<dt><code>Rating</code></dt><dd><p>Credit rating</p>\n",
       "</dd>\n",
       "<dt><code>Cards</code></dt><dd><p>Number of credit cards</p>\n",
       "</dd>\n",
       "<dt><code>Age</code></dt><dd><p>Age in years</p>\n",
       "</dd>  \n",
       "<dt><code>Education</code></dt><dd><p>Number of years of education</p>\n",
       "</dd> \n",
       "<dt><code>Gender</code></dt><dd><p>A factor with levels <code>Male</code> and <code>Female</code></p>\n",
       "</dd>\n",
       "<dt><code>Student</code></dt><dd><p>A factor with levels <code>No</code> and <code>Yes</code>\n",
       "indicating whether the individual was a student</p>\n",
       "</dd>\n",
       "<dt><code>Married</code></dt><dd><p>A factor with levels <code>No</code> and <code>Yes</code>\n",
       "indicating whether the individual was married</p>\n",
       "</dd>\n",
       "<dt><code>Ethnicity</code></dt><dd><p>A factor with levels <code>African American</code>, <code>Asian</code>, and <code>Caucasian</code>\n",
       "indicating the individual's ethnicity</p>\n",
       "</dd>\n",
       "<dt><code>Balance</code></dt><dd><p>Average credit card balance in $.</p>\n",
       "</dd>\n",
       "</dl>\n",
       "\n",
       "\n",
       "\n",
       "<h3>Source</h3>\n",
       "\n",
       "<p>Simulated data, with thanks to Albert Kim for pointing out that\n",
       "this was omitted, and supplying the data and man documentation page on\n",
       "Oct 19, 2017\n",
       "\n",
       "</p>\n",
       "\n",
       "\n",
       "<h3>References</h3>\n",
       "\n",
       "<p>James, G., Witten, D., Hastie, T., and Tibshirani, R. (2013)\n",
       "<em>An Introduction to Statistical Learning with applications in R</em>,\n",
       "<a href=\"www.StatLearning.com\">www.StatLearning.com</a>,\n",
       "Springer-Verlag, New York\n",
       "</p>\n",
       "\n",
       "\n",
       "<h3>Examples</h3>\n",
       "\n",
       "<pre>\n",
       "summary(Credit)\n",
       "lm(Balance ~ Student + Limit, data=Credit)\n",
       "</pre>\n",
       "\n",
       "<hr /><div style=\"text-align: center;\">[Package <em>ISLR</em> version 1.2 ]</div>"
      ],
      "text/latex": [
       "\\inputencoding{utf8}\n",
       "\\HeaderA{Credit}{Credit Card Balance Data}{Credit}\n",
       "\\keyword{datasets}{Credit}\n",
       "%\n",
       "\\begin{Description}\\relax\n",
       "A simulated data set containing information on ten thousand\n",
       "customers. The aim here is to predict which customers will default on\n",
       "their credit card debt.\n",
       "\n",
       "\\end{Description}\n",
       "%\n",
       "\\begin{Usage}\n",
       "\\begin{verbatim}\n",
       "Credit\n",
       "\\end{verbatim}\n",
       "\\end{Usage}\n",
       "%\n",
       "\\begin{Format}\n",
       "A data frame with 10000 observations on the following 4 variables.\n",
       "\\begin{description}\n",
       "\n",
       "\\item[\\code{ID}] Identification\n",
       "\\item[\\code{Income}] Income in \\$10,000's   \n",
       "\\item[\\code{Limit}] Credit limit\n",
       "\\item[\\code{Rating}] Credit rating\n",
       "\\item[\\code{Cards}] Number of credit cards\n",
       "\\item[\\code{Age}] Age in years \n",
       "\\item[\\code{Education}] Number of years of education\n",
       "\\item[\\code{Gender}] A factor with levels \\code{Male} and \\code{Female}\n",
       "\\item[\\code{Student}] A factor with levels \\code{No} and \\code{Yes}\n",
       "indicating whether the individual was a student\n",
       "\\item[\\code{Married}] A factor with levels \\code{No} and \\code{Yes}\n",
       "indicating whether the individual was married\n",
       "\\item[\\code{Ethnicity}] A factor with levels \\code{African American}, \\code{Asian}, and \\code{Caucasian}\n",
       "indicating the individual's ethnicity\n",
       "\\item[\\code{Balance}] Average credit card balance in \\$.\n",
       "\n",
       "\\end{description}\n",
       "\n",
       "\\end{Format}\n",
       "%\n",
       "\\begin{Source}\\relax\n",
       "Simulated data, with thanks to Albert Kim for pointing out that\n",
       "this was omitted, and supplying the data and man documentation page on\n",
       "Oct 19, 2017\n",
       "\n",
       "\\end{Source}\n",
       "%\n",
       "\\begin{References}\\relax\n",
       "James, G., Witten, D., Hastie, T., and Tibshirani, R. (2013)\n",
       "\\emph{An Introduction to Statistical Learning with applications in R},\n",
       "\\url{www.StatLearning.com},\n",
       "Springer-Verlag, New York\n",
       "\\end{References}\n",
       "%\n",
       "\\begin{Examples}\n",
       "\\begin{ExampleCode}\n",
       "summary(Credit)\n",
       "lm(Balance ~ Student + Limit, data=Credit)\n",
       "\\end{ExampleCode}\n",
       "\\end{Examples}"
      ],
      "text/plain": [
       "Credit                  package:ISLR                   R Documentation\n",
       "\n",
       "_\bC_\br_\be_\bd_\bi_\bt _\bC_\ba_\br_\bd _\bB_\ba_\bl_\ba_\bn_\bc_\be _\bD_\ba_\bt_\ba\n",
       "\n",
       "_\bD_\be_\bs_\bc_\br_\bi_\bp_\bt_\bi_\bo_\bn:\n",
       "\n",
       "     A simulated data set containing information on ten thousand\n",
       "     customers. The aim here is to predict which customers will default\n",
       "     on their credit card debt.\n",
       "\n",
       "_\bU_\bs_\ba_\bg_\be:\n",
       "\n",
       "     Credit\n",
       "     \n",
       "_\bF_\bo_\br_\bm_\ba_\bt:\n",
       "\n",
       "     A data frame with 10000 observations on the following 4 variables.\n",
       "\n",
       "     ‘ID’ Identification\n",
       "\n",
       "     ‘Income’ Income in $10,000's\n",
       "\n",
       "     ‘Limit’ Credit limit\n",
       "\n",
       "     ‘Rating’ Credit rating\n",
       "\n",
       "     ‘Cards’ Number of credit cards\n",
       "\n",
       "     ‘Age’ Age in years\n",
       "\n",
       "     ‘Education’ Number of years of education\n",
       "\n",
       "     ‘Gender’ A factor with levels ‘Male’ and ‘Female’\n",
       "\n",
       "     ‘Student’ A factor with levels ‘No’ and ‘Yes’ indicating whether\n",
       "          the individual was a student\n",
       "\n",
       "     ‘Married’ A factor with levels ‘No’ and ‘Yes’ indicating whether\n",
       "          the individual was married\n",
       "\n",
       "     ‘Ethnicity’ A factor with levels ‘African American’, ‘Asian’, and\n",
       "          ‘Caucasian’ indicating the individual's ethnicity\n",
       "\n",
       "     ‘Balance’ Average credit card balance in $.\n",
       "\n",
       "_\bS_\bo_\bu_\br_\bc_\be:\n",
       "\n",
       "     Simulated data, with thanks to Albert Kim for pointing out that\n",
       "     this was omitted, and supplying the data and man documentation\n",
       "     page on Oct 19, 2017\n",
       "\n",
       "_\bR_\be_\bf_\be_\br_\be_\bn_\bc_\be_\bs:\n",
       "\n",
       "     James, G., Witten, D., Hastie, T., and Tibshirani, R. (2013) _An\n",
       "     Introduction to Statistical Learning with applications in R_,\n",
       "     <URL: www.StatLearning.com>, Springer-Verlag, New York\n",
       "\n",
       "_\bE_\bx_\ba_\bm_\bp_\bl_\be_\bs:\n",
       "\n",
       "     summary(Credit)\n",
       "     lm(Balance ~ Student + Limit, data=Credit)\n",
       "     "
      ]
     },
     "metadata": {},
     "output_type": "display_data"
    }
   ],
   "source": [
    "library(ISLR) #load ISLR package which contains datasets \"Default\"\n",
    "?Credit"
   ]
  },
  {
   "cell_type": "markdown",
   "metadata": {},
   "source": [
    "## Linear regression"
   ]
  },
  {
   "cell_type": "code",
   "execution_count": 77,
   "metadata": {},
   "outputs": [
    {
     "data": {
      "text/plain": [
       "\n",
       "Call:\n",
       "lm(formula = Balance ~ Rating, data = Credit)\n",
       "\n",
       "Residuals:\n",
       "    Min      1Q  Median      3Q     Max \n",
       "-712.28 -135.32   -9.58  125.67  829.04 \n",
       "\n",
       "Coefficients:\n",
       "              Estimate Std. Error t value Pr(>|t|)    \n",
       "(Intercept) -390.84634   29.06851  -13.45   <2e-16 ***\n",
       "Rating         2.56624    0.07509   34.18   <2e-16 ***\n",
       "---\n",
       "Signif. codes:  0 ‘***’ 0.001 ‘**’ 0.01 ‘*’ 0.05 ‘.’ 0.1 ‘ ’ 1\n",
       "\n",
       "Residual standard error: 232.1 on 398 degrees of freedom\n",
       "Multiple R-squared:  0.7458,\tAdjusted R-squared:  0.7452 \n",
       "F-statistic:  1168 on 1 and 398 DF,  p-value: < 2.2e-16\n"
      ]
     },
     "metadata": {},
     "output_type": "display_data"
    },
    {
     "data": {
      "text/html": [
       "1"
      ],
      "text/latex": [
       "1"
      ],
      "text/markdown": [
       "1"
      ],
      "text/plain": [
       "[1] 1"
      ]
     },
     "metadata": {},
     "output_type": "display_data"
    }
   ],
   "source": [
    "R2=c(0,0,0,0)\n",
    "\n",
    "lm.fit <- lm(Balance~Rating,data=Credit)\n",
    "summary(lm.fit)\n",
    "R2[1] <- summary(lm.fit)$r.squared\n",
    "\n",
    "lm.fit <- lm(Balance~Income,data=Credit)\n",
    "R2[2] <- summary(lm.fit)$r.squared\n",
    "\n",
    "lm.fit <- lm(Balance~Student,data=Credit)\n",
    "R2[3] <- summary(lm.fit)$r.squared\n",
    "\n",
    "lm.fit <- lm(Balance~Cards,data=Credit)\n",
    "R2[4] <- summary(lm.fit)$r.squared\n",
    "\n",
    "lm.fit <- lm(Balance~Limit,data=Credit)\n",
    "R2[5] <- summary(lm.fit)$r.squared\n",
    "\n",
    "which.max(R2) #return the index of which is biggest"
   ]
  },
  {
   "cell_type": "code",
   "execution_count": 79,
   "metadata": {},
   "outputs": [
    {
     "data": {
      "text/html": [
       "0.952187504440383"
      ],
      "text/latex": [
       "0.952187504440383"
      ],
      "text/markdown": [
       "0.952187504440383"
      ],
      "text/plain": [
       "[1] 0.9521875"
      ]
     },
     "metadata": {},
     "output_type": "display_data"
    }
   ],
   "source": [
    "lm.fit <- lm(Balance~Rating + Income + Student + Limit,data=Credit)  #the R-squared from this regression is smaller\n",
    "summary(lm.fit)$r.squared"
   ]
  },
  {
   "cell_type": "code",
   "execution_count": 80,
   "metadata": {},
   "outputs": [
    {
     "data": {
      "text/html": [
       "0.953580002795413"
      ],
      "text/latex": [
       "0.953580002795413"
      ],
      "text/markdown": [
       "0.953580002795413"
      ],
      "text/plain": [
       "[1] 0.95358"
      ]
     },
     "metadata": {},
     "output_type": "display_data"
    }
   ],
   "source": [
    "lm.fit <- lm(Balance~Cards + Income + Student + Limit,data=Credit)  #the R-squared from this regression is bigger\n",
    "summary(lm.fit)$r.squared"
   ]
  }
 ],
 "metadata": {
  "kernelspec": {
   "display_name": "R",
   "language": "R",
   "name": "ir"
  },
  "language_info": {
   "codemirror_mode": "r",
   "file_extension": ".r",
   "mimetype": "text/x-r-source",
   "name": "R",
   "pygments_lexer": "r",
   "version": "3.5.0"
  }
 },
 "nbformat": 4,
 "nbformat_minor": 2
}
