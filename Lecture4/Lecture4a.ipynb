{
 "cells": [
  {
   "cell_type": "markdown",
   "metadata": {},
   "source": [
    "# Lecture 4a\n",
    "\n",
    "## Correlation and Omitted Variables (Sales Dataset)\n",
    "\n",
    "This example will demonstrate how correlation in predictor variables can change estimates.\n",
    "\n",
    "$sales=\\beta_0 + \\beta_1 TV +\\beta_2 radio + \\beta_3 newspaper + \\epsilon$$"
   ]
  },
  {
   "cell_type": "code",
   "execution_count": 2,
   "metadata": {},
   "outputs": [],
   "source": [
    "Advertising <- read.csv(\"~/rotman/RSM8512/Data/Advertising.csv\") #load data\n",
    "attach(Advertising) #attach variable names"
   ]
  },
  {
   "cell_type": "markdown",
   "metadata": {},
   "source": [
    "### Each of the variables, by themselves, correlates with sales"
   ]
  },
  {
   "cell_type": "code",
   "execution_count": 3,
   "metadata": {},
   "outputs": [
    {
     "data": {
      "text/plain": [
       "\n",
       "Call:\n",
       "lm(formula = sales ~ TV)\n",
       "\n",
       "Residuals:\n",
       "    Min      1Q  Median      3Q     Max \n",
       "-8.3860 -1.9545 -0.1913  2.0671  7.2124 \n",
       "\n",
       "Coefficients:\n",
       "            Estimate Std. Error t value Pr(>|t|)    \n",
       "(Intercept) 7.032594   0.457843   15.36   <2e-16 ***\n",
       "TV          0.047537   0.002691   17.67   <2e-16 ***\n",
       "---\n",
       "Signif. codes:  0 ‘***’ 0.001 ‘**’ 0.01 ‘*’ 0.05 ‘.’ 0.1 ‘ ’ 1\n",
       "\n",
       "Residual standard error: 3.259 on 198 degrees of freedom\n",
       "Multiple R-squared:  0.6119,\tAdjusted R-squared:  0.6099 \n",
       "F-statistic: 312.1 on 1 and 198 DF,  p-value: < 2.2e-16\n"
      ]
     },
     "metadata": {},
     "output_type": "display_data"
    }
   ],
   "source": [
    "lm.fit=lm(sales~TV) # estimate a linear model regressing sales on TV\n",
    "summary(lm.fit) # display results"
   ]
  },
  {
   "cell_type": "code",
   "execution_count": 4,
   "metadata": {},
   "outputs": [
    {
     "data": {
      "text/plain": [
       "\n",
       "Call:\n",
       "lm(formula = sales ~ radio)\n",
       "\n",
       "Residuals:\n",
       "     Min       1Q   Median       3Q      Max \n",
       "-15.7305  -2.1324   0.7707   2.7775   8.1810 \n",
       "\n",
       "Coefficients:\n",
       "            Estimate Std. Error t value Pr(>|t|)    \n",
       "(Intercept)  9.31164    0.56290  16.542   <2e-16 ***\n",
       "radio        0.20250    0.02041   9.921   <2e-16 ***\n",
       "---\n",
       "Signif. codes:  0 ‘***’ 0.001 ‘**’ 0.01 ‘*’ 0.05 ‘.’ 0.1 ‘ ’ 1\n",
       "\n",
       "Residual standard error: 4.275 on 198 degrees of freedom\n",
       "Multiple R-squared:  0.332,\tAdjusted R-squared:  0.3287 \n",
       "F-statistic: 98.42 on 1 and 198 DF,  p-value: < 2.2e-16\n"
      ]
     },
     "metadata": {},
     "output_type": "display_data"
    }
   ],
   "source": [
    "lm.fit=lm(sales~radio) # estimate a linear model regressing sales on radio\n",
    "summary(lm.fit) # display results"
   ]
  },
  {
   "cell_type": "code",
   "execution_count": 5,
   "metadata": {},
   "outputs": [
    {
     "data": {
      "text/plain": [
       "\n",
       "Call:\n",
       "lm(formula = sales ~ newspaper)\n",
       "\n",
       "Residuals:\n",
       "     Min       1Q   Median       3Q      Max \n",
       "-11.2272  -3.3873  -0.8392   3.5059  12.7751 \n",
       "\n",
       "Coefficients:\n",
       "            Estimate Std. Error t value Pr(>|t|)    \n",
       "(Intercept) 12.35141    0.62142   19.88  < 2e-16 ***\n",
       "newspaper    0.05469    0.01658    3.30  0.00115 ** \n",
       "---\n",
       "Signif. codes:  0 ‘***’ 0.001 ‘**’ 0.01 ‘*’ 0.05 ‘.’ 0.1 ‘ ’ 1\n",
       "\n",
       "Residual standard error: 5.092 on 198 degrees of freedom\n",
       "Multiple R-squared:  0.05212,\tAdjusted R-squared:  0.04733 \n",
       "F-statistic: 10.89 on 1 and 198 DF,  p-value: 0.001148\n"
      ]
     },
     "metadata": {},
     "output_type": "display_data"
    }
   ],
   "source": [
    "lm.fit=lm(sales~newspaper) # estimate a linear model regressing sales on newspaper\n",
    "summary(lm.fit) # display results"
   ]
  },
  {
   "cell_type": "markdown",
   "metadata": {},
   "source": [
    "### When we include all three variables, however, newspaper is no longer positive and significant"
   ]
  },
  {
   "cell_type": "code",
   "execution_count": 6,
   "metadata": {},
   "outputs": [
    {
     "data": {
      "text/plain": [
       "\n",
       "Call:\n",
       "lm(formula = sales ~ TV + radio + newspaper)\n",
       "\n",
       "Residuals:\n",
       "    Min      1Q  Median      3Q     Max \n",
       "-8.8277 -0.8908  0.2418  1.1893  2.8292 \n",
       "\n",
       "Coefficients:\n",
       "             Estimate Std. Error t value Pr(>|t|)    \n",
       "(Intercept)  2.938889   0.311908   9.422   <2e-16 ***\n",
       "TV           0.045765   0.001395  32.809   <2e-16 ***\n",
       "radio        0.188530   0.008611  21.893   <2e-16 ***\n",
       "newspaper   -0.001037   0.005871  -0.177     0.86    \n",
       "---\n",
       "Signif. codes:  0 ‘***’ 0.001 ‘**’ 0.01 ‘*’ 0.05 ‘.’ 0.1 ‘ ’ 1\n",
       "\n",
       "Residual standard error: 1.686 on 196 degrees of freedom\n",
       "Multiple R-squared:  0.8972,\tAdjusted R-squared:  0.8956 \n",
       "F-statistic: 570.3 on 3 and 196 DF,  p-value: < 2.2e-16\n"
      ]
     },
     "metadata": {},
     "output_type": "display_data"
    }
   ],
   "source": [
    "lm.fit=lm(sales~TV+radio+newspaper) # estimate a linear model regressing sales on TV\n",
    "summary(lm.fit) # display results"
   ]
  },
  {
   "cell_type": "markdown",
   "metadata": {},
   "source": [
    "### We can verify that newspaper adds little explanatory variation, by dropping it from the model"
   ]
  },
  {
   "cell_type": "markdown",
   "metadata": {},
   "source": [
    "Notice that the coefficients on TV and radio change little"
   ]
  },
  {
   "cell_type": "code",
   "execution_count": 7,
   "metadata": {},
   "outputs": [
    {
     "data": {
      "text/plain": [
       "\n",
       "Call:\n",
       "lm(formula = sales ~ TV + radio)\n",
       "\n",
       "Residuals:\n",
       "    Min      1Q  Median      3Q     Max \n",
       "-8.7977 -0.8752  0.2422  1.1708  2.8328 \n",
       "\n",
       "Coefficients:\n",
       "            Estimate Std. Error t value Pr(>|t|)    \n",
       "(Intercept)  2.92110    0.29449   9.919   <2e-16 ***\n",
       "TV           0.04575    0.00139  32.909   <2e-16 ***\n",
       "radio        0.18799    0.00804  23.382   <2e-16 ***\n",
       "---\n",
       "Signif. codes:  0 ‘***’ 0.001 ‘**’ 0.01 ‘*’ 0.05 ‘.’ 0.1 ‘ ’ 1\n",
       "\n",
       "Residual standard error: 1.681 on 197 degrees of freedom\n",
       "Multiple R-squared:  0.8972,\tAdjusted R-squared:  0.8962 \n",
       "F-statistic: 859.6 on 2 and 197 DF,  p-value: < 2.2e-16\n"
      ]
     },
     "metadata": {},
     "output_type": "display_data"
    }
   ],
   "source": [
    "lm.fit=lm(sales~TV+radio) # estimate a linear model regressing sales on TV\n",
    "summary(lm.fit) # display results"
   ]
  },
  {
   "cell_type": "markdown",
   "metadata": {},
   "source": [
    "### However, if we dropped radio instead, then we might erroneously conclude that newspaper spending caused sales!"
   ]
  },
  {
   "cell_type": "markdown",
   "metadata": {},
   "source": [
    "This is an example of **omitted variable bias**, where an omitted variable (radio) is:\n",
    "\n",
    "1) correlatd with the response variable (sales)\n",
    "\n",
    "2) correlated with other predictors (newspaper)"
   ]
  },
  {
   "cell_type": "code",
   "execution_count": 8,
   "metadata": {},
   "outputs": [
    {
     "data": {
      "text/plain": [
       "\n",
       "Call:\n",
       "lm(formula = sales ~ TV + newspaper)\n",
       "\n",
       "Residuals:\n",
       "    Min      1Q  Median      3Q     Max \n",
       "-8.6231 -1.7346 -0.0948  1.8926  8.4512 \n",
       "\n",
       "Coefficients:\n",
       "            Estimate Std. Error t value Pr(>|t|)    \n",
       "(Intercept) 5.774948   0.525338  10.993  < 2e-16 ***\n",
       "TV          0.046901   0.002581  18.173  < 2e-16 ***\n",
       "newspaper   0.044219   0.010174   4.346 2.22e-05 ***\n",
       "---\n",
       "Signif. codes:  0 ‘***’ 0.001 ‘**’ 0.01 ‘*’ 0.05 ‘.’ 0.1 ‘ ’ 1\n",
       "\n",
       "Residual standard error: 3.121 on 197 degrees of freedom\n",
       "Multiple R-squared:  0.6458,\tAdjusted R-squared:  0.6422 \n",
       "F-statistic: 179.6 on 2 and 197 DF,  p-value: < 2.2e-16\n"
      ]
     },
     "metadata": {},
     "output_type": "display_data"
    }
   ],
   "source": [
    "lm.fit=lm(sales~TV+newspaper) # estimate a linear model regressing sales on TV and newspaper only\n",
    "summary(lm.fit) # display results"
   ]
  },
  {
   "cell_type": "code",
   "execution_count": 9,
   "metadata": {},
   "outputs": [
    {
     "data": {
      "text/html": [
       "<table>\n",
       "<thead><tr><th></th><th scope=col>X</th><th scope=col>TV</th><th scope=col>radio</th><th scope=col>newspaper</th><th scope=col>sales</th></tr></thead>\n",
       "<tbody>\n",
       "\t<tr><th scope=row>X</th><td> 1.00000000</td><td>0.01771469 </td><td>-0.11068044</td><td>-0.15494414</td><td>-0.05161625</td></tr>\n",
       "\t<tr><th scope=row>TV</th><td> 0.01771469</td><td>1.00000000 </td><td> 0.05480866</td><td> 0.05664787</td><td> 0.78222442</td></tr>\n",
       "\t<tr><th scope=row>radio</th><td>-0.11068044</td><td>0.05480866 </td><td> 1.00000000</td><td> 0.35410375</td><td> 0.57622257</td></tr>\n",
       "\t<tr><th scope=row>newspaper</th><td>-0.15494414</td><td>0.05664787 </td><td> 0.35410375</td><td> 1.00000000</td><td> 0.22829903</td></tr>\n",
       "\t<tr><th scope=row>sales</th><td>-0.05161625</td><td>0.78222442 </td><td> 0.57622257</td><td> 0.22829903</td><td> 1.00000000</td></tr>\n",
       "</tbody>\n",
       "</table>\n"
      ],
      "text/latex": [
       "\\begin{tabular}{r|lllll}\n",
       "  & X & TV & radio & newspaper & sales\\\\\n",
       "\\hline\n",
       "\tX &  1.00000000 & 0.01771469  & -0.11068044 & -0.15494414 & -0.05161625\\\\\n",
       "\tTV &  0.01771469 & 1.00000000  &  0.05480866 &  0.05664787 &  0.78222442\\\\\n",
       "\tradio & -0.11068044 & 0.05480866  &  1.00000000 &  0.35410375 &  0.57622257\\\\\n",
       "\tnewspaper & -0.15494414 & 0.05664787  &  0.35410375 &  1.00000000 &  0.22829903\\\\\n",
       "\tsales & -0.05161625 & 0.78222442  &  0.57622257 &  0.22829903 &  1.00000000\\\\\n",
       "\\end{tabular}\n"
      ],
      "text/markdown": [
       "\n",
       "| <!--/--> | X | TV | radio | newspaper | sales |\n",
       "|---|---|---|---|---|---|\n",
       "| X |  1.00000000 | 0.01771469  | -0.11068044 | -0.15494414 | -0.05161625 |\n",
       "| TV |  0.01771469 | 1.00000000  |  0.05480866 |  0.05664787 |  0.78222442 |\n",
       "| radio | -0.11068044 | 0.05480866  |  1.00000000 |  0.35410375 |  0.57622257 |\n",
       "| newspaper | -0.15494414 | 0.05664787  |  0.35410375 |  1.00000000 |  0.22829903 |\n",
       "| sales | -0.05161625 | 0.78222442  |  0.57622257 |  0.22829903 |  1.00000000 |\n",
       "\n"
      ],
      "text/plain": [
       "          X           TV         radio       newspaper   sales      \n",
       "X          1.00000000 0.01771469 -0.11068044 -0.15494414 -0.05161625\n",
       "TV         0.01771469 1.00000000  0.05480866  0.05664787  0.78222442\n",
       "radio     -0.11068044 0.05480866  1.00000000  0.35410375  0.57622257\n",
       "newspaper -0.15494414 0.05664787  0.35410375  1.00000000  0.22829903\n",
       "sales     -0.05161625 0.78222442  0.57622257  0.22829903  1.00000000"
      ]
     },
     "metadata": {},
     "output_type": "display_data"
    }
   ],
   "source": [
    "cor(Advertising)"
   ]
  },
  {
   "cell_type": "markdown",
   "metadata": {},
   "source": [
    "Notice that newspaper and radio are highly correlated"
   ]
  },
  {
   "cell_type": "markdown",
   "metadata": {},
   "source": [
    "## Generating Predicted Values"
   ]
  },
  {
   "cell_type": "code",
   "execution_count": 7,
   "metadata": {},
   "outputs": [
    {
     "data": {
      "text/html": [
       "<table>\n",
       "<thead><tr><th></th><th scope=col>fit</th><th scope=col>lwr</th><th scope=col>upr</th></tr></thead>\n",
       "<tbody>\n",
       "\t<tr><th scope=row>1</th><td>11.25647</td><td>7.929616</td><td>14.58332</td></tr>\n",
       "</tbody>\n",
       "</table>\n"
      ],
      "text/latex": [
       "\\begin{tabular}{r|lll}\n",
       "  & fit & lwr & upr\\\\\n",
       "\\hline\n",
       "\t1 & 11.25647 & 7.929616 & 14.58332\\\\\n",
       "\\end{tabular}\n"
      ],
      "text/markdown": [
       "\n",
       "| <!--/--> | fit | lwr | upr | \n",
       "|---|\n",
       "| 1 | 11.25647 | 7.929616 | 14.58332 | \n",
       "\n",
       "\n"
      ],
      "text/plain": [
       "  fit      lwr      upr     \n",
       "1 11.25647 7.929616 14.58332"
      ]
     },
     "metadata": {},
     "output_type": "display_data"
    }
   ],
   "source": [
    "predict(lm.fit,data.frame(TV=100,radio=20),interval=\"prediction\") #predicted values at TV=$100,000 and radio=$20,000"
   ]
  },
  {
   "cell_type": "code",
   "execution_count": 6,
   "metadata": {},
   "outputs": [
    {
     "data": {
      "text/html": [
       "<table>\n",
       "<thead><tr><th></th><th scope=col>fit</th><th scope=col>lwr</th><th scope=col>upr</th></tr></thead>\n",
       "<tbody>\n",
       "\t<tr><th scope=row>1</th><td>11.25647</td><td>10.98525</td><td>11.52768</td></tr>\n",
       "</tbody>\n",
       "</table>\n"
      ],
      "text/latex": [
       "\\begin{tabular}{r|lll}\n",
       "  & fit & lwr & upr\\\\\n",
       "\\hline\n",
       "\t1 & 11.25647 & 10.98525 & 11.52768\\\\\n",
       "\\end{tabular}\n"
      ],
      "text/markdown": [
       "\n",
       "| <!--/--> | fit | lwr | upr | \n",
       "|---|\n",
       "| 1 | 11.25647 | 10.98525 | 11.52768 | \n",
       "\n",
       "\n"
      ],
      "text/plain": [
       "  fit      lwr      upr     \n",
       "1 11.25647 10.98525 11.52768"
      ]
     },
     "metadata": {},
     "output_type": "display_data"
    }
   ],
   "source": [
    "predict(lm.fit,data.frame(TV=100,radio=20),interval=\"confidence\")"
   ]
  },
  {
   "cell_type": "code",
   "execution_count": 11,
   "metadata": {},
   "outputs": [
    {
     "data": {
      "text/html": [
       "<table>\n",
       "<thead><tr><th></th><th scope=col>fit</th><th scope=col>lwr</th><th scope=col>upr</th></tr></thead>\n",
       "<tbody>\n",
       "\t<tr><th scope=row>1</th><td>20.555465</td><td>20.162781</td><td>20.948148</td></tr>\n",
       "\t<tr><th scope=row>2</th><td>12.345362</td><td>11.890932</td><td>12.799792</td></tr>\n",
       "\t<tr><th scope=row>3</th><td>12.337018</td><td>11.767337</td><td>12.906699</td></tr>\n",
       "\t<tr><th scope=row>4</th><td>17.617116</td><td>17.247635</td><td>17.986597</td></tr>\n",
       "\t<tr><th scope=row>5</th><td>13.223908</td><td>12.900491</td><td>13.547326</td></tr>\n",
       "\t<tr><th scope=row>6</th><td>12.512084</td><td>11.894853</td><td>13.129316</td></tr>\n",
       "\t<tr><th scope=row>7</th><td>11.718212</td><td>11.341145</td><td>12.095280</td></tr>\n",
       "\t<tr><th scope=row>8</th><td>12.105516</td><td>11.853931</td><td>12.357100</td></tr>\n",
       "\t<tr><th scope=row>9</th><td> 3.709379</td><td> 3.163756</td><td> 4.255002</td></tr>\n",
       "\t<tr><th scope=row>10</th><td>12.551697</td><td>12.117602</td><td>12.985792</td></tr>\n",
       "\t<tr><th scope=row>11</th><td> 7.035860</td><td> 6.618530</td><td> 7.453190</td></tr>\n",
       "\t<tr><th scope=row>12</th><td>17.256520</td><td>16.957715</td><td>17.555325</td></tr>\n",
       "\t<tr><th scope=row>13</th><td>10.608662</td><td>10.148956</td><td>11.068368</td></tr>\n",
       "\t<tr><th scope=row>14</th><td> 8.810951</td><td> 8.448447</td><td> 9.173454</td></tr>\n",
       "\t<tr><th scope=row>15</th><td>18.444668</td><td>18.128172</td><td>18.761164</td></tr>\n",
       "\t<tr><th scope=row>16</th><td>20.828915</td><td>20.363046</td><td>21.294784</td></tr>\n",
       "\t<tr><th scope=row>17</th><td>12.903865</td><td>12.514088</td><td>13.293643</td></tr>\n",
       "\t<tr><th scope=row>18</th><td>23.241076</td><td>22.743769</td><td>23.738384</td></tr>\n",
       "\t<tr><th scope=row>19</th><td> 9.941215</td><td> 9.622747</td><td>10.259683</td></tr>\n",
       "\t<tr><th scope=row>20</th><td>14.153846</td><td>13.919169</td><td>14.388523</td></tr>\n",
       "\t<tr><th scope=row>21</th><td>18.121392</td><td>17.810440</td><td>18.432343</td></tr>\n",
       "\t<tr><th scope=row>22</th><td>14.742064</td><td>14.286963</td><td>15.197164</td></tr>\n",
       "\t<tr><th scope=row>23</th><td> 6.514172</td><td> 6.068545</td><td> 6.959798</td></tr>\n",
       "\t<tr><th scope=row>24</th><td>16.544027</td><td>16.201598</td><td>16.886455</td></tr>\n",
       "\t<tr><th scope=row>25</th><td> 8.140352</td><td> 7.775328</td><td> 8.505377</td></tr>\n",
       "\t<tr><th scope=row>26</th><td>15.608021</td><td>15.093243</td><td>16.122799</td></tr>\n",
       "\t<tr><th scope=row>27</th><td>14.967694</td><td>14.713963</td><td>15.221424</td></tr>\n",
       "\t<tr><th scope=row>28</th><td>17.046335</td><td>16.680523</td><td>17.412146</td></tr>\n",
       "\t<tr><th scope=row>29</th><td>19.399541</td><td>19.032586</td><td>19.766497</td></tr>\n",
       "\t<tr><th scope=row>30</th><td> 9.159297</td><td> 8.828357</td><td> 9.490238</td></tr>\n",
       "\t<tr><th scope=row>⋮</th><td>⋮</td><td>⋮</td><td>⋮</td></tr>\n",
       "\t<tr><th scope=row>171</th><td> 7.389574</td><td> 6.996409</td><td> 7.782738</td></tr>\n",
       "\t<tr><th scope=row>172</th><td>14.376846</td><td>14.134226</td><td>14.619467</td></tr>\n",
       "\t<tr><th scope=row>173</th><td> 7.596578</td><td> 7.175068</td><td> 8.018088</td></tr>\n",
       "\t<tr><th scope=row>174</th><td>11.960970</td><td>11.606386</td><td>12.315554</td></tr>\n",
       "\t<tr><th scope=row>175</th><td>13.736151</td><td>13.284495</td><td>14.187807</td></tr>\n",
       "\t<tr><th scope=row>176</th><td>24.783526</td><td>24.208112</td><td>25.358940</td></tr>\n",
       "\t<tr><th scope=row>177</th><td>19.964022</td><td>19.588588</td><td>20.339455</td></tr>\n",
       "\t<tr><th scope=row>178</th><td>12.174924</td><td>11.827322</td><td>12.522527</td></tr>\n",
       "\t<tr><th scope=row>179</th><td>16.013844</td><td>15.461761</td><td>16.565927</td></tr>\n",
       "\t<tr><th scope=row>180</th><td>12.378040</td><td>12.057161</td><td>12.698918</td></tr>\n",
       "\t<tr><th scope=row>181</th><td>10.575089</td><td>10.170187</td><td>10.979991</td></tr>\n",
       "\t<tr><th scope=row>182</th><td>13.933696</td><td>13.509822</td><td>14.357570</td></tr>\n",
       "\t<tr><th scope=row>183</th><td> 6.564088</td><td> 6.131695</td><td> 6.996480</td></tr>\n",
       "\t<tr><th scope=row>184</th><td>24.163936</td><td>23.627093</td><td>24.700780</td></tr>\n",
       "\t<tr><th scope=row>185</th><td>18.537949</td><td>18.160293</td><td>18.915605</td></tr>\n",
       "\t<tr><th scope=row>186</th><td>20.779377</td><td>20.338851</td><td>21.219902</td></tr>\n",
       "\t<tr><th scope=row>187</th><td> 9.698684</td><td> 9.289731</td><td>10.107638</td></tr>\n",
       "\t<tr><th scope=row>188</th><td>17.060279</td><td>16.784867</td><td>17.335692</td></tr>\n",
       "\t<tr><th scope=row>189</th><td>18.620097</td><td>18.142203</td><td>19.097990</td></tr>\n",
       "\t<tr><th scope=row>190</th><td> 6.051445</td><td> 5.600545</td><td> 6.502345</td></tr>\n",
       "\t<tr><th scope=row>191</th><td>12.454978</td><td>11.974316</td><td>12.935640</td></tr>\n",
       "\t<tr><th scope=row>192</th><td> 8.405926</td><td> 8.047797</td><td> 8.764055</td></tr>\n",
       "\t<tr><th scope=row>193</th><td> 4.478859</td><td> 3.966817</td><td> 4.990901</td></tr>\n",
       "\t<tr><th scope=row>194</th><td>18.448761</td><td>18.068771</td><td>18.828750</td></tr>\n",
       "\t<tr><th scope=row>195</th><td>16.463190</td><td>16.158026</td><td>16.768355</td></tr>\n",
       "\t<tr><th scope=row>196</th><td> 5.364512</td><td> 4.884816</td><td> 5.844209</td></tr>\n",
       "\t<tr><th scope=row>197</th><td> 8.152375</td><td> 7.757255</td><td> 8.547495</td></tr>\n",
       "\t<tr><th scope=row>198</th><td>12.768048</td><td>12.432291</td><td>13.103806</td></tr>\n",
       "\t<tr><th scope=row>199</th><td>23.792923</td><td>23.272132</td><td>24.313714</td></tr>\n",
       "\t<tr><th scope=row>200</th><td>15.157543</td><td>14.746003</td><td>15.569083</td></tr>\n",
       "</tbody>\n",
       "</table>\n"
      ],
      "text/latex": [
       "\\begin{tabular}{r|lll}\n",
       "  & fit & lwr & upr\\\\\n",
       "\\hline\n",
       "\t1 & 20.555465 & 20.162781 & 20.948148\\\\\n",
       "\t2 & 12.345362 & 11.890932 & 12.799792\\\\\n",
       "\t3 & 12.337018 & 11.767337 & 12.906699\\\\\n",
       "\t4 & 17.617116 & 17.247635 & 17.986597\\\\\n",
       "\t5 & 13.223908 & 12.900491 & 13.547326\\\\\n",
       "\t6 & 12.512084 & 11.894853 & 13.129316\\\\\n",
       "\t7 & 11.718212 & 11.341145 & 12.095280\\\\\n",
       "\t8 & 12.105516 & 11.853931 & 12.357100\\\\\n",
       "\t9 &  3.709379 &  3.163756 &  4.255002\\\\\n",
       "\t10 & 12.551697 & 12.117602 & 12.985792\\\\\n",
       "\t11 &  7.035860 &  6.618530 &  7.453190\\\\\n",
       "\t12 & 17.256520 & 16.957715 & 17.555325\\\\\n",
       "\t13 & 10.608662 & 10.148956 & 11.068368\\\\\n",
       "\t14 &  8.810951 &  8.448447 &  9.173454\\\\\n",
       "\t15 & 18.444668 & 18.128172 & 18.761164\\\\\n",
       "\t16 & 20.828915 & 20.363046 & 21.294784\\\\\n",
       "\t17 & 12.903865 & 12.514088 & 13.293643\\\\\n",
       "\t18 & 23.241076 & 22.743769 & 23.738384\\\\\n",
       "\t19 &  9.941215 &  9.622747 & 10.259683\\\\\n",
       "\t20 & 14.153846 & 13.919169 & 14.388523\\\\\n",
       "\t21 & 18.121392 & 17.810440 & 18.432343\\\\\n",
       "\t22 & 14.742064 & 14.286963 & 15.197164\\\\\n",
       "\t23 &  6.514172 &  6.068545 &  6.959798\\\\\n",
       "\t24 & 16.544027 & 16.201598 & 16.886455\\\\\n",
       "\t25 &  8.140352 &  7.775328 &  8.505377\\\\\n",
       "\t26 & 15.608021 & 15.093243 & 16.122799\\\\\n",
       "\t27 & 14.967694 & 14.713963 & 15.221424\\\\\n",
       "\t28 & 17.046335 & 16.680523 & 17.412146\\\\\n",
       "\t29 & 19.399541 & 19.032586 & 19.766497\\\\\n",
       "\t30 &  9.159297 &  8.828357 &  9.490238\\\\\n",
       "\t⋮ & ⋮ & ⋮ & ⋮\\\\\n",
       "\t171 &  7.389574 &  6.996409 &  7.782738\\\\\n",
       "\t172 & 14.376846 & 14.134226 & 14.619467\\\\\n",
       "\t173 &  7.596578 &  7.175068 &  8.018088\\\\\n",
       "\t174 & 11.960970 & 11.606386 & 12.315554\\\\\n",
       "\t175 & 13.736151 & 13.284495 & 14.187807\\\\\n",
       "\t176 & 24.783526 & 24.208112 & 25.358940\\\\\n",
       "\t177 & 19.964022 & 19.588588 & 20.339455\\\\\n",
       "\t178 & 12.174924 & 11.827322 & 12.522527\\\\\n",
       "\t179 & 16.013844 & 15.461761 & 16.565927\\\\\n",
       "\t180 & 12.378040 & 12.057161 & 12.698918\\\\\n",
       "\t181 & 10.575089 & 10.170187 & 10.979991\\\\\n",
       "\t182 & 13.933696 & 13.509822 & 14.357570\\\\\n",
       "\t183 &  6.564088 &  6.131695 &  6.996480\\\\\n",
       "\t184 & 24.163936 & 23.627093 & 24.700780\\\\\n",
       "\t185 & 18.537949 & 18.160293 & 18.915605\\\\\n",
       "\t186 & 20.779377 & 20.338851 & 21.219902\\\\\n",
       "\t187 &  9.698684 &  9.289731 & 10.107638\\\\\n",
       "\t188 & 17.060279 & 16.784867 & 17.335692\\\\\n",
       "\t189 & 18.620097 & 18.142203 & 19.097990\\\\\n",
       "\t190 &  6.051445 &  5.600545 &  6.502345\\\\\n",
       "\t191 & 12.454978 & 11.974316 & 12.935640\\\\\n",
       "\t192 &  8.405926 &  8.047797 &  8.764055\\\\\n",
       "\t193 &  4.478859 &  3.966817 &  4.990901\\\\\n",
       "\t194 & 18.448761 & 18.068771 & 18.828750\\\\\n",
       "\t195 & 16.463190 & 16.158026 & 16.768355\\\\\n",
       "\t196 &  5.364512 &  4.884816 &  5.844209\\\\\n",
       "\t197 &  8.152375 &  7.757255 &  8.547495\\\\\n",
       "\t198 & 12.768048 & 12.432291 & 13.103806\\\\\n",
       "\t199 & 23.792923 & 23.272132 & 24.313714\\\\\n",
       "\t200 & 15.157543 & 14.746003 & 15.569083\\\\\n",
       "\\end{tabular}\n"
      ],
      "text/markdown": [
       "\n",
       "| <!--/--> | fit | lwr | upr | \n",
       "|---|---|---|---|---|---|---|---|---|---|---|---|---|---|---|---|---|---|---|---|---|---|---|---|---|---|---|---|---|---|---|---|---|---|---|---|---|---|---|---|---|---|---|---|---|---|---|---|---|---|---|---|---|---|---|---|---|---|---|---|---|\n",
       "| 1 | 20.555465 | 20.162781 | 20.948148 | \n",
       "| 2 | 12.345362 | 11.890932 | 12.799792 | \n",
       "| 3 | 12.337018 | 11.767337 | 12.906699 | \n",
       "| 4 | 17.617116 | 17.247635 | 17.986597 | \n",
       "| 5 | 13.223908 | 12.900491 | 13.547326 | \n",
       "| 6 | 12.512084 | 11.894853 | 13.129316 | \n",
       "| 7 | 11.718212 | 11.341145 | 12.095280 | \n",
       "| 8 | 12.105516 | 11.853931 | 12.357100 | \n",
       "| 9 |  3.709379 |  3.163756 |  4.255002 | \n",
       "| 10 | 12.551697 | 12.117602 | 12.985792 | \n",
       "| 11 |  7.035860 |  6.618530 |  7.453190 | \n",
       "| 12 | 17.256520 | 16.957715 | 17.555325 | \n",
       "| 13 | 10.608662 | 10.148956 | 11.068368 | \n",
       "| 14 |  8.810951 |  8.448447 |  9.173454 | \n",
       "| 15 | 18.444668 | 18.128172 | 18.761164 | \n",
       "| 16 | 20.828915 | 20.363046 | 21.294784 | \n",
       "| 17 | 12.903865 | 12.514088 | 13.293643 | \n",
       "| 18 | 23.241076 | 22.743769 | 23.738384 | \n",
       "| 19 |  9.941215 |  9.622747 | 10.259683 | \n",
       "| 20 | 14.153846 | 13.919169 | 14.388523 | \n",
       "| 21 | 18.121392 | 17.810440 | 18.432343 | \n",
       "| 22 | 14.742064 | 14.286963 | 15.197164 | \n",
       "| 23 |  6.514172 |  6.068545 |  6.959798 | \n",
       "| 24 | 16.544027 | 16.201598 | 16.886455 | \n",
       "| 25 |  8.140352 |  7.775328 |  8.505377 | \n",
       "| 26 | 15.608021 | 15.093243 | 16.122799 | \n",
       "| 27 | 14.967694 | 14.713963 | 15.221424 | \n",
       "| 28 | 17.046335 | 16.680523 | 17.412146 | \n",
       "| 29 | 19.399541 | 19.032586 | 19.766497 | \n",
       "| 30 |  9.159297 |  8.828357 |  9.490238 | \n",
       "| ⋮ | ⋮ | ⋮ | ⋮ | \n",
       "| 171 |  7.389574 |  6.996409 |  7.782738 | \n",
       "| 172 | 14.376846 | 14.134226 | 14.619467 | \n",
       "| 173 |  7.596578 |  7.175068 |  8.018088 | \n",
       "| 174 | 11.960970 | 11.606386 | 12.315554 | \n",
       "| 175 | 13.736151 | 13.284495 | 14.187807 | \n",
       "| 176 | 24.783526 | 24.208112 | 25.358940 | \n",
       "| 177 | 19.964022 | 19.588588 | 20.339455 | \n",
       "| 178 | 12.174924 | 11.827322 | 12.522527 | \n",
       "| 179 | 16.013844 | 15.461761 | 16.565927 | \n",
       "| 180 | 12.378040 | 12.057161 | 12.698918 | \n",
       "| 181 | 10.575089 | 10.170187 | 10.979991 | \n",
       "| 182 | 13.933696 | 13.509822 | 14.357570 | \n",
       "| 183 |  6.564088 |  6.131695 |  6.996480 | \n",
       "| 184 | 24.163936 | 23.627093 | 24.700780 | \n",
       "| 185 | 18.537949 | 18.160293 | 18.915605 | \n",
       "| 186 | 20.779377 | 20.338851 | 21.219902 | \n",
       "| 187 |  9.698684 |  9.289731 | 10.107638 | \n",
       "| 188 | 17.060279 | 16.784867 | 17.335692 | \n",
       "| 189 | 18.620097 | 18.142203 | 19.097990 | \n",
       "| 190 |  6.051445 |  5.600545 |  6.502345 | \n",
       "| 191 | 12.454978 | 11.974316 | 12.935640 | \n",
       "| 192 |  8.405926 |  8.047797 |  8.764055 | \n",
       "| 193 |  4.478859 |  3.966817 |  4.990901 | \n",
       "| 194 | 18.448761 | 18.068771 | 18.828750 | \n",
       "| 195 | 16.463190 | 16.158026 | 16.768355 | \n",
       "| 196 |  5.364512 |  4.884816 |  5.844209 | \n",
       "| 197 |  8.152375 |  7.757255 |  8.547495 | \n",
       "| 198 | 12.768048 | 12.432291 | 13.103806 | \n",
       "| 199 | 23.792923 | 23.272132 | 24.313714 | \n",
       "| 200 | 15.157543 | 14.746003 | 15.569083 | \n",
       "\n",
       "\n"
      ],
      "text/plain": [
       "    fit       lwr       upr      \n",
       "1   20.555465 20.162781 20.948148\n",
       "2   12.345362 11.890932 12.799792\n",
       "3   12.337018 11.767337 12.906699\n",
       "4   17.617116 17.247635 17.986597\n",
       "5   13.223908 12.900491 13.547326\n",
       "6   12.512084 11.894853 13.129316\n",
       "7   11.718212 11.341145 12.095280\n",
       "8   12.105516 11.853931 12.357100\n",
       "9    3.709379  3.163756  4.255002\n",
       "10  12.551697 12.117602 12.985792\n",
       "11   7.035860  6.618530  7.453190\n",
       "12  17.256520 16.957715 17.555325\n",
       "13  10.608662 10.148956 11.068368\n",
       "14   8.810951  8.448447  9.173454\n",
       "15  18.444668 18.128172 18.761164\n",
       "16  20.828915 20.363046 21.294784\n",
       "17  12.903865 12.514088 13.293643\n",
       "18  23.241076 22.743769 23.738384\n",
       "19   9.941215  9.622747 10.259683\n",
       "20  14.153846 13.919169 14.388523\n",
       "21  18.121392 17.810440 18.432343\n",
       "22  14.742064 14.286963 15.197164\n",
       "23   6.514172  6.068545  6.959798\n",
       "24  16.544027 16.201598 16.886455\n",
       "25   8.140352  7.775328  8.505377\n",
       "26  15.608021 15.093243 16.122799\n",
       "27  14.967694 14.713963 15.221424\n",
       "28  17.046335 16.680523 17.412146\n",
       "29  19.399541 19.032586 19.766497\n",
       "30   9.159297  8.828357  9.490238\n",
       "⋮   ⋮         ⋮         ⋮        \n",
       "171  7.389574  6.996409  7.782738\n",
       "172 14.376846 14.134226 14.619467\n",
       "173  7.596578  7.175068  8.018088\n",
       "174 11.960970 11.606386 12.315554\n",
       "175 13.736151 13.284495 14.187807\n",
       "176 24.783526 24.208112 25.358940\n",
       "177 19.964022 19.588588 20.339455\n",
       "178 12.174924 11.827322 12.522527\n",
       "179 16.013844 15.461761 16.565927\n",
       "180 12.378040 12.057161 12.698918\n",
       "181 10.575089 10.170187 10.979991\n",
       "182 13.933696 13.509822 14.357570\n",
       "183  6.564088  6.131695  6.996480\n",
       "184 24.163936 23.627093 24.700780\n",
       "185 18.537949 18.160293 18.915605\n",
       "186 20.779377 20.338851 21.219902\n",
       "187  9.698684  9.289731 10.107638\n",
       "188 17.060279 16.784867 17.335692\n",
       "189 18.620097 18.142203 19.097990\n",
       "190  6.051445  5.600545  6.502345\n",
       "191 12.454978 11.974316 12.935640\n",
       "192  8.405926  8.047797  8.764055\n",
       "193  4.478859  3.966817  4.990901\n",
       "194 18.448761 18.068771 18.828750\n",
       "195 16.463190 16.158026 16.768355\n",
       "196  5.364512  4.884816  5.844209\n",
       "197  8.152375  7.757255  8.547495\n",
       "198 12.768048 12.432291 13.103806\n",
       "199 23.792923 23.272132 24.313714\n",
       "200 15.157543 14.746003 15.569083"
      ]
     },
     "metadata": {},
     "output_type": "display_data"
    }
   ],
   "source": [
    "predict(lm.fit,interval=\"confidence\") #fitted values at each datapoint"
   ]
  }
 ],
 "metadata": {
  "kernelspec": {
   "display_name": "R",
   "language": "R",
   "name": "ir"
  },
  "language_info": {
   "codemirror_mode": "r",
   "file_extension": ".r",
   "mimetype": "text/x-r-source",
   "name": "R",
   "pygments_lexer": "r",
   "version": "3.5.0"
  }
 },
 "nbformat": 4,
 "nbformat_minor": 2
}
