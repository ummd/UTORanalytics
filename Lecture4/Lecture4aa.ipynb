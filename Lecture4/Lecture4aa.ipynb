{
 "cells": [
  {
   "cell_type": "markdown",
   "metadata": {},
   "source": [
    "# Omitted Variable Bias\n",
    "\n",
    "### Siumulate datset with positvely correlated predictors\n",
    "\n",
    "$$y = \\beta_0 + \\beta_1 X_1 + \\beta_2X_2+ \\epsilon$$\n",
    "\n",
    "where $X_1$ and $X_2$ are correlated"
   ]
  },
  {
   "cell_type": "code",
   "execution_count": 1,
   "metadata": {},
   "outputs": [],
   "source": [
    "set.seed(1)\n",
    "n <- 100 #number of observations per sample\n",
    "\n",
    "b0 <- 1\n",
    "b1 <- 1\n",
    "b2 <- 1\n",
    "eps <- 3*rnorm(n) #draw S samples\n",
    "\n",
    "x1 <- rnorm(n)\n",
    "x2 <- .5*x1 + .5*rnorm(n) # a second predictor that is negatively correlated with x1\n",
    "\n",
    "y <- b0 + b1*x1 + b2*x2+ eps"
   ]
  },
  {
   "cell_type": "markdown",
   "metadata": {},
   "source": [
    "### Run regression on both predictors"
   ]
  },
  {
   "cell_type": "code",
   "execution_count": 2,
   "metadata": {},
   "outputs": [
    {
     "data": {
      "text/plain": [
       "\n",
       "Call:\n",
       "lm(formula = y ~ x1 + x2)\n",
       "\n",
       "Residuals:\n",
       "   Min     1Q Median     3Q    Max \n",
       "-6.904 -1.810  0.053  1.755  6.834 \n",
       "\n",
       "Coefficients:\n",
       "            Estimate Std. Error t value Pr(>|t|)    \n",
       "(Intercept)   1.3252     0.2725   4.863 4.45e-06 ***\n",
       "x1            0.9519     0.3800   2.505   0.0139 *  \n",
       "x2            1.0958     0.5296   2.069   0.0412 *  \n",
       "---\n",
       "Signif. codes:  0 ‘***’ 0.001 ‘**’ 0.01 ‘*’ 0.05 ‘.’ 0.1 ‘ ’ 1\n",
       "\n",
       "Residual standard error: 2.722 on 97 degrees of freedom\n",
       "Multiple R-squared:  0.241,\tAdjusted R-squared:  0.2253 \n",
       "F-statistic:  15.4 on 2 and 97 DF,  p-value: 1.559e-06\n"
      ]
     },
     "metadata": {},
     "output_type": "display_data"
    }
   ],
   "source": [
    "lm.fit <- lm(y~x1+x2)\n",
    "summary(lm.fit)"
   ]
  },
  {
   "cell_type": "markdown",
   "metadata": {},
   "source": [
    "Notice that both estimates are near their true value\n",
    "\n",
    "### Run regression, but omit $X_2$"
   ]
  },
  {
   "cell_type": "code",
   "execution_count": 3,
   "metadata": {},
   "outputs": [
    {
     "data": {
      "text/plain": [
       "\n",
       "Call:\n",
       "lm(formula = y ~ x1)\n",
       "\n",
       "Residuals:\n",
       "    Min      1Q  Median      3Q     Max \n",
       "-7.6888 -1.7516  0.1759  1.5202  7.3525 \n",
       "\n",
       "Coefficients:\n",
       "            Estimate Std. Error t value Pr(>|t|)    \n",
       "(Intercept)   1.3404     0.2769   4.840 4.83e-06 ***\n",
       "x1            1.4705     0.2903   5.065 1.92e-06 ***\n",
       "---\n",
       "Signif. codes:  0 ‘***’ 0.001 ‘**’ 0.01 ‘*’ 0.05 ‘.’ 0.1 ‘ ’ 1\n",
       "\n",
       "Residual standard error: 2.767 on 98 degrees of freedom\n",
       "Multiple R-squared:  0.2075,\tAdjusted R-squared:  0.1994 \n",
       "F-statistic: 25.65 on 1 and 98 DF,  p-value: 1.92e-06\n"
      ]
     },
     "metadata": {},
     "output_type": "display_data"
    }
   ],
   "source": [
    "lm.fit <- lm(y~x1)\n",
    "summary(lm.fit)"
   ]
  },
  {
   "cell_type": "markdown",
   "metadata": {},
   "source": [
    "Now the estiamte of $\\beta_1$ is inflated (too big) compared to its true value. That is because it is also \"capturing\" some of the effect of $X_2$.\n",
    "\n",
    "This is because $X_1$ and $X_2$ are correlated."
   ]
  },
  {
   "cell_type": "markdown",
   "metadata": {},
   "source": [
    "### Siumulate datset with negatively correlated predictors"
   ]
  },
  {
   "cell_type": "code",
   "execution_count": 4,
   "metadata": {},
   "outputs": [
    {
     "data": {
      "text/plain": [
       "\n",
       "Call:\n",
       "lm(formula = y ~ x1)\n",
       "\n",
       "Residuals:\n",
       "    Min      1Q  Median      3Q     Max \n",
       "-7.6888 -1.7516  0.1759  1.5202  7.3525 \n",
       "\n",
       "Coefficients:\n",
       "            Estimate Std. Error t value Pr(>|t|)    \n",
       "(Intercept)   1.3404     0.2769    4.84 4.83e-06 ***\n",
       "x1            0.4705     0.2903    1.62    0.108    \n",
       "---\n",
       "Signif. codes:  0 ‘***’ 0.001 ‘**’ 0.01 ‘*’ 0.05 ‘.’ 0.1 ‘ ’ 1\n",
       "\n",
       "Residual standard error: 2.767 on 98 degrees of freedom\n",
       "Multiple R-squared:  0.0261,\tAdjusted R-squared:  0.01616 \n",
       "F-statistic: 2.626 on 1 and 98 DF,  p-value: 0.1083\n"
      ]
     },
     "metadata": {},
     "output_type": "display_data"
    }
   ],
   "source": [
    "set.seed(1)\n",
    "n <- 100 #number of observations per sample\n",
    "\n",
    "b0 <- 1\n",
    "b1 <- 1\n",
    "b2 <- 1\n",
    "eps <- 3*rnorm(n) #draw S samples\n",
    "\n",
    "x1 <- rnorm(n)\n",
    "x2 <- -.5*x1 + .5*rnorm(n) # generate a second predictor that is negatively correlated with x1\n",
    "\n",
    "y <- b0 + b1*x1 + b2*x2+ eps\n",
    "\n",
    "lm.fit <- lm(y~x1)\n",
    "summary(lm.fit)"
   ]
  },
  {
   "cell_type": "markdown",
   "metadata": {},
   "source": [
    "Now the estimate of $\\beta_1$ is biased downward (too small) compared to its true value. \n",
    "\n",
    "This is because it is also \"capturing\" some of the effect of $X_2$ (which is negatively correlated with $X_1$).\n",
    "\n",
    "In fact, it is so small that it is no longer signficantly different than 0. This means that we might erronesouy conclude that $X_1$ does not predict $Y$!"
   ]
  }
 ],
 "metadata": {
  "kernelspec": {
   "display_name": "R",
   "language": "R",
   "name": "ir"
  },
  "language_info": {
   "codemirror_mode": "r",
   "file_extension": ".r",
   "mimetype": "text/x-r-source",
   "name": "R",
   "pygments_lexer": "r",
   "version": "3.5.0"
  }
 },
 "nbformat": 4,
 "nbformat_minor": 2
}
