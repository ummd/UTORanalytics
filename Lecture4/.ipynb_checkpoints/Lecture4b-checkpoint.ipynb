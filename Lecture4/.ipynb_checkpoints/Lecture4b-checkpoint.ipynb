{
 "cells": [
  {
   "cell_type": "markdown",
   "metadata": {},
   "source": [
    "# Lecture 4\n",
    "\n",
    "## Correlation and Omitted Variables\n",
    "\n",
    "This example will demonstrate how correlation in predictor variables can change estimates.\n",
    "\n",
    "$sales=\\beta_0 + \\beta_1 TV +\\beta_2 radio + \\beta_3 newspaper + \\epsilon$$"
   ]
  },
  {
   "cell_type": "code",
   "execution_count": 39,
   "metadata": {},
   "outputs": [
    {
     "ename": "ERROR",
     "evalue": "Error in bh[1:P + 1, s] <- coef(lm.fit): number of items to replace is not a multiple of replacement length\n",
     "output_type": "error",
     "traceback": [
      "Error in bh[1:P + 1, s] <- coef(lm.fit): number of items to replace is not a multiple of replacement length\nTraceback:\n"
     ]
    }
   ],
   "source": [
    "S <- 100 #number of samples\n",
    "P <- 10 #number of predictors\n",
    "n <- 10 #number of observations per sample\n",
    "\n",
    "b0 <- 0;\n",
    "b=matrix(0,P,1);\n",
    "\n",
    "e <- replicate(S,rnorm(n)) #draw S samples\n",
    "\n",
    "x <- replicate(P,rnorm(n))\n",
    "\n",
    "y <- rep(b0 + x%*%b,each=nrow(e)) + e #uses matrix multiplication\n",
    "\n",
    "bh=matrix(,P+1,S) #initialize matrix to store estimates of beta\n",
    "seh=matrix(,P+1,S) #initialize matrix to store standard errors\n",
    "\n",
    "for (s in 1:S){\n",
    "    lm.fit=lm(y[,s]~x) # estimate the linear model on the sample s.\n",
    "    bh[1:P+1,s] <- coef(lm.fit)   #store the estimates    \n",
    "    seh[1:P+1,s] <- sqrt(diag(vcov(lm.fit)))   #store the standard errorsfit = lm(ydata ~ .,data = data)  \n",
    "}\n",
    "\n",
    "t0=bh[1,]/seh[1,]\n",
    "t1=bh[2,]/seh[2,]"
   ]
  },
  {
   "cell_type": "code",
   "execution_count": 40,
   "metadata": {},
   "outputs": [
    {
     "data": {
      "text/plain": [
       "\n",
       "Call:\n",
       "lm(formula = y[, 1] ~ x)\n",
       "\n",
       "Coefficients:\n",
       "(Intercept)           x1           x2           x3           x4           x5  \n",
       "    -0.3359       0.2437       0.3518      -0.2937       0.2780      -0.4491  \n",
       "         x6           x7           x8           x9          x10  \n",
       "    -0.3825       0.5810       0.7165       0.4469           NA  \n"
      ]
     },
     "metadata": {},
     "output_type": "display_data"
    }
   ],
   "source": [
    "lm(y[,1]~x)"
   ]
  }
 ],
 "metadata": {
  "kernelspec": {
   "display_name": "R",
   "language": "R",
   "name": "ir"
  },
  "language_info": {
   "codemirror_mode": "r",
   "file_extension": ".r",
   "mimetype": "text/x-r-source",
   "name": "R",
   "pygments_lexer": "r",
   "version": "3.5.0"
  }
 },
 "nbformat": 4,
 "nbformat_minor": 2
}
