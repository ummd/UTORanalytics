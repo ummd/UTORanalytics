{
 "cells": [
  {
   "cell_type": "markdown",
   "metadata": {},
   "source": [
    "# Lecture 4\n",
    "\n",
    "## Correlation and Omitted Variables\n",
    "\n",
    "This example will demonstrate how correlation in predictor variables can change estimates.\n",
    "\n",
    "$sales=\\beta_0 + \\beta_1 TV +\\beta_2 radio + \\beta_3 newspaper + \\epsilon$$"
   ]
  },
  {
   "cell_type": "code",
   "execution_count": 1,
   "metadata": {},
   "outputs": [],
   "source": [
    "Advertising <- read.csv(\"~/rotman/RSM8512/Advertising.csv\") #load data\n",
    "attach(Advertising) #attach variable names"
   ]
  },
  {
   "cell_type": "code",
   "execution_count": 2,
   "metadata": {},
   "outputs": [
    {
     "data": {
      "text/plain": [
       "\n",
       "Call:\n",
       "lm(formula = sales ~ TV)\n",
       "\n",
       "Residuals:\n",
       "    Min      1Q  Median      3Q     Max \n",
       "-8.3860 -1.9545 -0.1913  2.0671  7.2124 \n",
       "\n",
       "Coefficients:\n",
       "            Estimate Std. Error t value Pr(>|t|)    \n",
       "(Intercept) 7.032594   0.457843   15.36   <2e-16 ***\n",
       "TV          0.047537   0.002691   17.67   <2e-16 ***\n",
       "---\n",
       "Signif. codes:  0 ‘***’ 0.001 ‘**’ 0.01 ‘*’ 0.05 ‘.’ 0.1 ‘ ’ 1\n",
       "\n",
       "Residual standard error: 3.259 on 198 degrees of freedom\n",
       "Multiple R-squared:  0.6119,\tAdjusted R-squared:  0.6099 \n",
       "F-statistic: 312.1 on 1 and 198 DF,  p-value: < 2.2e-16\n"
      ]
     },
     "metadata": {},
     "output_type": "display_data"
    }
   ],
   "source": [
    "lm.fit=lm(sales~TV) # estimate a linear model regressing sales on TV\n",
    "summary(lm.fit) # display results"
   ]
  },
  {
   "cell_type": "code",
   "execution_count": 3,
   "metadata": {},
   "outputs": [
    {
     "data": {
      "text/plain": [
       "\n",
       "Call:\n",
       "lm(formula = sales ~ radio)\n",
       "\n",
       "Residuals:\n",
       "     Min       1Q   Median       3Q      Max \n",
       "-15.7305  -2.1324   0.7707   2.7775   8.1810 \n",
       "\n",
       "Coefficients:\n",
       "            Estimate Std. Error t value Pr(>|t|)    \n",
       "(Intercept)  9.31164    0.56290  16.542   <2e-16 ***\n",
       "radio        0.20250    0.02041   9.921   <2e-16 ***\n",
       "---\n",
       "Signif. codes:  0 ‘***’ 0.001 ‘**’ 0.01 ‘*’ 0.05 ‘.’ 0.1 ‘ ’ 1\n",
       "\n",
       "Residual standard error: 4.275 on 198 degrees of freedom\n",
       "Multiple R-squared:  0.332,\tAdjusted R-squared:  0.3287 \n",
       "F-statistic: 98.42 on 1 and 198 DF,  p-value: < 2.2e-16\n"
      ]
     },
     "metadata": {},
     "output_type": "display_data"
    }
   ],
   "source": [
    "lm.fit=lm(sales~radio) # estimate a linear model regressing sales on radio\n",
    "summary(lm.fit) # display results"
   ]
  },
  {
   "cell_type": "code",
   "execution_count": 4,
   "metadata": {},
   "outputs": [
    {
     "data": {
      "text/plain": [
       "\n",
       "Call:\n",
       "lm(formula = sales ~ newspaper)\n",
       "\n",
       "Residuals:\n",
       "     Min       1Q   Median       3Q      Max \n",
       "-11.2272  -3.3873  -0.8392   3.5059  12.7751 \n",
       "\n",
       "Coefficients:\n",
       "            Estimate Std. Error t value Pr(>|t|)    \n",
       "(Intercept) 12.35141    0.62142   19.88  < 2e-16 ***\n",
       "newspaper    0.05469    0.01658    3.30  0.00115 ** \n",
       "---\n",
       "Signif. codes:  0 ‘***’ 0.001 ‘**’ 0.01 ‘*’ 0.05 ‘.’ 0.1 ‘ ’ 1\n",
       "\n",
       "Residual standard error: 5.092 on 198 degrees of freedom\n",
       "Multiple R-squared:  0.05212,\tAdjusted R-squared:  0.04733 \n",
       "F-statistic: 10.89 on 1 and 198 DF,  p-value: 0.001148\n"
      ]
     },
     "metadata": {},
     "output_type": "display_data"
    }
   ],
   "source": [
    "lm.fit=lm(sales~newspaper) # estimate a linear model regressing sales on newspaper\n",
    "summary(lm.fit) # display results"
   ]
  },
  {
   "cell_type": "code",
   "execution_count": 5,
   "metadata": {},
   "outputs": [
    {
     "data": {
      "text/plain": [
       "\n",
       "Call:\n",
       "lm(formula = sales ~ TV + radio + newspaper)\n",
       "\n",
       "Residuals:\n",
       "    Min      1Q  Median      3Q     Max \n",
       "-8.8277 -0.8908  0.2418  1.1893  2.8292 \n",
       "\n",
       "Coefficients:\n",
       "             Estimate Std. Error t value Pr(>|t|)    \n",
       "(Intercept)  2.938889   0.311908   9.422   <2e-16 ***\n",
       "TV           0.045765   0.001395  32.809   <2e-16 ***\n",
       "radio        0.188530   0.008611  21.893   <2e-16 ***\n",
       "newspaper   -0.001037   0.005871  -0.177     0.86    \n",
       "---\n",
       "Signif. codes:  0 ‘***’ 0.001 ‘**’ 0.01 ‘*’ 0.05 ‘.’ 0.1 ‘ ’ 1\n",
       "\n",
       "Residual standard error: 1.686 on 196 degrees of freedom\n",
       "Multiple R-squared:  0.8972,\tAdjusted R-squared:  0.8956 \n",
       "F-statistic: 570.3 on 3 and 196 DF,  p-value: < 2.2e-16\n"
      ]
     },
     "metadata": {},
     "output_type": "display_data"
    }
   ],
   "source": [
    "lm.fit=lm(sales~TV+radio+newspaper) # estimate a linear model regressing sales on TV\n",
    "summary(lm.fit) # display results"
   ]
  }
 ],
 "metadata": {
  "kernelspec": {
   "display_name": "R",
   "language": "R",
   "name": "ir"
  },
  "language_info": {
   "codemirror_mode": "r",
   "file_extension": ".r",
   "mimetype": "text/x-r-source",
   "name": "R",
   "pygments_lexer": "r",
   "version": "3.5.0"
  }
 },
 "nbformat": 4,
 "nbformat_minor": 2
}
