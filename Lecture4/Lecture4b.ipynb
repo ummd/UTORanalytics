{
 "cells": [
  {
   "cell_type": "markdown",
   "metadata": {},
   "source": [
    "# Lecture 4b\n",
    "\n",
    "## The \"Multiple Comparisons\" problem: testing each predictor singly or jointly?\n",
    "\n",
    "This example will demonstrate how just using a test of a single predictor, when there are many predictors, can lead to an incorrect conclusion.\n",
    "\n",
    "$Y=\\beta_0 + \\beta_1 X_1 + \\dots + \\beta_p X_p + \\epsilon$.\n",
    "\n",
    "Below, we simulate $S$ datasets, each using the same predictor data $X$ with many predictors, $P$.\n",
    "\n",
    "Imporantly, **each predictor has no effect on the response**. We then test the this hypothesis both singly and jointly."
   ]
  },
  {
   "cell_type": "code",
   "execution_count": 43,
   "metadata": {},
   "outputs": [],
   "source": [
    "S <- 20 #number of samples\n",
    "P <- 100 #number of predictors\n",
    "n <- 1000 #number of observations per sample\n",
    "\n",
    "b0 <- 0;\n",
    "b=matrix(0,P,1); # Px1 vector of parameters, set to 0. This means there is no effect of the predictors on the responses.\n",
    "\n",
    "x <- replicate(P,rnorm(n)) # generate P predictor variables. These are just chosen randomly, but the same predictors are used for each sample.\n",
    "\n",
    "e <- replicate(S,rnorm(n)) #draw S noise samples\n",
    "\n",
    "pvals=matrix(,P+1,S) #initialize matrix to store pvals for each coefficient\n",
    "fs=matrix(,1,S) #initialize matrix to store pvals for each coefficient\n",
    "\n",
    "for (s in 1:S){\n",
    "    y <- b0 + x%*%b + e[,s] #simulate response data using the \"true\" model and the noise from sample s.\n",
    "             # %*% does matrix multiplication \n",
    "    \n",
    "    lm.fit=lm(y~x) # estimate the linear model on the sample s.\n",
    "    pvals[,s] <- summary(lm.fit)$coefficients[,4] #store the p-values\n",
    "    fs[,s] <- summary(lm.fit)$fstatistic[1] #store tjhe fstats\n",
    "}"
   ]
  },
  {
   "cell_type": "markdown",
   "metadata": {},
   "source": [
    "When $p$ is large, the t-test for each coefficient fails to account for the fact that you are making **many** t-tests! For 100 tests, you should expect to find 5 predictors that have a p-value<0.05. This is known as the \"mulitple comparisons\" problem."
   ]
  },
  {
   "cell_type": "code",
   "execution_count": 46,
   "metadata": {},
   "outputs": [
    {
     "data": {
      "text/html": [
       "<ol class=list-inline>\n",
       "\t<li>7</li>\n",
       "\t<li>7</li>\n",
       "\t<li>4</li>\n",
       "\t<li>4</li>\n",
       "\t<li>7</li>\n",
       "\t<li>4</li>\n",
       "\t<li>9</li>\n",
       "\t<li>6</li>\n",
       "\t<li>3</li>\n",
       "\t<li>4</li>\n",
       "\t<li>8</li>\n",
       "\t<li>2</li>\n",
       "\t<li>7</li>\n",
       "\t<li>2</li>\n",
       "\t<li>6</li>\n",
       "\t<li>4</li>\n",
       "\t<li>3</li>\n",
       "\t<li>6</li>\n",
       "\t<li>9</li>\n",
       "\t<li>5</li>\n",
       "</ol>\n"
      ],
      "text/latex": [
       "\\begin{enumerate*}\n",
       "\\item 7\n",
       "\\item 7\n",
       "\\item 4\n",
       "\\item 4\n",
       "\\item 7\n",
       "\\item 4\n",
       "\\item 9\n",
       "\\item 6\n",
       "\\item 3\n",
       "\\item 4\n",
       "\\item 8\n",
       "\\item 2\n",
       "\\item 7\n",
       "\\item 2\n",
       "\\item 6\n",
       "\\item 4\n",
       "\\item 3\n",
       "\\item 6\n",
       "\\item 9\n",
       "\\item 5\n",
       "\\end{enumerate*}\n"
      ],
      "text/markdown": [
       "1. 7\n",
       "2. 7\n",
       "3. 4\n",
       "4. 4\n",
       "5. 7\n",
       "6. 4\n",
       "7. 9\n",
       "8. 6\n",
       "9. 3\n",
       "10. 4\n",
       "11. 8\n",
       "12. 2\n",
       "13. 7\n",
       "14. 2\n",
       "15. 6\n",
       "16. 4\n",
       "17. 3\n",
       "18. 6\n",
       "19. 9\n",
       "20. 5\n",
       "\n",
       "\n"
      ],
      "text/plain": [
       " [1] 7 7 4 4 7 4 9 6 3 4 8 2 7 2 6 4 3 6 9 5"
      ]
     },
     "metadata": {},
     "output_type": "display_data"
    }
   ],
   "source": [
    "colSums(pvals<0.05) # in each sample, how many times is a p-value for any predictor less than 0.05?"
   ]
  },
  {
   "cell_type": "code",
   "execution_count": 16,
   "metadata": {},
   "outputs": [
    {
     "data": {
      "text/html": [
       "0.0465346534653465"
      ],
      "text/latex": [
       "0.0465346534653465"
      ],
      "text/markdown": [
       "0.0465346534653465"
      ],
      "text/plain": [
       "[1] 0.04653465"
      ]
     },
     "metadata": {},
     "output_type": "display_data"
    }
   ],
   "source": [
    "mean(pvals<0.05) #on average, over all samples, we should expect a rejection of the true null 5% of the time (using a 5% level test)"
   ]
  },
  {
   "cell_type": "markdown",
   "metadata": {},
   "source": [
    "However the F-test (for all predictors =0) takes account of this \"multiple comparisons\" problem. It corrects for the fact that you are testing many coeeficients at once."
   ]
  },
  {
   "cell_type": "code",
   "execution_count": 44,
   "metadata": {},
   "outputs": [],
   "source": [
    "pval_F <- 1-pf(fs,100,899) # for each sample, construct a pvalue from the fistribution with 100 restrictions and 899 degrees of freedom (N-p-1)"
   ]
  },
  {
   "cell_type": "code",
   "execution_count": 45,
   "metadata": {},
   "outputs": [
    {
     "data": {
      "text/html": [
       "<table>\n",
       "<tbody>\n",
       "\t<tr><td>FALSE</td><td>FALSE</td><td>FALSE</td><td>FALSE</td><td>FALSE</td><td>FALSE</td><td>FALSE</td><td>FALSE</td><td>FALSE</td><td>FALSE</td><td>FALSE</td><td>FALSE</td><td>FALSE</td><td>FALSE</td><td>FALSE</td><td>FALSE</td><td>FALSE</td><td>FALSE</td><td>FALSE</td><td>FALSE</td></tr>\n",
       "</tbody>\n",
       "</table>\n"
      ],
      "text/latex": [
       "\\begin{tabular}{llllllllllllllllllll}\n",
       "\t FALSE & FALSE & FALSE & FALSE & FALSE & FALSE & FALSE & FALSE & FALSE & FALSE & FALSE & FALSE & FALSE & FALSE & FALSE & FALSE & FALSE & FALSE & FALSE & FALSE\\\\\n",
       "\\end{tabular}\n"
      ],
      "text/markdown": [
       "\n",
       "| FALSE | FALSE | FALSE | FALSE | FALSE | FALSE | FALSE | FALSE | FALSE | FALSE | FALSE | FALSE | FALSE | FALSE | FALSE | FALSE | FALSE | FALSE | FALSE | FALSE | \n",
       "\n",
       "\n"
      ],
      "text/plain": [
       "     [,1]  [,2]  [,3]  [,4]  [,5]  [,6]  [,7]  [,8]  [,9]  [,10] [,11] [,12]\n",
       "[1,] FALSE FALSE FALSE FALSE FALSE FALSE FALSE FALSE FALSE FALSE FALSE FALSE\n",
       "     [,13] [,14] [,15] [,16] [,17] [,18] [,19] [,20]\n",
       "[1,] FALSE FALSE FALSE FALSE FALSE FALSE FALSE FALSE"
      ]
     },
     "metadata": {},
     "output_type": "display_data"
    }
   ],
   "source": [
    "pval_F < 0.05"
   ]
  }
 ],
 "metadata": {
  "kernelspec": {
   "display_name": "R",
   "language": "R",
   "name": "ir"
  },
  "language_info": {
   "codemirror_mode": "r",
   "file_extension": ".r",
   "mimetype": "text/x-r-source",
   "name": "R",
   "pygments_lexer": "r",
   "version": "3.5.0"
  }
 },
 "nbformat": 4,
 "nbformat_minor": 2
}
