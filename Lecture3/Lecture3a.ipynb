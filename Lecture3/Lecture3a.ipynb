{
 "cells": [
  {
   "cell_type": "markdown",
   "metadata": {},
   "source": [
    "# Lecture 3a\n",
    "\n",
    "## Variance of Least Sqaures Estimation\n",
    "\n",
    "This example will demonstrate the variance of the least squares estimator\n",
    "\n",
    "<!-- \n",
    "\n",
    "Read more: https://html.com/tags/comment-tag/#ixzz5Lox9uP4Q $$E[y_0 - \\hat f(x_0)]^2 = \\text{Var}(\\hat f(x_0) + [\\text{Bias}(\\hat f(x_0))]^2 +\\text{Var}(\\epsilon)$$\n",
    "\n",
    "-->\n",
    "\n",
    "$$Y=\\beta_0 + \\beta_1 X + \\epsilon$$\n"
   ]
  },
  {
   "cell_type": "code",
   "execution_count": 8,
   "metadata": {},
   "outputs": [
    {
     "data": {
      "text/plain": [
       "\n",
       "Call:\n",
       "lm(formula = y ~ x)\n",
       "\n",
       "Residuals:\n",
       "     Min       1Q   Median       3Q      Max \n",
       "-2.34005 -0.60584  0.01551  0.58514  2.29747 \n",
       "\n",
       "Coefficients:\n",
       "            Estimate Std. Error t value Pr(>|t|)    \n",
       "(Intercept) 2.131666   0.181897   11.72   <2e-16 ***\n",
       "x           2.999549   0.003127  959.21   <2e-16 ***\n",
       "---\n",
       "Signif. codes:  0 ‘***’ 0.001 ‘**’ 0.01 ‘*’ 0.05 ‘.’ 0.1 ‘ ’ 1\n",
       "\n",
       "Residual standard error: 0.9027 on 98 degrees of freedom\n",
       "Multiple R-squared:  0.9999,\tAdjusted R-squared:  0.9999 \n",
       "F-statistic: 9.201e+05 on 1 and 98 DF,  p-value: < 2.2e-16\n"
      ]
     },
     "metadata": {},
     "output_type": "display_data"
    }
   ],
   "source": [
    "set.seed(1) #set random seed so that the simulation is reproducible\n",
    "\n",
    "n <- 100 #number of observations per sample\n",
    "\n",
    "b0 <- 2\n",
    "b1 <- 3\n",
    "\n",
    "x <- 1:n # specify the predictors\n",
    "\n",
    "\n",
    "e <- rnorm(n) #draw S samples of errors\n",
    "y <-b0 + b1*x + e #generate the samples\n",
    "\n",
    "lm.fit=lm(y~x) #fit the linear model\n",
    "summary(lm.fit) #display"
   ]
  },
  {
   "cell_type": "markdown",
   "metadata": {},
   "source": [
    "## The Statistical Properties of the Least Squares Estimates \n",
    "\n",
    "This example will demonstrate the variance of the least squares estimator\n",
    "\n",
    "<!-- \n",
    "\n",
    "Read more: https://html.com/tags/comment-tag/#ixzz5Lox9uP4Q $$E[y_0 - \\hat f(x_0)]^2 = \\text{Var}(\\hat f(x_0) + [\\text{Bias}(\\hat f(x_0))]^2 +\\text{Var}(\\epsilon)$$\n",
    "\n",
    "-->\n",
    "\n",
    "$$Y=\\beta_0 + \\beta_1 X + \\epsilon$$\n",
    "\n"
   ]
  },
  {
   "cell_type": "code",
   "execution_count": 12,
   "metadata": {},
   "outputs": [],
   "source": [
    "set.seed(1)\n",
    "S <- 100 #number of samples\n",
    "n <- 100 #number of observations per sample\n",
    "\n",
    "b0 <- 2\n",
    "b1 <- 3\n",
    "\n",
    "e <- replicate(S,rnorm(n)) #draw S samples\n",
    "\n",
    "x <- 1:n\n",
    "\n",
    "y <- b0 + b1*x + e\n",
    "\n",
    "bh=matrix(,2,S) #initialize matrix to store estimates of beta\n",
    "\n",
    "for (s in 1:S){\n",
    "    lm.fit=lm(y[,s]~x) # estimate the linear model on the sample s.\n",
    "    bh[1:2,s] <- coef(lm.fit)   #store the estimates                       \n",
    "}\n",
    "\n",
    "bh0=bh[1,]\n",
    "bh1=bh[2,]"
   ]
  },
  {
   "cell_type": "markdown",
   "metadata": {},
   "source": [
    "Notice that each estimate is different. This is due to the randomness in each of the training samples. We can see this in histograms for $\\hat \\beta_0$ amd $\\hat \\beta_1$."
   ]
  },
  {
   "cell_type": "code",
   "execution_count": 13,
   "metadata": {},
   "outputs": [
    {
     "data": {
      "image/png": "[encoded data removed]",
      "text/plain": [
       "Plot with title “Histogram of bh0”"
      ]
     },
     "metadata": {},
     "output_type": "display_data"
    }
   ],
   "source": [
    "hist(bh0)"
   ]
  },
  {
   "cell_type": "code",
   "execution_count": 14,
   "metadata": {},
   "outputs": [
    {
     "data": {
      "image/png": "[encoded data removed]",
      "text/plain": [
       "Plot with title “Histogram of bh1”"
      ]
     },
     "metadata": {},
     "output_type": "display_data"
    }
   ],
   "source": [
    "hist(bh1)"
   ]
  },
  {
   "cell_type": "markdown",
   "metadata": {},
   "source": [
    "### Least Squares is unbiased\n",
    "The average sample mean is very close to the true mean of 0. "
   ]
  },
  {
   "cell_type": "code",
   "execution_count": 15,
   "metadata": {},
   "outputs": [
    {
     "data": {
      "text/html": [
       "1.99653376327693"
      ],
      "text/latex": [
       "1.99653376327693"
      ],
      "text/markdown": [
       "1.99653376327693"
      ],
      "text/plain": [
       "[1] 1.996534"
      ]
     },
     "metadata": {},
     "output_type": "display_data"
    },
    {
     "data": {
      "text/html": [
       "2.99993919202498"
      ],
      "text/latex": [
       "2.99993919202498"
      ],
      "text/markdown": [
       "2.99993919202498"
      ],
      "text/plain": [
       "[1] 2.999939"
      ]
     },
     "metadata": {},
     "output_type": "display_data"
    }
   ],
   "source": [
    "mean(bh0)\n",
    "mean(bh1)"
   ]
  },
  {
   "cell_type": "markdown",
   "metadata": {},
   "source": [
    "If we had infinite observations per sample (try say, $n=1000000$), it would be even closer."
   ]
  },
  {
   "cell_type": "markdown",
   "metadata": {},
   "source": [
    "### Variance of Least Squares\n",
    "\n",
    "We can calculate the sample variance of the estimates."
   ]
  },
  {
   "cell_type": "code",
   "execution_count": 16,
   "metadata": {},
   "outputs": [
    {
     "data": {
      "text/html": [
       "0.0276430758118602"
      ],
      "text/latex": [
       "0.0276430758118602"
      ],
      "text/markdown": [
       "0.0276430758118602"
      ],
      "text/plain": [
       "[1] 0.02764308"
      ]
     },
     "metadata": {},
     "output_type": "display_data"
    },
    {
     "data": {
      "text/html": [
       "7.62723887508534e-06"
      ],
      "text/latex": [
       "7.62723887508534e-06"
      ],
      "text/markdown": [
       "7.62723887508534e-06"
      ],
      "text/plain": [
       "[1] 7.627239e-06"
      ]
     },
     "metadata": {},
     "output_type": "display_data"
    }
   ],
   "source": [
    "var(bh0)\n",
    "var(bh1)"
   ]
  },
  {
   "cell_type": "markdown",
   "metadata": {},
   "source": [
    "and there standard deviation"
   ]
  },
  {
   "cell_type": "code",
   "execution_count": 17,
   "metadata": {},
   "outputs": [
    {
     "data": {
      "text/html": [
       "0.166262069672731"
      ],
      "text/latex": [
       "0.166262069672731"
      ],
      "text/markdown": [
       "0.166262069672731"
      ],
      "text/plain": [
       "[1] 0.1662621"
      ]
     },
     "metadata": {},
     "output_type": "display_data"
    },
    {
     "data": {
      "text/html": [
       "0.00276174562099505"
      ],
      "text/latex": [
       "0.00276174562099505"
      ],
      "text/markdown": [
       "0.00276174562099505"
      ],
      "text/plain": [
       "[1] 0.002761746"
      ]
     },
     "metadata": {},
     "output_type": "display_data"
    }
   ],
   "source": [
    "sd(bh0)\n",
    "sd(bh1)"
   ]
  },
  {
   "cell_type": "markdown",
   "metadata": {},
   "source": [
    "These are calculated by taking the variance of estiuamtes from **many** samples. But in reality, we only have one sample with a finite number of observations. So how do we get this measure?"
   ]
  },
  {
   "cell_type": "markdown",
   "metadata": {},
   "source": [
    "Go back to the first regression table above **for just a single sample**. Notice that there is a reported standard error (just beside the estimates). This was calculated using only one dataset given known formulas for the standard error.\n"
   ]
  }
 ],
 "metadata": {
  "kernelspec": {
   "display_name": "R",
   "language": "R",
   "name": "ir"
  },
  "language_info": {
   "codemirror_mode": "r",
   "file_extension": ".r",
   "mimetype": "text/x-r-source",
   "name": "R",
   "pygments_lexer": "r",
   "version": "3.5.0"
  }
 },
 "nbformat": 4,
 "nbformat_minor": 2
}
