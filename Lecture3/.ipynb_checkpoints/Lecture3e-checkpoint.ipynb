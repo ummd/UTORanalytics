{
 "cells": [
  {
   "cell_type": "markdown",
   "metadata": {},
   "source": [
    "# Lecture 3d\n",
    "## Interpretation of Categorical Variables\n",
    "\n",
    "This example explores the interpreation of categorical varaibles as shifting the mean (intercept) of the reression"
   ]
  },
  {
   "cell_type": "code",
   "execution_count": 1,
   "metadata": {},
   "outputs": [],
   "source": [
    "Credit <- read.csv(\"~/rotman/RSM8512/Data/Credit.csv\") #load data\n",
    "attach(Credit) #attach variable names"
   ]
  },
  {
   "cell_type": "markdown",
   "metadata": {},
   "source": [
    "First, start with the simple model\n",
    "\n",
    "$$y=\\beta_0 + \\epsilon$$"
   ]
  },
  {
   "cell_type": "code",
   "execution_count": 3,
   "metadata": {},
   "outputs": [
    {
     "data": {
      "text/plain": [
       "\n",
       "Call:\n",
       "lm(formula = Balance ~ 1)\n",
       "\n",
       "Residuals:\n",
       "    Min      1Q  Median      3Q     Max \n",
       "-520.01 -451.26  -60.51  342.99 1478.98 \n",
       "\n",
       "Coefficients:\n",
       "            Estimate Std. Error t value Pr(>|t|)    \n",
       "(Intercept)   520.01      22.99   22.62   <2e-16 ***\n",
       "---\n",
       "Signif. codes:  0 ‘***’ 0.001 ‘**’ 0.01 ‘*’ 0.05 ‘.’ 0.1 ‘ ’ 1\n",
       "\n",
       "Residual standard error: 459.8 on 399 degrees of freedom\n"
      ]
     },
     "metadata": {},
     "output_type": "display_data"
    }
   ],
   "source": [
    "lm.fit=lm(Balance~1) # estimate a linear model regressing Balance on just the intercept\n",
    "summary(lm.fit) # display results"
   ]
  },
  {
   "cell_type": "markdown",
   "metadata": {},
   "source": [
    "Note that this is the same as taking the unconditional mean of Balance."
   ]
  },
  {
   "cell_type": "code",
   "execution_count": 6,
   "metadata": {},
   "outputs": [
    {
     "data": {
      "text/html": [
       "520.015"
      ],
      "text/latex": [
       "520.015"
      ],
      "text/markdown": [
       "520.015"
      ],
      "text/plain": [
       "[1] 520.015"
      ]
     },
     "metadata": {},
     "output_type": "display_data"
    }
   ],
   "source": [
    "mean(Balance)"
   ]
  },
  {
   "cell_type": "markdown",
   "metadata": {},
   "source": [
    "So the average balance in the sample is $520.\n",
    "\n",
    "Now, lets include a categorical Gender variable\n",
    "\n",
    "$$ y= \\beta_0 + \\beta_1 x $$\n",
    "\n",
    "where \n",
    "\n",
    "$$x = \\begin{cases}\n",
    "1, \\text { if female} \\\\\n",
    "0, \\text { if male}\\\\\n",
    "\\end{cases}$$"
   ]
  },
  {
   "cell_type": "code",
   "execution_count": 15,
   "metadata": {},
   "outputs": [
    {
     "data": {
      "text/plain": [
       "\n",
       "Call:\n",
       "lm(formula = Balance ~ 1 + Gender)\n",
       "\n",
       "Residuals:\n",
       "    Min      1Q  Median      3Q     Max \n",
       "-529.54 -455.35  -60.17  334.71 1489.20 \n",
       "\n",
       "Coefficients:\n",
       "             Estimate Std. Error t value Pr(>|t|)    \n",
       "(Intercept)    509.80      33.13  15.389   <2e-16 ***\n",
       "GenderFemale    19.73      46.05   0.429    0.669    \n",
       "---\n",
       "Signif. codes:  0 ‘***’ 0.001 ‘**’ 0.01 ‘*’ 0.05 ‘.’ 0.1 ‘ ’ 1\n",
       "\n",
       "Residual standard error: 460.2 on 398 degrees of freedom\n",
       "Multiple R-squared:  0.0004611,\tAdjusted R-squared:  -0.00205 \n",
       "F-statistic: 0.1836 on 1 and 398 DF,  p-value: 0.6685\n"
      ]
     },
     "metadata": {},
     "output_type": "display_data"
    }
   ],
   "source": [
    "lm.fit=lm(Balance~1 + Gender) # estimate a linear model regressing Balance on intercaept and gender\n",
    "summary(lm.fit) # display results"
   ]
  },
  {
   "cell_type": "markdown",
   "metadata": {},
   "source": [
    "How do we interpret thsese coeffecients?\n",
    "\n",
    "$\\hat\\beta_0$=$509.80 is the average balance conditional on not being female (i.e. male)\n",
    "\n",
    "$\\beta_1$=$19.73 is the average **additional** balance conditional on being female"
   ]
  },
  {
   "cell_type": "code",
   "execution_count": 31,
   "metadata": {},
   "outputs": [
    {
     "data": {
      "text/html": [
       "<table>\n",
       "<thead><tr><th></th><th scope=col>Female</th></tr></thead>\n",
       "<tbody>\n",
       "\t<tr><th scope=row> Male</th><td>0</td></tr>\n",
       "\t<tr><th scope=row>Female</th><td>1</td></tr>\n",
       "</tbody>\n",
       "</table>\n"
      ],
      "text/latex": [
       "\\begin{tabular}{r|l}\n",
       "  & Female\\\\\n",
       "\\hline\n",
       "\t Male & 0\\\\\n",
       "\tFemale & 1\\\\\n",
       "\\end{tabular}\n"
      ],
      "text/markdown": [
       "\n",
       "| <!--/--> | Female | \n",
       "|---|---|\n",
       "|  Male | 0 | \n",
       "| Female | 1 | \n",
       "\n",
       "\n"
      ],
      "text/plain": [
       "       Female\n",
       " Male  0     \n",
       "Female 1     "
      ]
     },
     "metadata": {},
     "output_type": "display_data"
    }
   ],
   "source": [
    "contrasts(Gender) # this funciton tells you how the lm() function coded the dummy variable"
   ]
  },
  {
   "cell_type": "markdown",
   "metadata": {},
   "source": [
    "We can varify that this regression is just taking the conditional means"
   ]
  },
  {
   "cell_type": "code",
   "execution_count": 33,
   "metadata": {},
   "outputs": [
    {
     "data": {
      "text/html": [
       "529.536231884058"
      ],
      "text/latex": [
       "529.536231884058"
      ],
      "text/markdown": [
       "529.536231884058"
      ],
      "text/plain": [
       "[1] 529.5362"
      ]
     },
     "metadata": {},
     "output_type": "display_data"
    }
   ],
   "source": [
    "isFemale <- Gender==\"Female\" # create a \"logical\" dummy variable for female\n",
    "\n",
    "mean(Balance[isFemale]) # take average of Balance conditional on female"
   ]
  },
  {
   "cell_type": "code",
   "execution_count": 34,
   "metadata": {},
   "outputs": [
    {
     "data": {
      "text/html": [
       "509.80310880829"
      ],
      "text/latex": [
       "509.80310880829"
      ],
      "text/markdown": [
       "509.80310880829"
      ],
      "text/plain": [
       "[1] 509.8031"
      ]
     },
     "metadata": {},
     "output_type": "display_data"
    }
   ],
   "source": [
    "mean(Balance[!isFemale]) # take average of Balance conditional on male"
   ]
  }
 ],
 "metadata": {
  "kernelspec": {
   "display_name": "R",
   "language": "R",
   "name": "ir"
  },
  "language_info": {
   "codemirror_mode": "r",
   "file_extension": ".r",
   "mimetype": "text/x-r-source",
   "name": "R",
   "pygments_lexer": "r",
   "version": "3.5.0"
  }
 },
 "nbformat": 4,
 "nbformat_minor": 2
}
