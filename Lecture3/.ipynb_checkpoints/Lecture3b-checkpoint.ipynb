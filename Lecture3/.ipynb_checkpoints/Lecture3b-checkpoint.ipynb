{
 "cells": [
  {
   "cell_type": "markdown",
   "metadata": {},
   "source": [
    "# Lecture 3b\n",
    "## Example: Sales Data"
   ]
  },
  {
   "cell_type": "code",
   "execution_count": 7,
   "metadata": {},
   "outputs": [],
   "source": [
    "Advertising <- read.csv(\"~/rotman/RSM8512/Data/Advertising.csv\") #load data"
   ]
  },
  {
   "cell_type": "code",
   "execution_count": 8,
   "metadata": {},
   "outputs": [
    {
     "name": "stderr",
     "output_type": "stream",
     "text": [
      "The following objects are masked from Advertising (pos = 3):\n",
      "\n",
      "    newspaper, radio, sales, TV, X\n",
      "\n"
     ]
    }
   ],
   "source": [
    "attach(Advertising) #attach variable names"
   ]
  },
  {
   "cell_type": "code",
   "execution_count": 14,
   "metadata": {},
   "outputs": [
    {
     "ename": "ERROR",
     "evalue": "Error in library(lmtest): there is no package called ‘lmtest’\n",
     "output_type": "error",
     "traceback": [
      "Error in library(lmtest): there is no package called ‘lmtest’\nTraceback:\n",
      "1. library(lmtest)",
      "2. stop(txt, domain = NA)"
     ]
    }
   ],
   "source": [
    "library(lmtest)\n",
    "\n",
    "lm.fit=lm(sales~TV) # estimate a linear model regressing sales on TV\n",
    "summary(lm.fit) # display results"
   ]
  },
  {
   "cell_type": "markdown",
   "metadata": {},
   "source": [
    "## Confidence Intarvals"
   ]
  },
  {
   "cell_type": "code",
   "execution_count": 10,
   "metadata": {},
   "outputs": [
    {
     "data": {
      "text/html": [
       "<table>\n",
       "<thead><tr><th></th><th scope=col>2.5 %</th><th scope=col>97.5 %</th></tr></thead>\n",
       "<tbody>\n",
       "\t<tr><th scope=row>(Intercept)</th><td>6.12971927</td><td>7.93546783</td></tr>\n",
       "\t<tr><th scope=row>TV</th><td>0.04223072</td><td>0.05284256</td></tr>\n",
       "</tbody>\n",
       "</table>\n"
      ],
      "text/latex": [
       "\\begin{tabular}{r|ll}\n",
       "  & 2.5 \\% & 97.5 \\%\\\\\n",
       "\\hline\n",
       "\t(Intercept) & 6.12971927 & 7.93546783\\\\\n",
       "\tTV & 0.04223072 & 0.05284256\\\\\n",
       "\\end{tabular}\n"
      ],
      "text/markdown": [
       "\n",
       "| <!--/--> | 2.5 % | 97.5 % | \n",
       "|---|---|\n",
       "| (Intercept) | 6.12971927 | 7.93546783 | \n",
       "| TV | 0.04223072 | 0.05284256 | \n",
       "\n",
       "\n"
      ],
      "text/plain": [
       "            2.5 %      97.5 %    \n",
       "(Intercept) 6.12971927 7.93546783\n",
       "TV          0.04223072 0.05284256"
      ]
     },
     "metadata": {},
     "output_type": "display_data"
    }
   ],
   "source": [
    "confint(lm.fit) # calculate confidence intervals"
   ]
  },
  {
   "cell_type": "markdown",
   "metadata": {},
   "source": [
    "## Hypothesis Testing"
   ]
  },
  {
   "cell_type": "markdown",
   "metadata": {},
   "source": [
    "From the table above, we can extract the test statistic and the p-value"
   ]
  },
  {
   "cell_type": "code",
   "execution_count": 11,
   "metadata": {},
   "outputs": [
    {
     "data": {
      "text/html": [
       "<dl class=dl-horizontal>\n",
       "\t<dt>(Intercept)</dt>\n",
       "\t\t<dd>15.3602751741176</dd>\n",
       "\t<dt>TV</dt>\n",
       "\t\t<dd>17.6676256008755</dd>\n",
       "</dl>\n"
      ],
      "text/latex": [
       "\\begin{description*}\n",
       "\\item[(Intercept)] 15.3602751741176\n",
       "\\item[TV] 17.6676256008755\n",
       "\\end{description*}\n"
      ],
      "text/markdown": [
       "(Intercept)\n",
       ":   15.3602751741176TV\n",
       ":   17.6676256008755\n",
       "\n"
      ],
      "text/plain": [
       "(Intercept)          TV \n",
       "   15.36028    17.66763 "
      ]
     },
     "metadata": {},
     "output_type": "display_data"
    }
   ],
   "source": [
    "summary(lm.fit)$coefficients[,3] # test statistics for boht intercept and TV"
   ]
  },
  {
   "cell_type": "code",
   "execution_count": 12,
   "metadata": {},
   "outputs": [
    {
     "data": {
      "text/html": [
       "1.46738970019472e-42"
      ],
      "text/latex": [
       "1.46738970019472e-42"
      ],
      "text/markdown": [
       "1.46738970019472e-42"
      ],
      "text/plain": [
       "[1] 1.46739e-42"
      ]
     },
     "metadata": {},
     "output_type": "display_data"
    }
   ],
   "source": [
    "summary(lm.fit)$coefficients[2,4] # p-values for TV only"
   ]
  },
  {
   "cell_type": "markdown",
   "metadata": {},
   "source": [
    "Notice that this p-values is very small. This means that, under the null hypothesis of no effect of TV on sales, it is **extremely** unlikeky that we would have observed this test statistic."
   ]
  },
  {
   "cell_type": "markdown",
   "metadata": {},
   "source": [
    "How confidant can we be? We pick a probability level (typically 0.05) that we are willing to make a mistake and reject a true null hypothesis. This is called a Type I error. \n",
    "\n",
    "Since our p-value is lower than 0.05, we can **reject the null** of $\\beta_1=0$ in favour of the alternative at the 0.05 level."
   ]
  },
  {
   "cell_type": "code",
   "execution_count": 13,
   "metadata": {},
   "outputs": [
    {
     "ename": "ERROR",
     "evalue": "Error in coeftest(lm.fit): could not find function \"coeftest\"\n",
     "output_type": "error",
     "traceback": [
      "Error in coeftest(lm.fit): could not find function \"coeftest\"\nTraceback:\n"
     ]
    }
   ],
   "source": [
    "coeftest(lm.fit)"
   ]
  },
  {
   "cell_type": "markdown",
   "metadata": {},
   "source": [
    "### Relationship between correlation and $R^2$"
   ]
  },
  {
   "cell_type": "code",
   "execution_count": 15,
   "metadata": {},
   "outputs": [
    {
     "data": {
      "text/html": [
       "0.782224424861606"
      ],
      "text/latex": [
       "0.782224424861606"
      ],
      "text/markdown": [
       "0.782224424861606"
      ],
      "text/plain": [
       "[1] 0.7822244"
      ]
     },
     "metadata": {},
     "output_type": "display_data"
    }
   ],
   "source": [
    "cor(sales,TV)"
   ]
  },
  {
   "cell_type": "code",
   "execution_count": 14,
   "metadata": {},
   "outputs": [
    {
     "data": {
      "text/html": [
       "0.611875050850071"
      ],
      "text/latex": [
       "0.611875050850071"
      ],
      "text/markdown": [
       "0.611875050850071"
      ],
      "text/plain": [
       "[1] 0.6118751"
      ]
     },
     "metadata": {},
     "output_type": "display_data"
    }
   ],
   "source": [
    "cor(sales,TV)^2 "
   ]
  },
  {
   "cell_type": "markdown",
   "metadata": {},
   "source": [
    "$R^2$ and correlation and are the same for the simple linear model. But the benefit if $R^2$ is that it can be applied to more complicated models..."
   ]
  }
 ],
 "metadata": {
  "kernelspec": {
   "display_name": "R",
   "language": "R",
   "name": "ir"
  },
  "language_info": {
   "codemirror_mode": "r",
   "file_extension": ".r",
   "mimetype": "text/x-r-source",
   "name": "R",
   "pygments_lexer": "r",
   "version": "3.5.0"
  }
 },
 "nbformat": 4,
 "nbformat_minor": 2
}
