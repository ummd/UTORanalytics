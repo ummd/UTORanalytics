{
 "cells": [
  {
   "cell_type": "markdown",
   "metadata": {},
   "source": [
    "# Lecture 3\n",
    "\n",
    "## Least Sqaures Estimation\n",
    "\n",
    "This example will demonstrate the variance of the least squares estimator\n",
    "\n",
    "<!-- \n",
    "\n",
    "Read more: https://html.com/tags/comment-tag/#ixzz5Lox9uP4Q $$E[y_0 - \\hat f(x_0)]^2 = \\text{Var}(\\hat f(x_0) + [\\text{Bias}(\\hat f(x_0))]^2 +\\text{Var}(\\epsilon)$$\n",
    "\n",
    "-->\n",
    "\n",
    "$$Y=\\beta_0 + \\beta_1 X + \\epsilon$$\n"
   ]
  },
  {
   "cell_type": "code",
   "execution_count": 3,
   "metadata": {},
   "outputs": [
    {
     "data": {
      "text/plain": [
       "\n",
       "Call:\n",
       "lm(formula = y ~ x)\n",
       "\n",
       "Residuals:\n",
       "     Min       1Q   Median       3Q      Max \n",
       "-1.81199 -0.61632 -0.02421  0.57880  2.00401 \n",
       "\n",
       "Coefficients:\n",
       "            Estimate Std. Error t value Pr(>|t|)    \n",
       "(Intercept) 2.004310   0.167445   11.97   <2e-16 ***\n",
       "x           2.998536   0.002879 1041.65   <2e-16 ***\n",
       "---\n",
       "Signif. codes:  0 ‘***’ 0.001 ‘**’ 0.01 ‘*’ 0.05 ‘.’ 0.1 ‘ ’ 1\n",
       "\n",
       "Residual standard error: 0.831 on 98 degrees of freedom\n",
       "Multiple R-squared:  0.9999,\tAdjusted R-squared:  0.9999 \n",
       "F-statistic: 1.085e+06 on 1 and 98 DF,  p-value: < 2.2e-16\n"
      ]
     },
     "metadata": {},
     "output_type": "display_data"
    }
   ],
   "source": [
    "n <- 100 #number of observations per sample\n",
    "\n",
    "b0 <- 2\n",
    "b1 <- 3\n",
    "\n",
    "e <- rnorm(n) #draw S samples\n",
    "\n",
    "x <- 1:n\n",
    "y <-b0 + b1*x + e\n",
    "\n",
    "lm.fit=lm(y~x)\n",
    "summary(lm.fit)"
   ]
  },
  {
   "cell_type": "markdown",
   "metadata": {},
   "source": [
    "## The Statistical Properties of the Least Squares Estimates \n",
    "\n",
    "This example will demonstrate the variance of the least squares estimator\n",
    "\n",
    "<!-- \n",
    "\n",
    "Read more: https://html.com/tags/comment-tag/#ixzz5Lox9uP4Q $$E[y_0 - \\hat f(x_0)]^2 = \\text{Var}(\\hat f(x_0) + [\\text{Bias}(\\hat f(x_0))]^2 +\\text{Var}(\\epsilon)$$\n",
    "\n",
    "-->\n",
    "\n",
    "$$Y=\\beta_0 + \\beta_1 X + \\epsilon$$\n",
    "\n"
   ]
  },
  {
   "cell_type": "code",
   "execution_count": 4,
   "metadata": {},
   "outputs": [],
   "source": [
    "S <- 100 #number of samples\n",
    "n <- 100 #number of observations per sample\n",
    "\n",
    "b0 <- 2\n",
    "b1 <- 3\n",
    "\n",
    "e <- replicate(S,rnorm(n)) #draw S samples\n",
    "\n",
    "x <- 1:n\n",
    "\n",
    "y <- b0 + b1*x + e\n",
    "\n",
    "bh=matrix(,2,S) #initialize matrix to store estimates of beta\n",
    "\n",
    "for (s in 1:S){\n",
    "    lm.fit=lm(y[,s]~x) # estimate the linear model on the sample s.\n",
    "    bh[1:2,s] <- coef(lm.fit)   #store the estimates                       \n",
    "}\n",
    "\n",
    "bh0=bh[1,]\n",
    "bh1=bh[2,]"
   ]
  },
  {
   "cell_type": "markdown",
   "metadata": {},
   "source": [
    "Notice that each sample mean is different. This is due to the randomness in each of the training samples. We can see this in histograms for $\\hat \\beta_0$ amd $\\hat \\beta_1$."
   ]
  },
  {
   "cell_type": "code",
   "execution_count": 5,
   "metadata": {},
   "outputs": [
    {
     "data": {
      "image/png": "[encoded data removed]",
      "text/plain": [
       "Plot with title “Histogram of bh0”"
      ]
     },
     "metadata": {},
     "output_type": "display_data"
    }
   ],
   "source": [
    "hist(bh0)"
   ]
  },
  {
   "cell_type": "code",
   "execution_count": 70,
   "metadata": {},
   "outputs": [
    {
     "data": {
      "image/png": "[encoded data removed]",
      "text/plain": [
       "Plot with title “Histogram of bh1”"
      ]
     },
     "metadata": {},
     "output_type": "display_data"
    }
   ],
   "source": [
    "hist(bh1)"
   ]
  },
  {
   "cell_type": "markdown",
   "metadata": {},
   "source": [
    "### Least Squares is unbiased\n",
    "The average sample mean is very close to the true mean of 0. "
   ]
  },
  {
   "cell_type": "code",
   "execution_count": 71,
   "metadata": {},
   "outputs": [
    {
     "data": {
      "text/html": [
       "2.00213315709378"
      ],
      "text/latex": [
       "2.00213315709378"
      ],
      "text/markdown": [
       "2.00213315709378"
      ],
      "text/plain": [
       "[1] 2.002133"
      ]
     },
     "metadata": {},
     "output_type": "display_data"
    },
    {
     "data": {
      "text/html": [
       "3.00001087933372"
      ],
      "text/latex": [
       "3.00001087933372"
      ],
      "text/markdown": [
       "3.00001087933372"
      ],
      "text/plain": [
       "[1] 3.000011"
      ]
     },
     "metadata": {},
     "output_type": "display_data"
    }
   ],
   "source": [
    "mean(bh0)\n",
    "mean(bh1)"
   ]
  },
  {
   "cell_type": "markdown",
   "metadata": {},
   "source": [
    "If we had infinite observations per sample (try say, $n=1000000$), it would be even closer."
   ]
  },
  {
   "cell_type": "markdown",
   "metadata": {},
   "source": [
    "### Variance of Least Squares\n",
    "\n",
    "We can calculate the sample variance of the estimates."
   ]
  },
  {
   "cell_type": "code",
   "execution_count": 72,
   "metadata": {},
   "outputs": [
    {
     "data": {
      "text/html": [
       "0.0387419056809968"
      ],
      "text/latex": [
       "0.0387419056809968"
      ],
      "text/markdown": [
       "0.0387419056809968"
      ],
      "text/plain": [
       "[1] 0.03874191"
      ]
     },
     "metadata": {},
     "output_type": "display_data"
    },
    {
     "data": {
      "text/html": [
       "1.378432125798e-05"
      ],
      "text/latex": [
       "1.378432125798e-05"
      ],
      "text/markdown": [
       "1.378432125798e-05"
      ],
      "text/plain": [
       "[1] 1.378432e-05"
      ]
     },
     "metadata": {},
     "output_type": "display_data"
    },
    {
     "data": {
      "text/html": [
       "0.01"
      ],
      "text/latex": [
       "0.01"
      ],
      "text/markdown": [
       "0.01"
      ],
      "text/plain": [
       "[1] 0.01"
      ]
     },
     "metadata": {},
     "output_type": "display_data"
    }
   ],
   "source": [
    "var(bh0)\n",
    "var(bh1)"
   ]
  },
  {
   "cell_type": "markdown",
   "metadata": {},
   "source": [
    "But in reality, we only have one sample with a finite number of observations. So how do we get this measure?"
   ]
  },
  {
   "cell_type": "code",
   "execution_count": null,
   "metadata": {},
   "outputs": [],
   "source": []
  },
  {
   "cell_type": "markdown",
   "metadata": {},
   "source": [
    "### TV/Sales Data\n",
    "\n",
    "Load and calculate regress, including stnadard errors.. THen test."
   ]
  },
  {
   "cell_type": "markdown",
   "metadata": {},
   "source": [
    "and calculate $MSE_{test}$"
   ]
  },
  {
   "cell_type": "code",
   "execution_count": 7,
   "metadata": {},
   "outputs": [],
   "source": [
    "Advertising <- read.csv(\"~/rotman/RSM8512/Advertising.csv\")\n",
    "attach(Advertising)\n",
    "lm.fit=lm(y[,s]~x)"
   ]
  }
 ],
 "metadata": {
  "kernelspec": {
   "display_name": "R",
   "language": "R",
   "name": "ir"
  },
  "language_info": {
   "codemirror_mode": "r",
   "file_extension": ".r",
   "mimetype": "text/x-r-source",
   "name": "R",
   "pygments_lexer": "r",
   "version": "3.5.0"
  }
 },
 "nbformat": 4,
 "nbformat_minor": 2
}
