{
 "cells": [
  {
   "cell_type": "markdown",
   "metadata": {},
   "source": [
    "# Lecture 8\n",
    "\n",
    "## Bootstrapping the Standard Errors and Test Statistics of Linear Regression\n",
    "\n",
    "This example will demonstrate how to run a simple bootstrap in a context we are already familiar with: linear regression.\n",
    "\n",
    "Since we can calculate the standard error directly (R does it for you), this example will allow us to verify that the bootstrap yields the same result. \n",
    "\n",
    "### Simulating a dataset with true values $\\beta_0=0$, $\\beta_1=1$\n"
   ]
  },
  {
   "cell_type": "code",
   "execution_count": 1,
   "metadata": {},
   "outputs": [
    {
     "data": {
      "text/plain": [
       "\n",
       "Call:\n",
       "lm(formula = y ~ x)\n",
       "\n",
       "Residuals:\n",
       "     Min       1Q   Median       3Q      Max \n",
       "-14.6638  -2.7136  -0.1262   3.3417  12.9308 \n",
       "\n",
       "Coefficients:\n",
       "            Estimate Std. Error t value Pr(>|t|)  \n",
       "(Intercept)   0.2073     0.3584   0.578   0.5637  \n",
       "x             0.8846     0.3865   2.289   0.0231 *\n",
       "---\n",
       "Signif. codes:  0 ‘***’ 0.001 ‘**’ 0.01 ‘*’ 0.05 ‘.’ 0.1 ‘ ’ 1\n",
       "\n",
       "Residual standard error: 5.065 on 198 degrees of freedom\n",
       "Multiple R-squared:  0.02578,\tAdjusted R-squared:  0.02086 \n",
       "F-statistic:  5.24 on 1 and 198 DF,  p-value: 0.02313\n"
      ]
     },
     "metadata": {},
     "output_type": "display_data"
    }
   ],
   "source": [
    "set.seed(1)\n",
    "n <- 200 #number of observations per sample\n",
    "\n",
    "b0 <- 0\n",
    "b1 <- 1\n",
    "\n",
    "x <- rnorm(n) #generate predictors\n",
    "\n",
    "e <- 5*rnorm(n) #draw 1 sample of errors\n",
    "\n",
    "y <- b0 + b1*x + e # create 1 dataset\n",
    "\n",
    "lm.fit=lm(y~x)\n",
    "bh <- coef(lm.fit)\n",
    "\n",
    "summary(lm.fit)"
   ]
  },
  {
   "cell_type": "markdown",
   "metadata": {},
   "source": [
    "**So the R function lm.fit() reports a standard error of 0.3865 for $\\hat\\beta_1$**"
   ]
  },
  {
   "cell_type": "markdown",
   "metadata": {},
   "source": [
    "### Bootstrap Standard Errors"
   ]
  },
  {
   "cell_type": "code",
   "execution_count": 2,
   "metadata": {},
   "outputs": [],
   "source": [
    "B <- 10000 #number of bootstrap re-samples\n",
    "\n",
    "bhs=matrix(,2,B) #initialize matrix to store estimates of beta\n",
    "\n",
    "for (b in 1:B){\n",
    "    index <-sample(n,n, replace=TRUE) #for each loop, reshuffle the indexes of the data WITH REPLACEMENT\n",
    "    \n",
    "    lm.bs.fit=lm(y[index]~x[index]) # estimate the linear model on the reshuffled sample.\n",
    "    bhs[1:2,b] <- coef(lm.bs.fit)   #store the estimates    \n",
    "}"
   ]
  },
  {
   "cell_type": "code",
   "execution_count": 6,
   "metadata": {},
   "outputs": [
    {
     "data": {
      "text/plain": [
       "\n",
       "Call:\n",
       "lm(formula = y[index] ~ x[index])\n",
       "\n",
       "Residuals:\n",
       "     Min       1Q   Median       3Q      Max \n",
       "-14.6494  -3.2825   0.6891   3.2707  13.3464 \n",
       "\n",
       "Coefficients:\n",
       "            Estimate Std. Error t value Pr(>|t|)    \n",
       "(Intercept)   0.2426     0.3705   0.655 0.513405    \n",
       "x[index]      1.3674     0.3817   3.582 0.000429 ***\n",
       "---\n",
       "Signif. codes:  0 ‘***’ 0.001 ‘**’ 0.01 ‘*’ 0.05 ‘.’ 0.1 ‘ ’ 1\n",
       "\n",
       "Residual standard error: 5.209 on 198 degrees of freedom\n",
       "Multiple R-squared:  0.06086,\tAdjusted R-squared:  0.05611 \n",
       "F-statistic: 12.83 on 1 and 198 DF,  p-value: 0.0004292\n"
      ]
     },
     "metadata": {},
     "output_type": "display_data"
    }
   ],
   "source": [
    "summary(lm.bs.fit)"
   ]
  },
  {
   "cell_type": "code",
   "execution_count": 15,
   "metadata": {},
   "outputs": [
    {
     "data": {
      "text/html": [
       "0.392542647060566"
      ],
      "text/latex": [
       "0.392542647060566"
      ],
      "text/markdown": [
       "0.392542647060566"
      ],
      "text/plain": [
       "[1] 0.3925426"
      ]
     },
     "metadata": {},
     "output_type": "display_data"
    }
   ],
   "source": [
    "sd(bhs[2,]) # The standard deviation of the bootstrap estimates"
   ]
  },
  {
   "cell_type": "markdown",
   "metadata": {},
   "source": [
    "**The bootstrap standrd error is very close to the one reported by lm.fit()!**"
   ]
  },
  {
   "cell_type": "code",
   "execution_count": 16,
   "metadata": {},
   "outputs": [
    {
     "data": {
      "image/png": "[encoded data removed]",
      "text/plain": [
       "Plot with title “Histogram of bhs[2, ]”"
      ]
     },
     "metadata": {},
     "output_type": "display_data"
    }
   ],
   "source": [
    "hist(bhs[2,])"
   ]
  },
  {
   "cell_type": "markdown",
   "metadata": {},
   "source": [
    "### Bootstrap Tests - Resampling Residuals\n",
    "\n",
    "We can also run statistical tests with the bootstrap. For example, testing whether $\\beta_1=0$.\n",
    "\n",
    "Recall that when we want to test a hypothesis, we need to know the distribution  of the test statistic under the null hypothesis \n",
    "$$t = \\frac{\\hat\\beta - \\beta_\\text{null}}{SE(\\hat\\beta)}$$\n",
    "\n",
    "To do this with the bootstrap, we have to generate a bootstrap sample UNDER THE NULL HYPOTHESES we wish to test.\n",
    "\n",
    "We can't simply reshuffle the data now, because it might have been generated with some $\\beta_1 \\neq0$. \n",
    "\n",
    "So we have to generate this new data somehow... This would require us to know the errors, which are, in principle, unobservable...\n",
    "\n",
    "Instead, we can use the residuals from the original regression. "
   ]
  },
  {
   "cell_type": "code",
   "execution_count": 17,
   "metadata": {},
   "outputs": [],
   "source": [
    "residuals <-lm.fit$residuals\n",
    "\n",
    "B <- 9999 #number of samples\n",
    "ts=matrix(,2,B) #initialize matrix to store estimates of beta\n",
    "\n",
    "for (b in 1:B){\n",
    "    e.bs <-sample(residuals, replace=TRUE) #for each loop, generate a new sample of residuals WITH REPLACEMENT\n",
    "    \n",
    "    y.bs <- bh[1] + 0*x + e.bs # generate a bootstrap sample UNDER THE NULL HYPOTHESIS of beta_1 =0\n",
    "    \n",
    "    lm.bs.fit=lm(y.bs~x) # estimate the linear model on the bootstrap sample.\n",
    "    ts[1:2,b] <- summary(lm.bs.fit)$coefficient[,3]  #store the t-statistics from this sample \n",
    "}"
   ]
  },
  {
   "cell_type": "code",
   "execution_count": 18,
   "metadata": {},
   "outputs": [
    {
     "data": {
      "image/png": "[encoded data removed]",
      "text/plain": [
       "Plot with title “Histogram of ts[2, ]”"
      ]
     },
     "metadata": {},
     "output_type": "display_data"
    }
   ],
   "source": [
    "hist(ts[2,])"
   ]
  },
  {
   "cell_type": "markdown",
   "metadata": {},
   "source": [
    "This should look like the t-distribution...\n",
    "\n",
    "To check, we can calculate the $97.5\\%$ and $2.5\\%$ percentile..."
   ]
  },
  {
   "cell_type": "code",
   "execution_count": 19,
   "metadata": {},
   "outputs": [
    {
     "data": {
      "text/html": [
       "<strong>97.5%:</strong> 1.96346442658283"
      ],
      "text/latex": [
       "\\textbf{97.5\\textbackslash{}\\%:} 1.96346442658283"
      ],
      "text/markdown": [
       "**97.5%:** 1.96346442658283"
      ],
      "text/plain": [
       "   97.5% \n",
       "1.963464 "
      ]
     },
     "metadata": {},
     "output_type": "display_data"
    },
    {
     "data": {
      "text/html": [
       "<strong>2.5%:</strong> -1.95745777064007"
      ],
      "text/latex": [
       "\\textbf{2.5\\textbackslash{}\\%:} -1.95745777064007"
      ],
      "text/markdown": [
       "**2.5%:** -1.95745777064007"
      ],
      "text/plain": [
       "     2.5% \n",
       "-1.957458 "
      ]
     },
     "metadata": {},
     "output_type": "display_data"
    }
   ],
   "source": [
    "quantile(ts[2,],0.975)\n",
    "quantile(ts[2,],0.025)"
   ]
  },
  {
   "cell_type": "code",
   "execution_count": 20,
   "metadata": {},
   "outputs": [
    {
     "data": {
      "text/html": [
       "1.97195654425175"
      ],
      "text/latex": [
       "1.97195654425175"
      ],
      "text/markdown": [
       "1.97195654425175"
      ],
      "text/plain": [
       "[1] 1.971957"
      ]
     },
     "metadata": {},
     "output_type": "display_data"
    },
    {
     "data": {
      "text/html": [
       "-1.97195654425175"
      ],
      "text/latex": [
       "-1.97195654425175"
      ],
      "text/markdown": [
       "-1.97195654425175"
      ],
      "text/plain": [
       "[1] -1.971957"
      ]
     },
     "metadata": {},
     "output_type": "display_data"
    }
   ],
   "source": [
    "qt(0.975,n-1) #the 97.5% from the t-distribution\n",
    "qt(0.025,n-1)"
   ]
  },
  {
   "cell_type": "markdown",
   "metadata": {},
   "source": [
    "Yup, those are pretty good matches!\n",
    "\n",
    "Now, we can calulate a p-value from our bootstrap data. That is, how many of the bootstrap t-stats lie above our original t-stat from the lm.fit() regression?"
   ]
  },
  {
   "cell_type": "code",
   "execution_count": 21,
   "metadata": {},
   "outputs": [
    {
     "data": {
      "text/html": [
       "0.0112011201120112"
      ],
      "text/latex": [
       "0.0112011201120112"
      ],
      "text/markdown": [
       "0.0112011201120112"
      ],
      "text/plain": [
       "[1] 0.01120112"
      ]
     },
     "metadata": {},
     "output_type": "display_data"
    }
   ],
   "source": [
    "tstat <- summary(lm.fit)$coefficient[2,3] #the original t-stat\n",
    "\n",
    "mean(ts[2,]> tstat) #what proportion of bootstrap test statistics lie above the original test statistic?"
   ]
  },
  {
   "cell_type": "markdown",
   "metadata": {},
   "source": [
    "This is pretty close to the original p-value!"
   ]
  },
  {
   "cell_type": "code",
   "execution_count": 22,
   "metadata": {},
   "outputs": [
    {
     "data": {
      "text/html": [
       "0.0231333328940839"
      ],
      "text/latex": [
       "0.0231333328940839"
      ],
      "text/markdown": [
       "0.0231333328940839"
      ],
      "text/plain": [
       "[1] 0.02313333"
      ]
     },
     "metadata": {},
     "output_type": "display_data"
    }
   ],
   "source": [
    "summary(lm.fit)$coefficient[2,4] #original p-value"
   ]
  },
  {
   "cell_type": "code",
   "execution_count": 7,
   "metadata": {},
   "outputs": [
    {
     "ename": "ERROR",
     "evalue": "Error in ts[2, ]: object of type 'closure' is not subsettable\n",
     "output_type": "error",
     "traceback": [
      "Error in ts[2, ]: object of type 'closure' is not subsettable\nTraceback:\n"
     ]
    }
   ],
   "source": [
    "ts[2,]"
   ]
  },
  {
   "cell_type": "markdown",
   "metadata": {},
   "source": [
    "As the number of bootstrap sample goes to $\\infty$, it will get even closer"
   ]
  }
 ],
 "metadata": {
  "kernelspec": {
   "display_name": "R",
   "language": "R",
   "name": "ir"
  },
  "language_info": {
   "codemirror_mode": "r",
   "file_extension": ".r",
   "mimetype": "text/x-r-source",
   "name": "R",
   "pygments_lexer": "r",
   "version": "3.5.0"
  }
 },
 "nbformat": 4,
 "nbformat_minor": 2
}
