{
 "cells": [
  {
   "cell_type": "code",
   "execution_count": 76,
   "metadata": {},
   "outputs": [],
   "source": [
    "set.seed(1)\n",
    "S <- 10000 #number of samples\n",
    "n <- 50 #number of observations per sample\n",
    "\n",
    "b0 <- 2\n",
    "b1 <- 3\n",
    "b2 <- 0.9\n",
    "\n",
    "e <- replicate(S,rnorm(n)) #draw S samples\n",
    "\n",
    "x <- 1:n\n",
    "\n",
    "y<-matrix(,n,S)\n",
    "y[1,]<-b0 + b1*x + e[1,] # generate the first value\n",
    "for (t in 2:n){ #loop over all observtions\n",
    "    y[t,]<- b0 + b1*x[t] +b2*y[t-1,]+ e[t,] # generate succesive value for y\n",
    "    }"
   ]
  },
  {
   "cell_type": "code",
   "execution_count": 77,
   "metadata": {},
   "outputs": [
    {
     "data": {
      "text/plain": [
       "\n",
       "Call:\n",
       "lm(formula = y[2:n, 1] ~ x[2:n] + y[1:(n - 1), 1])\n",
       "\n",
       "Residuals:\n",
       "     Min       1Q   Median       3Q      Max \n",
       "-2.32920 -0.45574 -0.00961  0.60252  1.37291 \n",
       "\n",
       "Coefficients:\n",
       "                Estimate Std. Error t value Pr(>|t|)    \n",
       "(Intercept)     2.373099   0.633518   3.746    5e-04 ***\n",
       "x[2:n]          2.961767   0.108169  27.381   <2e-16 ***\n",
       "y[1:(n - 1), 1] 0.901348   0.004069 221.518   <2e-16 ***\n",
       "---\n",
       "Signif. codes:  0 ‘***’ 0.001 ‘**’ 0.01 ‘*’ 0.05 ‘.’ 0.1 ‘ ’ 1\n",
       "\n",
       "Residual standard error: 0.8494 on 46 degrees of freedom\n",
       "Multiple R-squared:      1,\tAdjusted R-squared:      1 \n",
       "F-statistic: 4.92e+06 on 2 and 46 DF,  p-value: < 2.2e-16\n"
      ]
     },
     "metadata": {},
     "output_type": "display_data"
    }
   ],
   "source": [
    "lm.fit=lm(y[2:n,1]~x[2:n]+y[1:(n-1),1])\n",
    "summary(lm.fit)"
   ]
  },
  {
   "cell_type": "code",
   "execution_count": 83,
   "metadata": {},
   "outputs": [
    {
     "data": {
      "text/html": [
       "0.498018149889377"
      ],
      "text/latex": [
       "0.498018149889377"
      ],
      "text/markdown": [
       "0.498018149889377"
      ],
      "text/plain": [
       "[1] 0.4980181"
      ]
     },
     "metadata": {},
     "output_type": "display_data"
    },
    {
     "data": {
      "text/html": [
       "0.0943258786326677"
      ],
      "text/latex": [
       "0.0943258786326677"
      ],
      "text/markdown": [
       "0.0943258786326677"
      ],
      "text/plain": [
       "[1] 0.09432588"
      ]
     },
     "metadata": {},
     "output_type": "display_data"
    },
    {
     "data": {
      "text/html": [
       "0.00367136791567364"
      ],
      "text/latex": [
       "0.00367136791567364"
      ],
      "text/markdown": [
       "0.00367136791567364"
      ],
      "text/plain": [
       "[1] 0.003671368"
      ]
     },
     "metadata": {},
     "output_type": "display_data"
    }
   ],
   "source": [
    "bh=matrix(,3,S) #initialize matrix to store estimates of beta\n",
    "reject=rep(0,S,1)\n",
    "for (s in 1:S){\n",
    "    lm.fs.fit=lm(y[2:n,s]~x[2:n]+y[1:(n-1),s]) # estimate the linear model on the sample s.\n",
    "    bh[1:3,s] <- coef(lm.fs.fit)   #store the estimates \n",
    "    reject[s] = (abs((summary(lm.fs.fit)$coef[3,1]-0.9) / summary(lm.fs.fit)$coef[3,2] )>qt(.975,n-4)) \n",
    "}\n",
    "\n",
    "sd(bh[1,])\n",
    "sd(bh[2,])\n",
    "sd(bh[3,])"
   ]
  },
  {
   "cell_type": "code",
   "execution_count": 84,
   "metadata": {},
   "outputs": [
    {
     "data": {
      "text/html": [
       "0.0509"
      ],
      "text/latex": [
       "0.0509"
      ],
      "text/markdown": [
       "0.0509"
      ],
      "text/plain": [
       "[1] 0.0509"
      ]
     },
     "metadata": {},
     "output_type": "display_data"
    }
   ],
   "source": [
    "mean(reject)"
   ]
  },
  {
   "cell_type": "code",
   "execution_count": 60,
   "metadata": {},
   "outputs": [],
   "source": [
    "residuals <-lm.fit$residuals\n",
    "\n",
    "B <- 9999 #number of samples\n",
    "ts=matrix(,3,B) #initialize matrix to store test statistics from linear regression\n",
    "\n",
    "for (b in 1:B){\n",
    "    e.bs <-sample(residuals, replace=TRUE) #for each loop, generate a new sample of residuals WITH REPLACEMENT\n",
    "    \n",
    "    y.bs<-rep(0,n,S)\n",
    "    y.bs[1]<-b0 + b1*x[1] + e.bs[1] # generate the first value (i.e. assume y(0)=0)\n",
    "    for (t in 2:n){ #loop over all observtions\n",
    "        y.bs[t]<- b0 + b1*x[t] + 0.9*y.bs[t-1] + e.bs[t] # generate succesive value for y under null hypothesis of beta_2=0.9!\n",
    "    }\n",
    "    \n",
    "    lm.bs.fit=lm(y.bs[2:n]~x[2:n]+y.bs[1:(n-1)]) # estimate the linear model on the bootstrapped sample.\n",
    "    ts[1:3,b] <- summary(lm.bs.fit)$coefficient[,3]  #store the t-statistics from this sample \n",
    "}"
   ]
  },
  {
   "cell_type": "code",
   "execution_count": 62,
   "metadata": {},
   "outputs": [
    {
     "data": {
      "text/html": [
       "<strong>97.5%:</strong> 399.600256740595"
      ],
      "text/latex": [
       "\\textbf{97.5\\textbackslash{}\\%:} 399.600256740595"
      ],
      "text/markdown": [
       "**97.5%:** 399.600256740595"
      ],
      "text/plain": [
       "   97.5% \n",
       "399.6003 "
      ]
     },
     "metadata": {},
     "output_type": "display_data"
    },
    {
     "data": {
      "text/html": [
       "<strong>2.5%:</strong> 297.258714584525"
      ],
      "text/latex": [
       "\\textbf{2.5\\textbackslash{}\\%:} 297.258714584525"
      ],
      "text/markdown": [
       "**2.5%:** 297.258714584525"
      ],
      "text/plain": [
       "    2.5% \n",
       "297.2587 "
      ]
     },
     "metadata": {},
     "output_type": "display_data"
    }
   ],
   "source": [
    "quantile(ts[3,],0.975)\n",
    "quantile(ts[3,],0.025)"
   ]
  },
  {
   "cell_type": "code",
   "execution_count": 63,
   "metadata": {},
   "outputs": [
    {
     "data": {
      "text/html": [
       "1.98421695158642"
      ],
      "text/latex": [
       "1.98421695158642"
      ],
      "text/markdown": [
       "1.98421695158642"
      ],
      "text/plain": [
       "[1] 1.984217"
      ]
     },
     "metadata": {},
     "output_type": "display_data"
    },
    {
     "data": {
      "text/html": [
       "-1.98421695158642"
      ],
      "text/latex": [
       "-1.98421695158642"
      ],
      "text/markdown": [
       "-1.98421695158642"
      ],
      "text/plain": [
       "[1] -1.984217"
      ]
     },
     "metadata": {},
     "output_type": "display_data"
    }
   ],
   "source": [
    "qt(0.975,n-1) #the 97.5% from the t-distribution\n",
    "qt(0.025,n-1)"
   ]
  },
  {
   "cell_type": "code",
   "execution_count": 64,
   "metadata": {},
   "outputs": [
    {
     "data": {
      "text/html": [
       "0.5998599859986"
      ],
      "text/latex": [
       "0.5998599859986"
      ],
      "text/markdown": [
       "0.5998599859986"
      ],
      "text/plain": [
       "[1] 0.59986"
      ]
     },
     "metadata": {},
     "output_type": "display_data"
    }
   ],
   "source": [
    "tstat <- summary(lm.fit)$coefficient[3,3] #the original t-stat\n",
    "\n",
    "mean(ts[3,]> tstat) #what proportion of bootstrap test statistics lie above the original test statistic?"
   ]
  },
  {
   "cell_type": "code",
   "execution_count": null,
   "metadata": {},
   "outputs": [],
   "source": []
  }
 ],
 "metadata": {
  "kernelspec": {
   "display_name": "R",
   "language": "R",
   "name": "ir"
  },
  "language_info": {
   "codemirror_mode": "r",
   "file_extension": ".r",
   "mimetype": "text/x-r-source",
   "name": "R",
   "pygments_lexer": "r",
   "version": "3.5.0"
  }
 },
 "nbformat": 4,
 "nbformat_minor": 2
}
